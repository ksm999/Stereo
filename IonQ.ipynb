{
 "cells": [
  {
   "cell_type": "code",
   "execution_count": 9,
   "metadata": {},
   "outputs": [],
   "source": [
    "from qiskit_ionq import IonQProvider\n",
    "provider = IonQProvider(\"\")"
   ]
  },
  {
   "cell_type": "code",
   "execution_count": 2,
   "metadata": {},
   "outputs": [
    {
     "name": "stdout",
     "output_type": "stream",
     "text": [
      "[<IonQSimulatorBackend('ionq_simulator')>, <IonQQPUBackend('ionq_qpu')>]\n"
     ]
    }
   ],
   "source": [
    "# Show all backends:\n",
    "print(provider.backends())"
   ]
  },
  {
   "cell_type": "code",
   "execution_count": 3,
   "metadata": {},
   "outputs": [],
   "source": [
    "# Get IonQ's simulator backend:\n",
    "simulator_backend = provider.get_backend(\"ionq_simulator\")"
   ]
  },
  {
   "cell_type": "code",
   "execution_count": 4,
   "metadata": {},
   "outputs": [],
   "source": [
    "import qiskit\n",
    "import numpy as np\n",
    "from qiskit.visualization import plot_bloch_vector, plot_bloch_multivector"
   ]
  },
  {
   "cell_type": "code",
   "execution_count": 11,
   "metadata": {},
   "outputs": [
    {
     "data": {
      "image/png": "[encoded data removed]",
      "text/plain": [
       "<Figure size 298.28x535.111 with 1 Axes>"
      ]
     },
     "execution_count": 11,
     "metadata": {},
     "output_type": "execute_result"
    }
   ],
   "source": [
    "from qiskit import QuantumCircuit\n",
    "from qiskit import QuantumRegister\n",
    "\n",
    "pixel = QuantumRegister(size=4, name='Pixel')\n",
    "rotation = QuantumRegister(size=1, name='Rotation')\n",
    "color = QuantumRegister(size=1,name=\"Color Space\")\n",
    "\n",
    "qc = QuantumCircuit(pixel,rotation,color)\n",
    "qc.draw('mpl')"
   ]
  },
  {
   "cell_type": "code",
   "execution_count": 13,
   "metadata": {},
   "outputs": [
    {
     "data": {
      "image/png": "[encoded data removed]",
      "text/plain": [
       "<Figure size 454.517x284.278 with 1 Axes>"
      ]
     },
     "execution_count": 13,
     "metadata": {},
     "output_type": "execute_result"
    }
   ],
   "source": [
    "from qiskit import QuantumCircuit\n",
    "\n",
    "# Create a basic Bell State.\n",
    "qc = QuantumCircuit(2, 2) # 2 qubits, 2 bits\n",
    "qc.h(0)\n",
    "qc.cx(0, 1)\n",
    "\n",
    "# Measure and put the result into the two bits.\n",
    "qc.measure([0, 1], [0, 1])\n",
    "\n",
    "# Display circuit.\n",
    "qc.draw('mpl')"
   ]
  },
  {
   "cell_type": "code",
   "execution_count": 16,
   "metadata": {},
   "outputs": [
    {
     "name": "stdout",
     "output_type": "stream",
     "text": [
      "{'00': 4930, '11': 5070}\n"
     ]
    }
   ],
   "source": [
    "from qiskit.providers.jobstatus import JobStatus\n",
    "\n",
    "\n",
    "# Run the circuit on IonQ's platform:\n",
    "job = simulator_backend.run(qc, shots=10000) \n",
    "\n",
    "# Print the counts\n",
    "print(job.get_counts())"
   ]
  },
  {
   "cell_type": "code",
   "execution_count": 17,
   "metadata": {},
   "outputs": [
    {
     "name": "stdout",
     "output_type": "stream",
     "text": [
      "{'00': 0.5, '11': 0.5}\n"
     ]
    }
   ],
   "source": [
    "# The simulator provides the ideal probabilities from the circuit, and the provider\n",
    "# creates “counts” by randomly sampling from these probabilities. The raw (“true”)\n",
    "# probabilities are also accessible by calling get_probabilities():\n",
    "print(job.get_probabilities())"
   ]
  },
  {
   "cell_type": "code",
   "execution_count": 18,
   "metadata": {},
   "outputs": [],
   "source": [
    "qpu_backend = provider.get_backend(\"ionq_qpu.harmony\")\n",
    "qpu_job = qpu_backend.run(qc) # if you don’t pass a shots kwarg, it defaults to 1024"
   ]
  },
  {
   "cell_type": "code",
   "execution_count": 19,
   "metadata": {},
   "outputs": [
    {
     "name": "stdout",
     "output_type": "stream",
     "text": [
      "Job status is JobStatus.QUEUED\n",
      "Job status is JobStatus.QUEUED\n",
      "Job status is JobStatus.QUEUED\n",
      "Job status is JobStatus.QUEUED\n",
      "Job status is JobStatus.QUEUED\n",
      "Job status is JobStatus.QUEUED\n",
      "Job status is JobStatus.QUEUED\n",
      "Job status is JobStatus.QUEUED\n",
      "Job status is JobStatus.QUEUED\n",
      "Job status is JobStatus.QUEUED\n",
      "Job status is JobStatus.QUEUED\n",
      "Job status is JobStatus.QUEUED\n",
      "Job status is JobStatus.QUEUED\n",
      "Job status is JobStatus.QUEUED\n",
      "Job status is JobStatus.QUEUED\n",
      "Job status is JobStatus.QUEUED\n",
      "Job status is JobStatus.QUEUED\n",
      "Job status is JobStatus.QUEUED\n",
      "Job status is JobStatus.QUEUED\n",
      "Job status is JobStatus.QUEUED\n",
      "Job status is JobStatus.QUEUED\n",
      "Job status is JobStatus.QUEUED\n",
      "Job status is JobStatus.QUEUED\n",
      "Job status is JobStatus.QUEUED\n",
      "Job status is JobStatus.QUEUED\n",
      "Job status is JobStatus.QUEUED\n",
      "Job status is JobStatus.QUEUED\n",
      "Job status is JobStatus.QUEUED\n",
      "Job status is JobStatus.QUEUED\n",
      "Job status is JobStatus.QUEUED\n",
      "Job status is JobStatus.QUEUED\n",
      "Job status is JobStatus.QUEUED\n",
      "Job status is JobStatus.QUEUED\n",
      "Job status is JobStatus.QUEUED\n",
      "Job status is JobStatus.QUEUED\n",
      "Job status is JobStatus.QUEUED\n",
      "Job status is JobStatus.QUEUED\n",
      "Job status is JobStatus.QUEUED\n",
      "Job status is JobStatus.QUEUED\n",
      "Job status is JobStatus.QUEUED\n",
      "Job status is JobStatus.QUEUED\n",
      "Job status is JobStatus.QUEUED\n",
      "Job status is JobStatus.QUEUED\n",
      "Job status is JobStatus.QUEUED\n",
      "Job status is JobStatus.QUEUED\n",
      "Job status is JobStatus.QUEUED\n",
      "Job status is JobStatus.QUEUED\n",
      "Job status is JobStatus.QUEUED\n",
      "Job status is JobStatus.QUEUED\n",
      "Job status is JobStatus.QUEUED\n",
      "Job status is JobStatus.QUEUED\n",
      "Job status is JobStatus.QUEUED\n",
      "Job status is JobStatus.QUEUED\n",
      "Job status is JobStatus.QUEUED\n",
      "Job status is JobStatus.QUEUED\n",
      "Job status is JobStatus.QUEUED\n",
      "Job status is JobStatus.QUEUED\n",
      "Job status is JobStatus.QUEUED\n",
      "Job status is JobStatus.QUEUED\n",
      "Job status is JobStatus.QUEUED\n",
      "Job status is JobStatus.QUEUED\n",
      "Job status is JobStatus.QUEUED\n",
      "Job status is JobStatus.QUEUED\n",
      "Job status is JobStatus.QUEUED\n",
      "Job status is JobStatus.QUEUED\n"
     ]
    },
    {
     "ename": "KeyboardInterrupt",
     "evalue": "",
     "output_type": "error",
     "traceback": [
      "\u001b[1;31m---------------------------------------------------------------------------\u001b[0m",
      "\u001b[1;31mKeyboardInterrupt\u001b[0m                         Traceback (most recent call last)",
      "Cell \u001b[1;32mIn[19], line 6\u001b[0m\n\u001b[0;32m      4\u001b[0m \u001b[38;5;28;01mwhile\u001b[39;00m qpu_job\u001b[38;5;241m.\u001b[39mstatus() \u001b[38;5;129;01mis\u001b[39;00m \u001b[38;5;129;01mnot\u001b[39;00m JobStatus\u001b[38;5;241m.\u001b[39mDONE:\n\u001b[0;32m      5\u001b[0m \t\u001b[38;5;28mprint\u001b[39m(\u001b[38;5;124m\"\u001b[39m\u001b[38;5;124mJob status is\u001b[39m\u001b[38;5;124m\"\u001b[39m, qpu_job\u001b[38;5;241m.\u001b[39mstatus() )\n\u001b[1;32m----> 6\u001b[0m \t\u001b[43mtime\u001b[49m\u001b[38;5;241;43m.\u001b[39;49m\u001b[43msleep\u001b[49m\u001b[43m(\u001b[49m\u001b[38;5;241;43m60\u001b[39;49m\u001b[43m)\u001b[49m\n\u001b[0;32m      8\u001b[0m \u001b[38;5;66;03m# grab a coffee! This can take up to a few minutes.\u001b[39;00m\n\u001b[0;32m      9\u001b[0m \u001b[38;5;66;03m# once we break out of that while loop, we know our job is finished\u001b[39;00m\n\u001b[0;32m     10\u001b[0m \u001b[38;5;28mprint\u001b[39m(\u001b[38;5;124m\"\u001b[39m\u001b[38;5;124mJob status is\u001b[39m\u001b[38;5;124m\"\u001b[39m, qpu_job\u001b[38;5;241m.\u001b[39mstatus() )\n",
      "\u001b[1;31mKeyboardInterrupt\u001b[0m: "
     ]
    }
   ],
   "source": [
    "from qiskit.providers.jobstatus import JobStatus\n",
    "import time\n",
    "# Check if job is done\n",
    "while qpu_job.status() is not JobStatus.DONE:\n",
    "\tprint(\"Job status is\", qpu_job.status() )\n",
    "\ttime.sleep(60)\n",
    "\n",
    "# grab a coffee! This can take up to a few minutes.\n",
    "# once we break out of that while loop, we know our job is finished\n",
    "print(\"Job status is\", qpu_job.status() )\n",
    "print(qpu_job.get_counts()) # these counts are the “true” counts from the actual QPU Run"
   ]
  },
  {
   "cell_type": "code",
   "execution_count": null,
   "metadata": {},
   "outputs": [],
   "source": [
    "# for ease of use, the output probabilities (counts/shots) are still available:\n",
    "print(qpu_job.get_probabilities())"
   ]
  },
  {
   "cell_type": "code",
   "execution_count": 1,
   "metadata": {},
   "outputs": [],
   "source": [
    "from qiskit import QuantumRegister, ClassicalRegister\n",
    "from qiskit import QuantumCircuit, Aer\n",
    "from qiskit import transpile, assemble\n",
    "from qiskit.visualization import plot_histogram\n",
    "import matplotlib.pyplot as plt\n",
    "import numpy as np\n",
    "import math\n",
    "\n",
    "\n",
    "#from ibm_washington_config import coupling_map, basis_gates\n",
    "#from ionq_config import coupling_map, basis_gates"
   ]
  },
  {
   "cell_type": "code",
   "execution_count": 2,
   "metadata": {},
   "outputs": [],
   "source": [
    "from qiskit_aer.aerprovider import AerProvider\n"
   ]
  },
  {
   "cell_type": "code",
   "execution_count": 11,
   "metadata": {},
   "outputs": [
    {
     "data": {
      "image/png": "[encoded data removed]",
      "text/plain": [
       "<Figure size 640x480 with 1 Axes>"
      ]
     },
     "metadata": {},
     "output_type": "display_data"
    }
   ],
   "source": [
    "image = np.random.uniform(low=0, high=255, size=(16,16)).astype(int)\n",
    "plt.imshow(image, cmap='gray')\n",
    "plt.title('Image')\n",
    "plt.show()"
   ]
  },
  {
   "cell_type": "code",
   "execution_count": 12,
   "metadata": {},
   "outputs": [],
   "source": [
    "input_im = image.copy().flatten()\n",
    "thetas = np.interp(input_im, (0, 256), (0, np.pi/2))\n",
    "coord_q_num = int(np.ceil(math.log(len(input_im), 2)))"
   ]
  },
  {
   "cell_type": "code",
   "execution_count": 13,
   "metadata": {},
   "outputs": [
    {
     "name": "stderr",
     "output_type": "stream",
     "text": [
      "C:\\Users\\HCI\\AppData\\Local\\Temp\\ipykernel_1892\\2498201748.py:8: DeprecationWarning: The method ``qiskit.circuit.quantumcircuit.QuantumCircuit.i()`` is deprecated as of qiskit 0.45.0. It will be removed no earlier than 3 months after the release date. Use QuantumCircuit.id as direct replacement.\n",
      "  qc_image.i(c)\n"
     ]
    },
    {
     "data": {
      "text/plain": [
       "<qiskit.circuit.instructionset.InstructionSet at 0x25f002c5390>"
      ]
     },
     "execution_count": 13,
     "metadata": {},
     "output_type": "execute_result"
    }
   ],
   "source": [
    "O = QuantumRegister(coord_q_num, 'coordinates')\n",
    "c = QuantumRegister(1,'c_reg')\n",
    "cr = ClassicalRegister(O.size+c.size, \"cl_reg\")\n",
    "\n",
    "qc_image = QuantumCircuit(c, O, cr)\n",
    "num_qubits = qc_image.num_qubits\n",
    "input_im = image.copy().flatten()\n",
    "qc_image.i(c)\n",
    "qc_image.h(O)\n",
    "\n",
    "controls_ = []\n",
    "for i, _ in enumerate(O):\n",
    "    controls_.extend([O[i]])\n",
    "\n",
    "for i, theta in enumerate(thetas):\n",
    "    qubit_index_bin = \"{0:b}\".format(i).zfill(coord_q_num)\n",
    "    \n",
    "    for k, qub_ind in enumerate(qubit_index_bin):\n",
    "        if int(qub_ind):\n",
    "            qc_image.x(O[k])\n",
    "            \n",
    "    # qc_image.barrier()\n",
    "    # for coord_or_intns in (0,1):\n",
    "    qc_image.mcry(theta=2*theta,\n",
    "                  q_controls=controls_,\n",
    "                  q_target=c[0])\n",
    "\n",
    "    # qc_image.barrier()\n",
    "    for k, qub_ind in enumerate(qubit_index_bin):\n",
    "        if int(qub_ind):\n",
    "            qc_image.x(O[k])\n",
    "           \n",
    "    # qc_image.barrier()\n",
    "\n",
    "qc_image.measure(list(reversed(range(qc_image.num_qubits))), list(range(cr.size)))"
   ]
  },
  {
   "cell_type": "code",
   "execution_count": 14,
   "metadata": {},
   "outputs": [
    {
     "name": "stdout",
     "output_type": "stream",
     "text": [
      "depth is 2274, # of qubits is 9\n"
     ]
    }
   ],
   "source": [
    "print(\"depth is {}, # of qubits is {}\".format(qc_image.depth(), qc_image.num_qubits))"
   ]
  },
  {
   "cell_type": "code",
   "execution_count": 15,
   "metadata": {},
   "outputs": [
    {
     "name": "stdout",
     "output_type": "stream",
     "text": [
      "depth is 2047\n"
     ]
    }
   ],
   "source": [
    "wash_qc = transpile(circuits=qc_image)\n",
    "print(\"depth is {}\".format(wash_qc.depth()))\n",
    "# wash_qc.draw()"
   ]
  },
  {
   "cell_type": "code",
   "execution_count": 8,
   "metadata": {},
   "outputs": [
    {
     "name": "stderr",
     "output_type": "stream",
     "text": [
      "C:\\Users\\HCI\\AppData\\Local\\Temp\\ipykernel_1892\\4293248132.py:4: DeprecationWarning: Using a qobj for run() is deprecated as of qiskit-aer 0.9.0 and will be removed no sooner than 3 months from that release date. Transpiled circuits should now be passed directly using `backend.run(circuits, **run_options).\n",
      "  job_oqim = aer_sim.run(qobj)\n"
     ]
    },
    {
     "name": "stdout",
     "output_type": "stream",
     "text": [
      "[154, 45, 49, 0, 189, 72, 40, 133, 35, 28, 196, 27, 191, 18, 33, 256, 44, 0, 135, 179, 256, 0, 235, 152, 256, 61, 0, 144, 256, 214, 0, 173, 78, 102, 55, 94, 215, 41, 130, 227, 58, 112, 0, 57, 126, 162, 84, 58, 156, 192, 41, 68, 256, 235, 185, 164, 49, 61, 58, 130, 256, 139, 135, 131, 96, 115, 161, 209, 141, 87, 102, 149, 238, 82, 69, 138, 224, 131, 124, 237, 31, 48, 124, 38, 78, 180, 223, 256, 68, 236, 56, 190, 238, 179, 210, 72, 256, 222, 190, 256, 42, 221, 256, 72, 147, 228, 0, 0, 0, 198, 35, 138, 23, 19, 129, 17, 111, 66, 124, 0, 97, 155, 117, 224, 196, 210, 103, 85, 36, 32, 48, 95, 137, 207, 27, 0, 229, 132, 150, 179, 238, 74, 229, 256, 32, 107, 227, 137, 238, 166, 210, 71, 83, 123, 110, 216, 165, 148, 238, 51, 169, 151, 173, 98, 147, 210, 0, 49, 215, 149, 0, 167, 123, 154, 85, 194, 24, 44, 32, 0, 230, 141, 200, 165, 0, 165, 162, 0, 114, 109, 236, 86, 256, 106, 160, 122, 118, 256, 164, 72, 129, 0, 28, 0, 127, 256, 256, 19, 110, 131, 101, 103, 173, 183, 204, 144, 202, 187, 94, 82, 256, 97, 150, 140, 38, 121, 87, 194, 41, 0, 177, 80, 179, 41, 231, 153, 167, 222, 111, 229, 30, 256, 49, 84, 172, 76, 120, 157, 234, 41, 162, 90, 74, 119, 256, 19] \n",
      " [167  42  54  20 192  80  38 115  35  24 202  15 194  37  27 254  52   4\n",
      " 146 187 252  16 213 145 250  53  19 148 236 220  25 173  73  98  58  87\n",
      " 221  55 118 217  63 110  17  60 140 177  81  55 150 190  53  81 243 224\n",
      " 194 154  58  67  45 130 254 144 134 135  98 108 173 202 149  93 100 153\n",
      " 220  81  75 127 239 131 117 242  27  49 126  37  82 184 229 252  82 242\n",
      "  43 205 247 165 218  72 245 230 209 248  47 228 251  78 142 235  33   6\n",
      "  10 216  34 147  44  29 130  22 123  60 122   2  97 168 107 231 181 205\n",
      " 111  82  41  48  58  86 141 212  20   0 215 142 138 172 234  70 227 248\n",
      "  38 123 230 136 245 172 225  69  83 120 120 222 178 143 241  50 154 135\n",
      " 161  99 156 211   2  54 211 157   7 162 108 155  93 203  44  52  51   0\n",
      " 227 131 191 161  16 146 155   0 101 104 232  79 233 111 145 117 105 250\n",
      " 158  79 128   3  22   4 126 246 245  24 110 128 106 126 182 174 199 121\n",
      " 188 198  81  84 237 106 171 128  42 133  90 204  37   7 172  72 196  41\n",
      " 219 163 168 234 113 222  40 248  51  94 181  65 120 146 235  59 160 108\n",
      "  64 117 234  22]\n"
     ]
    }
   ],
   "source": [
    "aer_sim = Aer.get_backend('aer_simulator')\n",
    "t_qc_image = transpile(qc_image, aer_sim)\n",
    "qobj = assemble(t_qc_image, shots=20000)\n",
    "job_oqim = aer_sim.run(qobj)\n",
    "\n",
    "result_oqim = job_oqim.result()\n",
    "counts_oqim = result_oqim.get_counts()\n",
    "classical_colors = []\n",
    "for i in range(0, len(input_im)):\n",
    "    color_list = []\n",
    "    for item in counts_oqim.items():\n",
    "        key = item[0]\n",
    "        amount = item[1]\n",
    "        bin_coord = key[1:]\n",
    "        int_coord = int(bin_coord, 2)\n",
    "        if int_coord == i:\n",
    "            color_list.append((key[0], amount))\n",
    "    color_amount = 0\n",
    "    for color, amount in color_list:\n",
    "        if not int(color):\n",
    "            color_amount=color_amount+amount\n",
    "    try:\n",
    "        color = np.arccos((color_amount/sum(n for _, n in color_list))**(1/2))\n",
    "        classical_colors.append(color)\n",
    "    except ZeroDivisionError:\n",
    "        print(\"ZeroDivisionError\")\n",
    "classical_colors = list(reversed(np.interp(classical_colors, (0, np.pi/2), (0, 256)).astype(int)))\n",
    "print(classical_colors, '\\n', input_im)"
   ]
  },
  {
   "cell_type": "code",
   "execution_count": 9,
   "metadata": {},
   "outputs": [],
   "source": [
    "def plot_to_compare(output_im, input_im):\n",
    "    plt.imshow(output_im, cmap = 'gray')\n",
    "    plt.title('measured image')\n",
    "    plt.show()\n",
    "    plt.imshow(input_im, cmap = 'gray')\n",
    "    plt.title('real image')\n",
    "    plt.show()"
   ]
  },
  {
   "cell_type": "code",
   "execution_count": 10,
   "metadata": {},
   "outputs": [
    {
     "data": {
      "image/png": "[encoded data removed]",
      "text/plain": [
       "<Figure size 640x480 with 1 Axes>"
      ]
     },
     "metadata": {},
     "output_type": "display_data"
    },
    {
     "data": {
      "image/png": "[encoded data removed]",
      "text/plain": [
       "<Figure size 640x480 with 1 Axes>"
      ]
     },
     "metadata": {},
     "output_type": "display_data"
    }
   ],
   "source": [
    "plot_to_compare(np.array(classical_colors).reshape(image.shape), image)"
   ]
  },
  {
   "cell_type": "code",
   "execution_count": 16,
   "metadata": {},
   "outputs": [],
   "source": [
    "from qiskit_ionq import IonQProvider\n",
    "provider = IonQProvider(\"5sdYzS0yK6hBBLUu1pCCrYVgzw2txLiw\")"
   ]
  },
  {
   "cell_type": "code",
   "execution_count": 19,
   "metadata": {},
   "outputs": [],
   "source": [
    "simulator_backend = provider.get_backend(\"ionq_qpu.harmony\")"
   ]
  },
  {
   "cell_type": "code",
   "execution_count": 20,
   "metadata": {},
   "outputs": [
    {
     "ename": "AttributeError",
     "evalue": "'QasmQobj' object has no attribute 'data'",
     "output_type": "error",
     "traceback": [
      "\u001b[1;31m---------------------------------------------------------------------------\u001b[0m",
      "\u001b[1;31mAttributeError\u001b[0m                            Traceback (most recent call last)",
      "Cell \u001b[1;32mIn[20], line 4\u001b[0m\n\u001b[0;32m      2\u001b[0m t_qc_image \u001b[38;5;241m=\u001b[39m transpile(qc_image, simulator_backend)\n\u001b[0;32m      3\u001b[0m qobj \u001b[38;5;241m=\u001b[39m assemble(t_qc_image, shots\u001b[38;5;241m=\u001b[39m\u001b[38;5;241m20000\u001b[39m)\n\u001b[1;32m----> 4\u001b[0m job \u001b[38;5;241m=\u001b[39m \u001b[43msimulator_backend\u001b[49m\u001b[38;5;241;43m.\u001b[39;49m\u001b[43mrun\u001b[49m\u001b[43m(\u001b[49m\u001b[43mqobj\u001b[49m\u001b[43m)\u001b[49m \n\u001b[0;32m      5\u001b[0m result_oqim \u001b[38;5;241m=\u001b[39m job\u001b[38;5;241m.\u001b[39mresult()\n\u001b[0;32m      6\u001b[0m counts_oqim \u001b[38;5;241m=\u001b[39m result_oqim\u001b[38;5;241m.\u001b[39mget_counts()\n",
      "File \u001b[1;32m~\\AppData\\Local\\Packages\\PythonSoftwareFoundation.Python.3.11_qbz5n2kfra8p0\\LocalCache\\local-packages\\Python311\\site-packages\\qiskit_ionq\\ionq_backend.py:377\u001b[0m, in \u001b[0;36mIonQSimulatorBackend.run\u001b[1;34m(self, circuit, **kwargs)\u001b[0m\n\u001b[0;32m    362\u001b[0m \u001b[38;5;28;01mdef\u001b[39;00m \u001b[38;5;21mrun\u001b[39m(\u001b[38;5;28mself\u001b[39m, circuit, \u001b[38;5;241m*\u001b[39m\u001b[38;5;241m*\u001b[39mkwargs):\n\u001b[0;32m    363\u001b[0m \u001b[38;5;250m    \u001b[39m\u001b[38;5;124;03m\"\"\"Create and run a job on IonQ's Simulator Backend.\u001b[39;00m\n\u001b[0;32m    364\u001b[0m \n\u001b[0;32m    365\u001b[0m \u001b[38;5;124;03m    .. WARNING:\u001b[39;00m\n\u001b[1;32m   (...)\u001b[0m\n\u001b[0;32m    375\u001b[0m \u001b[38;5;124;03m        IonQJob: A reference to the job that was submitted.\u001b[39;00m\n\u001b[0;32m    376\u001b[0m \u001b[38;5;124;03m    \"\"\"\u001b[39;00m\n\u001b[1;32m--> 377\u001b[0m     \u001b[38;5;28;01mreturn\u001b[39;00m \u001b[38;5;28;43msuper\u001b[39;49m\u001b[43m(\u001b[49m\u001b[43m)\u001b[49m\u001b[38;5;241;43m.\u001b[39;49m\u001b[43mrun\u001b[49m\u001b[43m(\u001b[49m\u001b[43mcircuit\u001b[49m\u001b[43m,\u001b[49m\u001b[43m \u001b[49m\u001b[38;5;241;43m*\u001b[39;49m\u001b[38;5;241;43m*\u001b[39;49m\u001b[43mkwargs\u001b[49m\u001b[43m)\u001b[49m\n",
      "File \u001b[1;32m~\\AppData\\Local\\Packages\\PythonSoftwareFoundation.Python.3.11_qbz5n2kfra8p0\\LocalCache\\local-packages\\Python311\\site-packages\\qiskit_ionq\\ionq_backend.py:218\u001b[0m, in \u001b[0;36mIonQBackend.run\u001b[1;34m(self, circuit, **kwargs)\u001b[0m\n\u001b[0;32m    215\u001b[0m         \u001b[38;5;28;01mraise\u001b[39;00m \u001b[38;5;167;01mRuntimeError\u001b[39;00m(\u001b[38;5;124m\"\u001b[39m\u001b[38;5;124mMulti-experiment jobs are not supported!\u001b[39m\u001b[38;5;124m\"\u001b[39m)\n\u001b[0;32m    216\u001b[0m     circuit \u001b[38;5;241m=\u001b[39m circuit[\u001b[38;5;241m0\u001b[39m]\n\u001b[1;32m--> 218\u001b[0m \u001b[38;5;28;01mif\u001b[39;00m \u001b[38;5;129;01mnot\u001b[39;00m \u001b[38;5;28;43mself\u001b[39;49m\u001b[38;5;241;43m.\u001b[39;49m\u001b[43mhas_valid_mapping\u001b[49m\u001b[43m(\u001b[49m\u001b[43mcircuit\u001b[49m\u001b[43m)\u001b[49m:\n\u001b[0;32m    219\u001b[0m     warnings\u001b[38;5;241m.\u001b[39mwarn(\n\u001b[0;32m    220\u001b[0m         \u001b[38;5;124mf\u001b[39m\u001b[38;5;124m\"\u001b[39m\u001b[38;5;124mCircuit \u001b[39m\u001b[38;5;132;01m{\u001b[39;00mcircuit\u001b[38;5;241m.\u001b[39mname\u001b[38;5;132;01m}\u001b[39;00m\u001b[38;5;124m is not measuring any qubits\u001b[39m\u001b[38;5;124m\"\u001b[39m,\n\u001b[0;32m    221\u001b[0m         \u001b[38;5;167;01mUserWarning\u001b[39;00m,\n\u001b[0;32m    222\u001b[0m         stacklevel\u001b[38;5;241m=\u001b[39m\u001b[38;5;241m2\u001b[39m,\n\u001b[0;32m    223\u001b[0m     )\n\u001b[0;32m    225\u001b[0m \u001b[38;5;28;01mfor\u001b[39;00m kwarg \u001b[38;5;129;01min\u001b[39;00m kwargs:\n",
      "File \u001b[1;32m~\\AppData\\Local\\Packages\\PythonSoftwareFoundation.Python.3.11_qbz5n2kfra8p0\\LocalCache\\local-packages\\Python311\\site-packages\\qiskit_ionq\\ionq_backend.py:279\u001b[0m, in \u001b[0;36mIonQBackend.has_valid_mapping\u001b[1;34m(self, circuit)\u001b[0m\n\u001b[0;32m    268\u001b[0m \u001b[38;5;250m\u001b[39m\u001b[38;5;124;03m\"\"\"checks if the circuit has at least one\u001b[39;00m\n\u001b[0;32m    269\u001b[0m \u001b[38;5;124;03mvalid qubit -> bit measurement.\u001b[39;00m\n\u001b[0;32m    270\u001b[0m \n\u001b[1;32m   (...)\u001b[0m\n\u001b[0;32m    276\u001b[0m \u001b[38;5;124;03m    boolean: if the circuit has valid mappings\u001b[39;00m\n\u001b[0;32m    277\u001b[0m \u001b[38;5;124;03m\"\"\"\u001b[39;00m\n\u001b[0;32m    278\u001b[0m \u001b[38;5;66;03m# Check if a qubit is measured\u001b[39;00m\n\u001b[1;32m--> 279\u001b[0m \u001b[38;5;28;01mfor\u001b[39;00m instruction, _, cargs \u001b[38;5;129;01min\u001b[39;00m \u001b[43mcircuit\u001b[49m\u001b[38;5;241;43m.\u001b[39;49m\u001b[43mdata\u001b[49m:\n\u001b[0;32m    280\u001b[0m     \u001b[38;5;28;01mif\u001b[39;00m instruction\u001b[38;5;241m.\u001b[39mname \u001b[38;5;241m==\u001b[39m \u001b[38;5;124m\"\u001b[39m\u001b[38;5;124mmeasure\u001b[39m\u001b[38;5;124m\"\u001b[39m \u001b[38;5;129;01mand\u001b[39;00m \u001b[38;5;28mlen\u001b[39m(cargs):\n\u001b[0;32m    281\u001b[0m         \u001b[38;5;28;01mreturn\u001b[39;00m \u001b[38;5;28;01mTrue\u001b[39;00m\n",
      "\u001b[1;31mAttributeError\u001b[0m: 'QasmQobj' object has no attribute 'data'"
     ]
    }
   ],
   "source": [
    "simulator_backend = provider.get_backend(\"ionq_simulator\")\n",
    "t_qc_image = transpile(qc_image, simulator_backend)\n",
    "qobj = assemble(t_qc_image, shots=20000)\n",
    "job = simulator_backend.run(qobj) \n",
    "\n",
    "result_oqim = job.result()\n",
    "counts_oqim = result_oqim.get_counts()\n",
    "classical_colors = []\n",
    "for i in range(0, len(input_im)):\n",
    "    color_list = []\n",
    "    for item in counts_oqim.items():\n",
    "        key = item[0]\n",
    "        amount = item[1]\n",
    "        bin_coord = key[1:]\n",
    "        int_coord = int(bin_coord, 2)\n",
    "        if int_coord == i:\n",
    "            color_list.append((key[0], amount))\n",
    "    color_amount = 0\n",
    "    for color, amount in color_list:\n",
    "        if not int(color):\n",
    "            color_amount=color_amount+amount\n",
    "    try:\n",
    "        color = np.arccos((color_amount/sum(n for _, n in color_list))**(1/2))\n",
    "        classical_colors.append(color)\n",
    "    except ZeroDivisionError:\n",
    "        print(\"ZeroDivisionError\")\n",
    "classical_colors = list(reversed(np.interp(classical_colors, (0, np.pi/2), (0, 256)).astype(int)))\n",
    "print(classical_colors, '\\n', input_im)"
   ]
  }
 ],
 "metadata": {
  "kernelspec": {
   "display_name": "Python 3",
   "language": "python",
   "name": "python3"
  },
  "language_info": {
   "codemirror_mode": {
    "name": "ipython",
    "version": 3
   },
   "file_extension": ".py",
   "mimetype": "text/x-python",
   "name": "python",
   "nbconvert_exporter": "python",
   "pygments_lexer": "ipython3",
   "version": "3.11.7"
  }
 },
 "nbformat": 4,
 "nbformat_minor": 2
}
