{
 "cells": [
  {
   "cell_type": "code",
   "execution_count": 11,
   "metadata": {},
   "outputs": [],
   "source": [
    "import os\n",
    "import numpy as np\n",
    "from PIL import Image\n",
    "\n",
    "\n",
    "path_img = os.path.abspath('cat.jpg')\n",
    "\n",
    "path_proj = os.path.abspath('tac.jpg')\n",
    "\n",
    "w_proj = 400\n",
    "h_proj = 300\n",
    "\n",
    "offset_hor = 0 \n",
    "offset_ver = 0.4  \n",
    "\n",
    "scale = 1.5\n",
    "\n",
    "def get_point_on_sphere(point, r):\n",
    "\n",
    "    [x, y, z] = point\n",
    "    k = 2 * r**2 / (x**2 + y**2 + r**2) \n",
    "    return np.array([k * x, k * y, (k - 1) * r], dtype=np.float32)\n",
    "\n",
    "\n",
    "def get_pix_on_img(point, r, h_img, w_img):\n",
    "    [x, y, z] = point\n",
    "    if z > r:\n",
    "        z = r\n",
    "    row = np.arccos(z / r) / np.pi\n",
    "    col = np.arctan2(y, x) / 2 / np.pi + 0.5\n",
    "    row = round(row * h_img) % h_img\n",
    "    col = round(col * w_img) % w_img\n",
    "    return (row, col)\n",
    "\n",
    "\n",
    "def projection(pix_proj, r, h_img, w_img, h_proj,\n",
    "               w_proj: int):\n",
    "    (row, col) = pix_proj\n",
    "    x = row + (offset_ver - 0.5) * h_proj\n",
    "    y = col + (offset_hor - 0.5) * w_proj\n",
    "    z = 0\n",
    "    Q = np.array([x, y, z], dtype=np.float32)\n",
    "    P = get_point_on_sphere(Q, r)\n",
    "    return get_pix_on_img(P, r, h_img, w_img)\n",
    "\n",
    "\n",
    "if __name__ == '__main__':\n",
    "\n",
    "\n",
    "    path_img = os.path.join(os.path.abspath('cat'),\n",
    "                            path_img)\n",
    "    path_proj = os.path.join(os.path.abspath('cat'),\n",
    "                             path_proj)\n",
    "\n",
    "    arr_img = np.array(Image.open(path_img))\n",
    "    arr_proj = np.zeros((h_proj, w_proj, 3), dtype=np.uint8)\n",
    "\n",
    "    h_img = arr_img.shape[0]\n",
    "    w_img = arr_img.shape[1]\n",
    "\n",
    "    r = min(h_proj, w_proj) / 10 * scale \n",
    "\n",
    "    for pix_proj in np.ndindex(arr_proj.shape[:2]):\n",
    "        pix_img = projection(pix_proj, r, h_img, w_img, h_proj, w_proj)\n",
    "        arr_proj[pix_proj] = arr_img[pix_img]\n",
    "\n",
    "\n",
    "    Image.fromarray(arr_proj).show()  # 注释掉这行可以不弹出显示\n",
    "    # Image.fromarray(arr_proj).save(path_proj)  # 注释掉这行可以不输出文件"
   ]
  },
  {
   "cell_type": "code",
   "execution_count": 22,
   "metadata": {},
   "outputs": [],
   "source": [
    "def create_sphere(cx,cy,cz, r, resolution=360):\n",
    "    '''\n",
    "    create sphere with center (cx, cy, cz) and radius r\n",
    "    '''\n",
    "    phi = np.linspace(0, 2*np.pi, 2*resolution)\n",
    "    theta = np.linspace(0, np.pi, resolution)\n",
    "\n",
    "    theta, phi = np.meshgrid(theta, phi)\n",
    "    print(\"theta 2 = \", theta)\n",
    "    r_xy = r*np.sin(theta)\n",
    "    x = cx + np.cos(phi) * r_xy\n",
    "    y = cy + np.sin(phi) * r_xy\n",
    "    z = cz + r * np.cos(theta)\n",
    "\n",
    "    return np.stack([x,y,z])"
   ]
  },
  {
   "cell_type": "code",
   "execution_count": 24,
   "metadata": {},
   "outputs": [
    {
     "name": "stdout",
     "output_type": "stream",
     "text": [
      "theta 2 =  [[0.         0.00875095 0.01750191 ... 3.12409074 3.1328417  3.14159265]\n",
      " [0.         0.00875095 0.01750191 ... 3.12409074 3.1328417  3.14159265]\n",
      " [0.         0.00875095 0.01750191 ... 3.12409074 3.1328417  3.14159265]\n",
      " ...\n",
      " [0.         0.00875095 0.01750191 ... 3.12409074 3.1328417  3.14159265]\n",
      " [0.         0.00875095 0.01750191 ... 3.12409074 3.1328417  3.14159265]\n",
      " [0.         0.00875095 0.01750191 ... 3.12409074 3.1328417  3.14159265]]\n"
     ]
    },
    {
     "data": {
      "text/plain": [
       "array([[[ 0.00000000e+00,  8.75084278e-03,  1.75010154e-02, ...,\n",
       "          1.75010154e-02,  8.75084278e-03,  1.22464680e-16],\n",
       "        [ 0.00000000e+00,  8.75050864e-03,  1.75003472e-02, ...,\n",
       "          1.75003472e-02,  8.75050864e-03,  1.22460004e-16],\n",
       "        [ 0.00000000e+00,  8.74950627e-03,  1.74983425e-02, ...,\n",
       "          1.74983425e-02,  8.74950627e-03,  1.22445976e-16],\n",
       "        ...,\n",
       "        [ 0.00000000e+00,  8.74950627e-03,  1.74983425e-02, ...,\n",
       "          1.74983425e-02,  8.74950627e-03,  1.22445976e-16],\n",
       "        [ 0.00000000e+00,  8.75050864e-03,  1.75003472e-02, ...,\n",
       "          1.75003472e-02,  8.75050864e-03,  1.22460004e-16],\n",
       "        [ 0.00000000e+00,  8.75084278e-03,  1.75010154e-02, ...,\n",
       "          1.75010154e-02,  8.75084278e-03,  1.22464680e-16]],\n",
       "\n",
       "       [[ 0.00000000e+00,  0.00000000e+00,  0.00000000e+00, ...,\n",
       "          0.00000000e+00,  0.00000000e+00,  0.00000000e+00],\n",
       "        [ 0.00000000e+00,  7.64707468e-05,  1.52935638e-04, ...,\n",
       "          1.52935638e-04,  7.64707468e-05,  1.07017870e-18],\n",
       "        [ 0.00000000e+00,  1.52935654e-04,  3.05859596e-04, ...,\n",
       "          3.05859596e-04,  1.52935654e-04,  2.14027567e-18],\n",
       "        ...,\n",
       "        [ 0.00000000e+00, -1.52935654e-04, -3.05859596e-04, ...,\n",
       "         -3.05859596e-04, -1.52935654e-04, -2.14027567e-18],\n",
       "        [ 0.00000000e+00, -7.64707468e-05, -1.52935638e-04, ...,\n",
       "         -1.52935638e-04, -7.64707468e-05, -1.07017870e-18],\n",
       "        [ 0.00000000e+00, -2.14333832e-18, -4.28651250e-18, ...,\n",
       "         -4.28651250e-18, -2.14333832e-18, -2.99951957e-32]],\n",
       "\n",
       "       [[ 1.00000000e+00,  9.99961711e-01,  9.99846846e-01, ...,\n",
       "         -9.99846846e-01, -9.99961711e-01, -1.00000000e+00],\n",
       "        [ 1.00000000e+00,  9.99961711e-01,  9.99846846e-01, ...,\n",
       "         -9.99846846e-01, -9.99961711e-01, -1.00000000e+00],\n",
       "        [ 1.00000000e+00,  9.99961711e-01,  9.99846846e-01, ...,\n",
       "         -9.99846846e-01, -9.99961711e-01, -1.00000000e+00],\n",
       "        ...,\n",
       "        [ 1.00000000e+00,  9.99961711e-01,  9.99846846e-01, ...,\n",
       "         -9.99846846e-01, -9.99961711e-01, -1.00000000e+00],\n",
       "        [ 1.00000000e+00,  9.99961711e-01,  9.99846846e-01, ...,\n",
       "         -9.99846846e-01, -9.99961711e-01, -1.00000000e+00],\n",
       "        [ 1.00000000e+00,  9.99961711e-01,  9.99846846e-01, ...,\n",
       "         -9.99846846e-01, -9.99961711e-01, -1.00000000e+00]]])"
      ]
     },
     "execution_count": 24,
     "metadata": {},
     "output_type": "execute_result"
    }
   ],
   "source": [
    "create_sphere(0,0,0,1)"
   ]
  },
  {
   "cell_type": "code",
   "execution_count": null,
   "metadata": {},
   "outputs": [],
   "source": [
    "qc_h = QuantumCircuit(1)\n",
    "qc_h.h(0)\n",
    "state = Statevector.from_instruction(qc_h)\n",
    "plot_bloch_multivector(state)"
   ]
  },
  {
   "cell_type": "code",
   "execution_count": null,
   "metadata": {},
   "outputs": [],
   "source": [
    "import qiskit\n",
    "from qiskit import QuantumCircuit\n",
    "qc = QuantumCircuit(1)\n",
    "qc.h(0)\n",
    "qc.rz(2*pi/3,0)\n",
    "qc.rx(pi/5,0)\n",
    "\n",
    "state=Statevector.from_instruction(qc)\n",
    "plot_bloch_multivector(state)"
   ]
  }
 ],
 "metadata": {
  "kernelspec": {
   "display_name": "Python 3",
   "language": "python",
   "name": "python3"
  },
  "language_info": {
   "codemirror_mode": {
    "name": "ipython",
    "version": 3
   },
   "file_extension": ".py",
   "mimetype": "text/x-python",
   "name": "python",
   "nbconvert_exporter": "python",
   "pygments_lexer": "ipython3",
   "version": "3.11.6"
  }
 },
 "nbformat": 4,
 "nbformat_minor": 2
}
