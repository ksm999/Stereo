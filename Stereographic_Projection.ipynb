{
 "cells": [
  {
   "cell_type": "code",
   "execution_count": 8,
   "metadata": {},
   "outputs": [
    {
     "ename": "NameError",
     "evalue": "name '__file__' is not defined",
     "output_type": "error",
     "traceback": [
      "\u001b[1;31m---------------------------------------------------------------------------\u001b[0m",
      "\u001b[1;31mNameError\u001b[0m                                 Traceback (most recent call last)",
      "\u001b[1;32mc:\\Users\\admin\\Desktop\\Stereo\\Stereographic_Projection.ipynb 셀 1\u001b[0m line \u001b[0;36m5\n\u001b[0;32m      <a href='vscode-notebook-cell:/c%3A/Users/admin/Desktop/Stereo/Stereographic_Projection.ipynb#W0sZmlsZQ%3D%3D?line=0'>1</a>\u001b[0m \u001b[39m# Jupyter의 경우 python 과 다르게 __fine__ 출력을 하면 다음과 같이 정의되지 않았다고 오류가 난다.\u001b[39;00m\n\u001b[0;32m      <a href='vscode-notebook-cell:/c%3A/Users/admin/Desktop/Stereo/Stereographic_Projection.ipynb#W0sZmlsZQ%3D%3D?line=2'>3</a>\u001b[0m \u001b[39mimport\u001b[39;00m \u001b[39mos\u001b[39;00m\n\u001b[1;32m----> <a href='vscode-notebook-cell:/c%3A/Users/admin/Desktop/Stereo/Stereographic_Projection.ipynb#W0sZmlsZQ%3D%3D?line=4'>5</a>\u001b[0m \u001b[39mprint\u001b[39m(\u001b[39m__file__\u001b[39;49m)\n",
      "\u001b[1;31mNameError\u001b[0m: name '__file__' is not defined"
     ]
    }
   ],
   "source": [
    "# Jupyter의 경우 python 과 다르게 __fine__ 출력을 하면 다음과 같이 정의되지 않았다고 오류가 난다.\n",
    "\n",
    "import os\n",
    "\n",
    "print(__file__)"
   ]
  },
  {
   "cell_type": "code",
   "execution_count": 10,
   "metadata": {},
   "outputs": [
    {
     "data": {
      "text/plain": [
       "'c:\\\\Users\\\\admin\\\\Desktop\\\\Stereo'"
      ]
     },
     "execution_count": 10,
     "metadata": {},
     "output_type": "execute_result"
    }
   ],
   "source": [
    "# 따라서 os.path.abspath('')  절대경로를 이용하여 이미지 경로를 대입한다.\n",
    "\n",
    "import os \n",
    "os.path.abspath('')"
   ]
  },
  {
   "cell_type": "code",
   "execution_count": 11,
   "metadata": {},
   "outputs": [
    {
     "name": "stdout",
     "output_type": "stream",
     "text": [
      "c:\\Users\\admin\\Desktop\\Stereo\\cat.jpg\n"
     ]
    }
   ],
   "source": [
    "import os\n",
    "path_img = 'cat.jpg'\n",
    "path_img = os.path.join(os.path.abspath(''),\n",
    "                            path_img)\n",
    "print(path_img)"
   ]
  },
  {
   "cell_type": "code",
   "execution_count": 12,
   "metadata": {},
   "outputs": [],
   "source": [
    "# Introduction:\n",
    "import os\n",
    "\n",
    "import numpy as np\n",
    "from PIL import Image"
   ]
  },
  {
   "cell_type": "code",
   "execution_count": 13,
   "metadata": {},
   "outputs": [],
   "source": [
    "#!user/bin/env python\n",
    "# -*- coding:utf-8 -*-\n",
    "\n",
    "# --------------- 매개변수 부분 --------------- #\n",
    "\n",
    "# Original Image Path：\n",
    "path_img = 'cat.jpg'\n",
    "\n",
    "# Projection Image Path :\n",
    "path_proj = 'tac.jpg'\n",
    "\n",
    "# Projection Image Output Size (Unit: Pixel)\n",
    "w_proj = 400\n",
    "h_proj = 300\n",
    "\n",
    "# Offset(Unit : Percentage)\n",
    "# 비고 : 출력된 투영 이미지의 중심 위치를 조정\n",
    "offset_hor = 0  # Horizontal offset (positive to right）\n",
    "offset_ver = 0.4  # Vertical offset (positive downward)\n",
    "\n",
    "# Scaling multiple\n",
    "scale = 1.5\n",
    "\n",
    "# Angle of Rotation of Coordinate axis (좌표축의 회전 각도):\n",
    "# Note : Rotation is to obtain different spherical projection conditions (reason/chestnut head)\n",
    "# 회전은 서로 다른 구면 투영 상황을 얻기 위한 것이다. (밤머리)\n",
    "alpha = 0 * np.pi / 180  # Angle of Rotation aroun the x-axis\n",
    "beta = -5 * np.pi / 180  # Rotation angle around y-axis (around 150° to get chestnut head)\n",
    "gamma = 0 * np.pi / 180  # angle of rotation about z axis\n",
    "\n",
    "# --------------- 실현 --------------- #"
   ]
  },
  {
   "cell_type": "code",
   "execution_count": 14,
   "metadata": {},
   "outputs": [],
   "source": [
    "def get_point_on_sphere(point: np.ndarray, r: float) -> np.ndarray:\n",
    "    \"\"\" Calculate the coordinates of the intersection point P between a point Q on the z=0 plane\n",
    "    and a projection point D on the sphere\n",
    "\n",
    "    Args:\n",
    "        point (np.ndarray): point Q coordinate\n",
    "        r (float): sphere radius\n",
    "\n",
    "    Returns:\n",
    "        np.ndarray: Coordinates of the intersection point P on the sphere\n",
    "    \"\"\"\n",
    "    [x, y, z] = point\n",
    "    k = 2 * r**2 / (x**2 + y**2 + r**2)\n",
    "    # Derivation and simplification of the obtained coefficients (see README.md for the derivation process)\n",
    "    return np.array([k * x, k * y, (k - 1) * r], dtype=np.float32)\n",
    "\n",
    "\n",
    "def axis_rotate(point: np.ndarray, rot_mat: np.ndarray) -> np.ndarray:\n",
    "    \"\"\"Calculate the change of point P coordinate after rotation of coordinate system\n",
    "\n",
    "    Args:\n",
    "        point (np.ndarray): point P coordinate\n",
    "        rot_mat (np.ndarray): Rotation matrix (see README.md for derivation)\n",
    "\n",
    "    Returns:\n",
    "        np.ndarray: transformed point P coordinate\n",
    "    \"\"\"\n",
    "    return np.dot(rot_mat, point)\n",
    "\n",
    "\n",
    "def get_pix_on_img(point: np.ndarray, r: float, h_img: int,\n",
    "                   w_img: int) -> tuple:\n",
    "    \"\"\"The inverse process of spherical projection, calculating the coordinates of a point P on the sphere on the original image.\n",
    "\n",
    "    Args:\n",
    "        point (np.ndarray): point P coordinate\n",
    "        r (float): sphere radius\n",
    "        h_img (int): original image height\n",
    "        w_img (int): original image width\n",
    "\n",
    "    Returns:\n",
    "        tuple: Pixel coordinates corresponding to the original image\n",
    "    \"\"\"\n",
    "    [x, y, z] = point\n",
    "    if z > r:\n",
    "        z = r\n",
    "    row = np.arccos(z / r) / np.pi\n",
    "    col = np.arctan2(y, x) / 2 / np.pi + 0.5  # Adding 0.5 is moving the center of the image to the plane y=0.\n",
    "    # The coordinate range is restored to the original image size:\n",
    "    row = round(row * h_img) % h_img\n",
    "    col = round(col * w_img) % w_img\n",
    "    return (row, col)\n",
    "\n",
    "\n",
    "def projection(pix_proj: tuple, r: float, h_img: int, w_img: int, h_proj: int,\n",
    "               w_proj: int) -> tuple:\n",
    "    \"\"\"spherical projection\n",
    "\n",
    "    Args:\n",
    "        pix_proj (tuple): pixel coordinates on projected images\n",
    "        r (float): sphere radius\n",
    "        h_img (int): original image height\n",
    "        w_img (int): original image width\n",
    "        h_proj (int): projected image height\n",
    "        w_proj (int): projection width\n",
    "\n",
    "    Returns:\n",
    "        tuple: Pixel coordinates corresponding to the original image\n",
    "    \"\"\"\n",
    "    # The pixel point coordinate on the projection image is converted to 3D coordinate:\n",
    "    (row, col) = pix_proj\n",
    "    x = row + (offset_ver - 0.5) * h_proj\n",
    "    y = col + (offset_hor - 0.5) * w_proj\n",
    "    z = 0\n",
    "    Q = np.array([x, y, z], dtype=np.float32)\n",
    "    P = get_point_on_sphere(Q, r)\n",
    "    P = axis_rotate(P, rot_mat)\n",
    "    return get_pix_on_img(P, r, h_img, w_img)\n"
   ]
  },
  {
   "cell_type": "code",
   "execution_count": 15,
   "metadata": {},
   "outputs": [],
   "source": [
    "if __name__ == '__main__':\n",
    "    \n",
    "\n",
    "    path_img = os.path.join(os.path.abspath(''),\n",
    "                            path_img)\n",
    "    path_proj = os.path.join(os.path.abspath(''),\n",
    "                             path_proj)\n",
    "\n",
    "    arr_img = np.array(Image.open(path_img))\n",
    "    arr_proj = np.zeros((h_proj, w_proj, 3), dtype=np.uint8)\n",
    "\n",
    "    h_img = arr_img.shape[0]\n",
    "    w_img = arr_img.shape[1]\n",
    "\n",
    "    r = min(h_proj, w_proj) / 10 * scale  # The radius of the sphere affects how much content is presented on the projected image.\n",
    "\n",
    "    # It's always automatically formatted to look so ugly.\n",
    "    rot_mat = np.array([[\n",
    "        np.cos(gamma) * np.cos(beta),\n",
    "        np.cos(gamma) * np.sin(beta) * np.sin(alpha) -\n",
    "        np.sin(gamma) * np.cos(alpha),\n",
    "        np.cos(gamma) * np.sin(beta) * np.cos(alpha) +\n",
    "        np.sin(gamma) * np.sin(alpha)\n",
    "    ],\n",
    "                        [\n",
    "                            np.sin(gamma) * np.cos(beta),\n",
    "                            np.sin(gamma) * np.sin(beta) * np.sin(alpha) +\n",
    "                            np.cos(gamma) * np.cos(alpha),\n",
    "                            np.sin(gamma) * np.sin(beta) * np.cos(alpha) -\n",
    "                            np.cos(gamma) * np.sin(alpha)\n",
    "                        ],\n",
    "                        [\n",
    "                            -np.sin(beta),\n",
    "                            np.cos(beta) * np.sin(alpha),\n",
    "                            np.cos(beta) * np.cos(alpha)\n",
    "                        ]])\n",
    "\n",
    "    # That is, lay the target image on the xy plane (the center of the image is O, so pay attention to the range of coordinates)\n",
    "    # Through each pixel point, the coordinates of the intersections on the sphere are obtained, and the inverse transformation of the spherical projection corresponds to the pixels on the original image.\n",
    "    for pix_proj in np.ndindex(arr_proj.shape[:2]):\n",
    "        pix_img = projection(pix_proj, r, h_img, w_img, h_proj, w_proj)\n",
    "        arr_proj[pix_proj] = arr_img[pix_img]\n",
    "\n",
    "    Image.fromarray(arr_proj).show()  # annotate this line without pop-up\n",
    "    # Image.fromarray(arr_proj).save(path_proj)  # annotate this line without outputting the file\n"
   ]
  }
 ],
 "metadata": {
  "kernelspec": {
   "display_name": "Python 3",
   "language": "python",
   "name": "python3"
  },
  "language_info": {
   "codemirror_mode": {
    "name": "ipython",
    "version": 3
   },
   "file_extension": ".py",
   "mimetype": "text/x-python",
   "name": "python",
   "nbconvert_exporter": "python",
   "pygments_lexer": "ipython3",
   "version": "3.11.6"
  }
 },
 "nbformat": 4,
 "nbformat_minor": 2
}
