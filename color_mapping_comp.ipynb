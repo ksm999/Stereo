{
 "cells": [
  {
   "cell_type": "code",
   "execution_count": 50,
   "metadata": {},
   "outputs": [],
   "source": [
    "import qiskit\n",
    "from math import pi\n",
    "import numpy as np\n",
    "import pandas as pd\n",
    "from math import sqrt\n",
    "from qiskit import QuantumCircuit\n",
    "from qiskit.quantum_info import Statevector\n",
    "from qiskit.visualization.bloch import Bloch\n",
    "from qiskit.visualization import plot_bloch_vector, plot_bloch_multivector"
   ]
  },
  {
   "cell_type": "code",
   "execution_count": 8,
   "metadata": {},
   "outputs": [
    {
     "data": {
      "text/plain": [
       "0.7853981633974483"
      ]
     },
     "execution_count": 8,
     "metadata": {},
     "output_type": "execute_result"
    }
   ],
   "source": [
    "np.arctan2(1,1)"
   ]
  },
  {
   "cell_type": "code",
   "execution_count": 56,
   "metadata": {},
   "outputs": [],
   "source": [
    "color_list = []\n",
    "color_index = []\n",
    "\n",
    "df = pd.DataFrame(columns=range(1,4))\n",
    "\n",
    "for i in range(0,256):\n",
    "  for j in range(0,256):\n",
    "    for k in range(0,256):\n",
    "\n",
    "# Normalization\n",
    "      r, g, b = (i,j,k)\n",
    "      r, g, b = r/255, g/255,b/255\n",
    "      r, g, b = 2*(r-0.5) / np.sqrt(3), 2*(g-0.5) / np.sqrt(3),2*(b-0.5) / np.sqrt(3)\n",
    "\n",
    "# r,g,b to theta,phi\n",
    "      theta = 2 * np.arctan2( np.sqrt(g**2+b**2), np.sqrt(1-g**2-b**2))\n",
    "\n",
    "      if g == 0:\n",
    "        phi = 1.5708 - np.arctan2(r, np.sqrt(1-g**2-b**2-r**2))\n",
    "      elif (r == -1 / np.sqrt(3)) & (g== -1 / np.sqrt(3)) & (b == -1 / np.sqrt(3)):\n",
    "        phi = np.arctan2(b,g) - 1.5708\n",
    "      elif (r == 1 / np.sqrt(3)) & (g== -1 / np.sqrt(3)) & (b == -1 / np.sqrt(3)):\n",
    "        phi = np.arctan2(b,g) - 1.5708\n",
    "      elif (r == -1 / np.sqrt(3)) & (g== 1 / np.sqrt(3)) & (b == -1 / np.sqrt(3)):\n",
    "        phi = np.arctan2(b,g) - 1.5708\n",
    "      elif (r == -1 / np.sqrt(3)) & (g== -1 / np.sqrt(3)) & (b == 1 / np.sqrt(3)):\n",
    "        phi = np.arctan2(b,g) - 1.5708\n",
    "      elif (r == 1 / np.sqrt(3)) & (g== 1 / np.sqrt(3)) & (b == -1 / np.sqrt(3)):\n",
    "        phi = np.arctan2(b,g) - 1.5708\n",
    "      elif (r == 1 / np.sqrt(3)) & (g== -1 / np.sqrt(3)) & (b == 1 / np.sqrt(3)):\n",
    "        phi = np.arctan2(b,g) - 1.5708\n",
    "      elif (r == -1 / np.sqrt(3)) & (g== 1 / np.sqrt(3)) & (b == 1 / np.sqrt(3)):\n",
    "        phi = np.arctan2(b,g) - 1.5708\n",
    "      elif (r == 1 / np.sqrt(3)) & (g== 1 / np.sqrt(3)) & (b == 1 / np.sqrt(3)):\n",
    "        phi = np.arctan2(b,g) - 1.5708\n",
    "      else:\n",
    "        phi =  np.arctan2(b,g)-np.arctan2(r, np.sqrt(1-g**2-b**2-r**2))\n",
    "\n",
    "      z = np.cos(theta)\n",
    "      y = np.sin(theta)*np.sin(phi)\n",
    "      x = np.sin(theta)*np.cos(phi)\n",
    "      color_index.append([i,j,k])\n",
    "      P = np.array([x,y,z])\n",
    "      angle = [theta, phi]\n",
    "      color_list.append([P, angle])"
   ]
  },
  {
   "cell_type": "code",
   "execution_count": 64,
   "metadata": {},
   "outputs": [
    {
     "name": "stdout",
     "output_type": "stream",
     "text": [
      "0\n",
      "255\n"
     ]
    }
   ],
   "source": [
    "min_max = [0, 255]\n",
    "for i in min_max:\n",
    "    print(i)\n"
   ]
  },
  {
   "cell_type": "code",
   "execution_count": 82,
   "metadata": {},
   "outputs": [],
   "source": [
    "min_max = [0, 255]\n",
    "\n",
    "min_max_list = []\n",
    "min_max_index = []\n",
    "\n",
    "df = pd.DataFrame(columns=range(1,4))\n",
    "\n",
    "for i in min_max:\n",
    "  for j in min_max:\n",
    "    for k in min_max:\n",
    "      \n",
    "# Normalization\n",
    "      r, g, b = (i,j,k)\n",
    "      r, g, b = r/255, g/255,b/255\n",
    "      r, g, b = 2*(r-0.5) / np.sqrt(3), 2*(g-0.5) / np.sqrt(3),2*(b-0.5) / np.sqrt(3)\n",
    "\n",
    "# r,g,b to theta,phi\n",
    "      theta = 2 * np.arctan2( np.sqrt(g**2+b**2), np.sqrt(1-g**2-b**2))\n",
    "\n",
    "      if g == 0:\n",
    "        phi = 1.5708 - np.arctan2(r, np.sqrt(1-g**2-b**2-r**2))\n",
    "\n",
    "      elif (r == -1 / np.sqrt(3)) and (g== -1 / np.sqrt(3)) and (b == -1 / np.sqrt(3)):  # 0, 0, 0 \n",
    "        phi = np.arctan2(b,g) + 1.5708\n",
    "        theta = 1.5708+ 2 * np.arctan2( np.sqrt(g**2+b**2), np.sqrt(1-g**2-b**2))\n",
    "\n",
    "      elif (r == 1 / np.sqrt(3)) and (g== -1 / np.sqrt(3)) and (b == -1 / np.sqrt(3)): # 255, 0, 0\n",
    "        phi = np.arctan2(b,g) - 1.5708\n",
    "\n",
    "      elif (r == -1 / np.sqrt(3)) and (g== 1 / np.sqrt(3)) and (b == -1 / np.sqrt(3)): # 0, 255, 0\n",
    "        phi = np.arctan2(b,g) + 1.5708\n",
    "        theta = 1.5708+ 2 * np.arctan2( np.sqrt(g**2+b**2), np.sqrt(1-g**2-b**2))\n",
    "\n",
    "      elif (r == -1 / np.sqrt(3)) and (g== -1 / np.sqrt(3)) and (b == 1 / np.sqrt(3)): # 0, 0, 255\n",
    "        phi = np.arctan2(b,g) + 1.5708\n",
    "        theta = 1.5708+ 2 * np.arctan2( np.sqrt(g**2+b**2), np.sqrt(1-g**2-b**2))\n",
    "\n",
    "      elif (r == 1 / np.sqrt(3)) and (g== 1 / np.sqrt(3)) and (b == -1 / np.sqrt(3)): # 255, 255, 0\n",
    "        phi = np.arctan2(b,g) - 1.5708\n",
    "\n",
    "      elif (r == 1 / np.sqrt(3)) and (g== -1 / np.sqrt(3)) and (b == 1 / np.sqrt(3)): # 255, 0, 255\n",
    "        phi = np.arctan2(b,g) - 1.5708\n",
    "\n",
    "      elif (r == -1 / np.sqrt(3)) and (g== 1 / np.sqrt(3)) and (b == 1 / np.sqrt(3)): # 0, 255, 255\n",
    "        phi = np.arctan2(b,g) + 1.5708\n",
    "        theta = 1.5708+2 * np.arctan2( np.sqrt(g**2+b**2), np.sqrt(1-g**2-b**2))\n",
    "\n",
    "      elif (r == 1 / np.sqrt(3)) and (g== 1 / np.sqrt(3)) and (b == 1 / np.sqrt(3)): # 255,255,255\n",
    "        phi = np.arctan2(b,g) - 1.5708\n",
    "\n",
    "      else:\n",
    "        phi =  np.arctan2(b,g)-np.arctan2(r, np.sqrt(1-g**2-b**2-r**2))\n",
    "\n",
    "      z = np.cos(theta)\n",
    "      y = np.sin(theta)*np.sin(phi)\n",
    "      x = np.sin(theta)*np.cos(phi)\n",
    "      min_max_index.append([i,j,k])\n",
    "      P = np.array([x,y,z])\n",
    "      min_max_list.append([P,theta,phi])"
   ]
  },
  {
   "cell_type": "code",
   "execution_count": 83,
   "metadata": {},
   "outputs": [
    {
     "data": {
      "text/plain": [
       "[[array([-0.23570557,  0.23570384, -0.94280782]),\n",
       "  3.481433236249019,\n",
       "  -0.7853944901923449],\n",
       " [array([ 0.23570384,  0.23570557, -0.94280782]),\n",
       "  3.481433236249019,\n",
       "  3.926994490192345],\n",
       " [array([-0.23570384, -0.23570557, -0.94280782]),\n",
       "  3.481433236249019,\n",
       "  0.7854018366025517],\n",
       " [array([ 0.23570557, -0.23570384, -0.94280782]),\n",
       "  3.481433236249019,\n",
       "  2.3561981633974485],\n",
       " [array([-0.66666422,  0.66666912, -0.33333333]),\n",
       "  1.910633236249019,\n",
       "  -3.926994490192345],\n",
       " [array([ 0.66666912,  0.66666422, -0.33333333]),\n",
       "  1.910633236249019,\n",
       "  0.7853944901923449],\n",
       " [array([-0.66666912, -0.66666422, -0.33333333]),\n",
       "  1.910633236249019,\n",
       "  -2.3561981633974485],\n",
       " [array([ 0.66666422, -0.66666912, -0.33333333]),\n",
       "  1.910633236249019,\n",
       "  -0.7854018366025517]]"
      ]
     },
     "execution_count": 83,
     "metadata": {},
     "output_type": "execute_result"
    }
   ],
   "source": [
    "min_max_list"
   ]
  },
  {
   "cell_type": "code",
   "execution_count": 77,
   "metadata": {},
   "outputs": [
    {
     "data": {
      "text/plain": [
       "-1.5690642777197352"
      ]
     },
     "execution_count": 77,
     "metadata": {},
     "output_type": "execute_result"
    }
   ],
   "source": [
    "r, g, b = 255,255,255\n",
    "r, g, b = r/255, g/255,b/255\n",
    "r, g, b = 2*(r-0.5) / np.sqrt(3), 2*(g-0.5) / np.sqrt(3),2*(b-0.5) / np.sqrt(3)\n",
    "phi =  -np.arctan2(r, np.sqrt(1.000001-g**2-b**2-r**2))\n",
    "phi"
   ]
  },
  {
   "cell_type": "code",
   "execution_count": 62,
   "metadata": {},
   "outputs": [
    {
     "data": {
      "text/plain": [
       "1.8551014769269882"
      ]
     },
     "execution_count": 62,
     "metadata": {},
     "output_type": "execute_result"
    }
   ],
   "source": [
    "r, g, b = 0,255,255\n",
    "r, g, b = r/255, g/255,b/255\n",
    "r, g, b = 2*(r-0.5) / np.sqrt(3), 2*(g-0.5) / np.sqrt(3),2*(b-0.5) / np.sqrt(3)\n",
    "phi =  np.arctan2(b,g)-np.arctan2(r, np.sqrt(1.1-g**2-b**2-r**2))\n",
    "phi"
   ]
  },
  {
   "cell_type": "code",
   "execution_count": null,
   "metadata": {},
   "outputs": [],
   "source": [
    "r, g, b = 255,255,255\n",
    "r, g, b = r/255, g/255,b/255\n",
    "r, g, b = 2*(r-0.5) / np.sqrt(3), 2*(g-0.5) / np.sqrt(3),2*(b-0.5) / np.sqrt(3)"
   ]
  },
  {
   "cell_type": "code",
   "execution_count": 54,
   "metadata": {},
   "outputs": [
    {
     "data": {
      "text/plain": [
       "-0.6666642178587668"
      ]
     },
     "execution_count": 54,
     "metadata": {},
     "output_type": "execute_result"
    }
   ],
   "source": [
    "color_list[0]"
   ]
  },
  {
   "cell_type": "code",
   "execution_count": 10,
   "metadata": {},
   "outputs": [
    {
     "name": "stdout",
     "output_type": "stream",
     "text": [
      "45.0\n",
      "-135.0\n"
     ]
    }
   ],
   "source": [
    "print(np.arctan2(1/np.sqrt(3),1/np.sqrt(3)) * 180 / np.pi)\n",
    "print(np.arctan2(-1/np.sqrt(3), -1/np.sqrt(3)) * 180 / np.pi)"
   ]
  },
  {
   "cell_type": "code",
   "execution_count": 39,
   "metadata": {},
   "outputs": [],
   "source": [
    "import os\n",
    "root = os.path.abspath('')"
   ]
  },
  {
   "cell_type": "code",
   "execution_count": 40,
   "metadata": {},
   "outputs": [
    {
     "data": {
      "text/plain": [
       "'\\nduplicates_in_second_column = df.iloc[:, 1].duplicated()\\n\\n# 중복된 값 출력\\nprint(\"중복된 값:\")\\nprint(df.iloc[duplicates_in_second_column, 1])\\n'"
      ]
     },
     "execution_count": 40,
     "metadata": {},
     "output_type": "execute_result"
    }
   ],
   "source": [
    "color_16 = root + '/color_space16.xlsx'\n",
    "\n",
    "# 엑셀 파일 불러오기\n",
    "df = pd.read_excel(color_16)\n",
    "'''\n",
    "duplicates_in_second_column = df.iloc[:, 1].duplicated()\n",
    "\n",
    "# 중복된 값 출력\n",
    "print(\"중복된 값:\")\n",
    "print(df.iloc[duplicates_in_second_column, 1])\n",
    "'''"
   ]
  },
  {
   "cell_type": "code",
   "execution_count": 45,
   "metadata": {},
   "outputs": [
    {
     "name": "stdout",
     "output_type": "stream",
     "text": [
      "2\n",
      "=================================\n",
      "0\n",
      "=================================\n",
      "0\n",
      "=================================\n",
      "0\n",
      "=================================\n",
      "0\n",
      "=================================\n",
      "0\n",
      "=================================\n",
      "0\n",
      "=================================\n",
      "0\n",
      "=================================\n",
      "0\n",
      "=================================\n",
      "0\n",
      "=================================\n",
      "0\n",
      "=================================\n",
      "0\n",
      "=================================\n",
      "0\n",
      "=================================\n",
      "0\n",
      "=================================\n",
      "0\n",
      "=================================\n",
      "0\n",
      "=================================\n",
      "0\n",
      "=================================\n",
      "0\n",
      "=================================\n",
      "0\n",
      "=================================\n",
      "0\n",
      "=================================\n",
      "0\n",
      "=================================\n",
      "0\n",
      "=================================\n",
      "0\n",
      "=================================\n",
      "0\n",
      "=================================\n",
      "0\n",
      "=================================\n",
      "0\n",
      "=================================\n",
      "0\n",
      "=================================\n",
      "0\n",
      "=================================\n",
      "0\n",
      "=================================\n",
      "0\n",
      "=================================\n",
      "0\n",
      "=================================\n",
      "2\n",
      "=================================\n"
     ]
    }
   ],
   "source": [
    "for i in range(1,33):\n",
    "    color = root + f'/color_space{i}.xlsx'\n",
    "    df = pd.read_excel(color)\n",
    "    print(df.iloc[:,[1]].duplicated().sum())\n",
    "    print(\"=================================\")"
   ]
  },
  {
   "cell_type": "code",
   "execution_count": 84,
   "metadata": {},
   "outputs": [],
   "source": [
    "color_list = []\n",
    "color_index = []\n",
    "\n",
    "df = pd.DataFrame(columns=range(1,4))\n",
    "\n",
    "for i in range(0,256):\n",
    "  for j in range(0,256):\n",
    "    for k in range(0,256):\n",
    "\n",
    "# Normalization\n",
    "      r, g, b = (i,j,k)\n",
    "      r, g, b = r/255, g/255,b/255\n",
    "      r, g, b = 2*(r-0.5) / np.sqrt(3), 2*(g-0.5) / np.sqrt(3),2*(b-0.5) / np.sqrt(3)\n",
    "\n",
    "# r,g,b to theta,phi\n",
    "      theta = 2 * np.arctan2( np.sqrt(g**2+b**2), np.sqrt(1-g**2-b**2))\n",
    "\n",
    "      if g == 0:\n",
    "        phi = 1.5708 - np.arctan2(r, np.sqrt(1-g**2-b**2-r**2))\n",
    "\n",
    "      elif (r == -1 / np.sqrt(3)) & (g== -1 / np.sqrt(3)) & (b == -1 / np.sqrt(3)):\n",
    "        phi = np.arctan2(b,g) - 1.5708\n",
    "\n",
    "      elif (r == 1 / np.sqrt(3)) & (g== -1 / np.sqrt(3)) & (b == -1 / np.sqrt(3)):\n",
    "        phi = np.arctan2(b,g) - 1.5708\n",
    "\n",
    "      elif (r == -1 / np.sqrt(3)) & (g== 1 / np.sqrt(3)) & (b == -1 / np.sqrt(3)):\n",
    "        phi = np.arctan2(b,g) - 1.5708\n",
    "      elif (r == -1 / np.sqrt(3)) & (g== -1 / np.sqrt(3)) & (b == 1 / np.sqrt(3)):\n",
    "        phi = np.arctan2(b,g) - 1.5708\n",
    "      elif (r == 1 / np.sqrt(3)) & (g== 1 / np.sqrt(3)) & (b == -1 / np.sqrt(3)):\n",
    "        phi = np.arctan2(b,g) - 1.5708\n",
    "      elif (r == 1 / np.sqrt(3)) & (g== -1 / np.sqrt(3)) & (b == 1 / np.sqrt(3)):\n",
    "        phi = np.arctan2(b,g) - 1.5708\n",
    "      elif (r == -1 / np.sqrt(3)) & (g== 1 / np.sqrt(3)) & (b == 1 / np.sqrt(3)):\n",
    "        phi = np.arctan2(b,g) - 1.5708\n",
    "      elif (r == 1 / np.sqrt(3)) & (g== 1 / np.sqrt(3)) & (b == 1 / np.sqrt(3)):\n",
    "        phi = np.arctan2(b,g) - 1.5708\n",
    "      elif r<=0:\n",
    "        theta = 2 * np.arctan2( np.sqrt(g**2+b**2), np.sqrt(1-g**2-b**2)) + 3.141592\n",
    "      elif r>0:\n",
    "        theta = 2 * np.arctan2( np.sqrt(g**2+b**2), np.sqrt(1-g**2-b**2))\n",
    "      else:\n",
    "        phi =  np.arctan2(b,g)-np.arctan2(r, np.sqrt(1-g**2-b**2-r**2))\n",
    "        theta = 2 * np.arctan2( np.sqrt(g**2+b**2), np.sqrt(1-g**2-b**2))\n",
    "\n",
    "      z = np.cos(theta)\n",
    "      y = np.sin(theta)*np.sin(phi)\n",
    "      x = np.sin(theta)*np.cos(phi)\n",
    "      color_index.append([i,j,k])\n",
    "      P = np.array([x,y,z])\n",
    "      angle = [theta, phi]\n",
    "      color_list.append([P, angle])"
   ]
  },
  {
   "cell_type": "code",
   "execution_count": 126,
   "metadata": {},
   "outputs": [
    {
     "data": {
      "text/plain": [
       "3.141592653589793"
      ]
     },
     "execution_count": 126,
     "metadata": {},
     "output_type": "execute_result"
    }
   ],
   "source": [
    "from math import e, pi\n",
    "pi"
   ]
  },
  {
   "cell_type": "code",
   "execution_count": 127,
   "metadata": {},
   "outputs": [],
   "source": [
    "color_list = []\n",
    "color_index = []\n",
    "color_angle = []\n",
    "df = pd.DataFrame(columns=range(1,4))\n",
    "\n",
    "for i in range(0,256):\n",
    "  for j in range(0,256):\n",
    "    for k in range(0,256):\n",
    "\n",
    "# Normalization\n",
    "      r, g, b = (i,j,k)\n",
    "      r, g, b = (r+1)/255, (g+1)/255,(b+1)/255\n",
    "      r, g, b = r / np.sqrt(3), g / pi,  b / (e**2)\n",
    "\n",
    "# r,g,b to theta,phi\n",
    "      theta = 2 * np.arctan2( np.sqrt(g**2+b**2), np.sqrt(1-g**2-b**2))\n",
    "      phi =  np.arctan2(b,g)-np.arctan2(r, np.sqrt(1-g**2-b**2-r**2))\n",
    "      '''\n",
    "      if g == 0:\n",
    "        phi = 1.5708 - np.arctan2(r, np.sqrt(1-g**2-b**2-r**2))\n",
    "\n",
    "      elif (r == -1 / np.sqrt(3)) & (g== -1 / np.sqrt(3)) & (b == -1 / np.sqrt(3)):\n",
    "        phi = np.arctan2(b,g) - 1.5708\n",
    "        theta = 2 * np.arctan2( np.sqrt(g**2+b**2), np.sqrt(1-g**2-b**2))  + 3.141592\n",
    "      elif (r == 1 / np.sqrt(3)) & (g== -1 / np.sqrt(3)) & (b == -1 / np.sqrt(3)):\n",
    "        phi = np.arctan2(b,g) - 1.5708\n",
    "      elif (r == -1 / np.sqrt(3)) & (g== 1 / np.sqrt(3)) & (b == -1 / np.sqrt(3)):\n",
    "        phi = np.arctan2(b,g) - 1.5708\n",
    "        theta = 2 * np.arctan2( np.sqrt(g**2+b**2), np.sqrt(1-g**2-b**2))  + 3.141592\n",
    "      elif (r == -1 / np.sqrt(3)) & (g== -1 / np.sqrt(3)) & (b == 1 / np.sqrt(3)):\n",
    "        phi = np.arctan2(b,g) - 1.5708\n",
    "        theta = 2 * np.arctan2( np.sqrt(g**2+b**2), np.sqrt(1-g**2-b**2))  + 3.141592\n",
    "      elif (r == 1 / np.sqrt(3)) & (g== 1 / np.sqrt(3)) & (b == -1 / np.sqrt(3)):\n",
    "        phi = np.arctan2(b,g) - 1.5708\n",
    "      elif (r == 1 / np.sqrt(3)) & (g== -1 / np.sqrt(3)) & (b == 1 / np.sqrt(3)):\n",
    "        phi = np.arctan2(b,g) - 1.5708\n",
    "      elif (r == -1 / np.sqrt(3)) & (g== 1 / np.sqrt(3)) & (b == 1 / np.sqrt(3)):\n",
    "        phi = np.arctan2(b,g) - 1.5708\n",
    "        theta = 2 * np.arctan2( np.sqrt(g**2+b**2), np.sqrt(1-g**2-b**2))  + 3.141592\n",
    "      elif (r == 1 / np.sqrt(3)) & (g== 1 / np.sqrt(3)) & (b == 1 / np.sqrt(3)):\n",
    "        phi = np.arctan2(b,g) - 1.5708\n",
    "\n",
    "      elif r<0:\n",
    "        theta = 2 * np.arctan2( np.sqrt(g**2+b**2), np.sqrt(1-g**2-b**2)) + 3.141592\n",
    "      elif r>0:\n",
    "        theta = 2 * np.arctan2( np.sqrt(g**2+b**2), np.sqrt(1-g**2-b**2))\n",
    "      elif r==0:\n",
    "        theta = 2 * np.arctan2( np.sqrt(g**2+b**2), np.sqrt(1-g**2-b**2)) + 3.141592\n",
    "      else:\n",
    "        pass\n",
    "      '''\n",
    "\n",
    "      z = np.cos(theta)\n",
    "      y = np.sin(theta)*np.sin(phi)\n",
    "      x = np.sin(theta)*np.cos(phi)\n",
    "      color_index.append([i, j, k])\n",
    "      P = np.array([x,y,z])\n",
    "      angle = [theta, phi]\n",
    "      color_list.append([P])\n",
    "      color_angle.append([angle])"
   ]
  },
  {
   "cell_type": "code",
   "execution_count": 128,
   "metadata": {},
   "outputs": [],
   "source": [
    "for i in range(32):\n",
    "    color_space = pd.Series(color_list[524288*i:524288*(i+1)], index = pd.Index(color_index[524288*i:524288*(i+1)]))\n",
    "    color_space.to_excel(f\"color_space{i+1}.xlsx\", index=True)\n",
    "    color_space_angle = pd.Series(color_angle[524288*i:524288*(i+1)], index = pd.Index(color_index[524288*i:524288*(i+1)]))\n",
    "    color_space_angle.to_excel(f\"color_space_angle{i+1}.xlsx\", index=True)"
   ]
  },
  {
   "cell_type": "code",
   "execution_count": 133,
   "metadata": {},
   "outputs": [],
   "source": [
    "def is_duplicate(arr1, arr2):\n",
    "    return sorted(arr1) == sorted(arr2)\n",
    "\n",
    "def find_duplicates(arrays):\n",
    "    duplicates = set()\n",
    "\n",
    "    for i in range(len(arrays)):\n",
    "        for j in range(i + 1, len(arrays)):\n",
    "            if is_duplicate(arrays[i], arrays[j]):\n",
    "                duplicates.add(tuple(arrays[i]))\n",
    "\n",
    "    return list(duplicates)\n",
    "\n",
    "result = find_duplicates(color_angle)\n",
    "print(result)\n"
   ]
  }
 ],
 "metadata": {
  "kernelspec": {
   "display_name": "Python 3",
   "language": "python",
   "name": "python3"
  },
  "language_info": {
   "codemirror_mode": {
    "name": "ipython",
    "version": 3
   },
   "file_extension": ".py",
   "mimetype": "text/x-python",
   "name": "python",
   "nbconvert_exporter": "python",
   "pygments_lexer": "ipython3",
   "version": "3.11.8"
  }
 },
 "nbformat": 4,
 "nbformat_minor": 2
}
