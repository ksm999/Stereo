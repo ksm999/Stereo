{
 "cells": [
  {
   "cell_type": "code",
   "execution_count": 9,
   "metadata": {},
   "outputs": [
    {
     "ename": "ModuleNotFoundError",
     "evalue": "No module named 'qiskit'",
     "output_type": "error",
     "traceback": [
      "\u001b[1;31m---------------------------------------------------------------------------\u001b[0m",
      "\u001b[1;31mModuleNotFoundError\u001b[0m                       Traceback (most recent call last)",
      "Cell \u001b[1;32mIn[9], line 7\u001b[0m\n\u001b[0;32m      5\u001b[0m \u001b[38;5;28;01mfrom\u001b[39;00m \u001b[38;5;21;01mmath\u001b[39;00m \u001b[38;5;28;01mimport\u001b[39;00m e, pi\n\u001b[0;32m      6\u001b[0m \u001b[38;5;28;01mimport\u001b[39;00m \u001b[38;5;21;01mmatplotlib\u001b[39;00m\u001b[38;5;21;01m.\u001b[39;00m\u001b[38;5;21;01mpyplot\u001b[39;00m \u001b[38;5;28;01mas\u001b[39;00m \u001b[38;5;21;01mplt\u001b[39;00m\n\u001b[1;32m----> 7\u001b[0m \u001b[38;5;28;01mfrom\u001b[39;00m \u001b[38;5;21;01mqiskit\u001b[39;00m \u001b[38;5;28;01mimport\u001b[39;00m QuantumCircuit\n\u001b[0;32m      8\u001b[0m \u001b[38;5;28;01mfrom\u001b[39;00m \u001b[38;5;21;01mqiskit\u001b[39;00m \u001b[38;5;28;01mimport\u001b[39;00m QuantumRegister, ClassicalRegister\n\u001b[0;32m      9\u001b[0m \u001b[38;5;28;01mfrom\u001b[39;00m \u001b[38;5;21;01mqiskit\u001b[39;00m\u001b[38;5;21;01m.\u001b[39;00m\u001b[38;5;21;01mquantum_info\u001b[39;00m \u001b[38;5;28;01mimport\u001b[39;00m Statevector\n",
      "\u001b[1;31mModuleNotFoundError\u001b[0m: No module named 'qiskit'"
     ]
    }
   ],
   "source": [
    "import time\n",
    "import numpy as np\n",
    "import pandas as pd\n",
    "from tqdm import tqdm\n",
    "from math import e, pi\n",
    "import matplotlib.pyplot as plt\n",
    "from qiskit import QuantumCircuit\n",
    "from qiskit import QuantumRegister, ClassicalRegister\n",
    "from qiskit.quantum_info import Statevector\n",
    "from qiskit import transpile, assemble, Aer, IBMQ\n",
    "from qiskit.tools.monitor import job_monitor\n",
    "from qiskit.visualization.bloch import Bloch\n",
    "from qiskit.circuit.library import QFT\n",
    "from qiskit.visualization import plot_bloch_vector, plot_bloch_multivector, plot_histogram"
   ]
  },
  {
   "cell_type": "code",
   "execution_count": 2,
   "metadata": {},
   "outputs": [],
   "source": [
    "def qft_rotations(circuit, n):\n",
    "    if n == 0: # Exit function if circuit is empty\n",
    "        return circuit\n",
    "    n -= 1 # Indexes start from 0\n",
    "    circuit.h(n) # Apply the H-gate to the most significant qubit\n",
    "    for qubit in range(n):\n",
    "        # For each less significant qubit, we need to do a\n",
    "        # smaller-angled controlled rotation: \n",
    "        circuit.cp(pi/2**(n-qubit), qubit, n)"
   ]
  },
  {
   "cell_type": "code",
   "execution_count": 3,
   "metadata": {},
   "outputs": [
    {
     "name": "stdout",
     "output_type": "stream",
     "text": [
      "[0.8660254+0.j 0.5      +0.j] [0.70710678+0.j 0.70710678+0.j]\n",
      "Convolution result as a quantum state:\n",
      "Statevector([0.96592583+0.j, 0.96592583+0.j],\n",
      "            dims=(2,))\n"
     ]
    }
   ],
   "source": [
    "from qiskit import QuantumCircuit, Aer, transpile, execute\n",
    "from qiskit.circuit.library import QFT\n",
    "import numpy as np\n",
    "\n",
    "# 1. 입력 신호 준비: 상태 |ψ⟩ = 1/sqrt(2)(|0⟩ + |1⟩), |φ⟩ = 1/2(sqrt(3)|0⟩ + |1⟩)\n",
    "psi = QuantumCircuit(1)\n",
    "phi = QuantumCircuit(1)\n",
    "\n",
    "# |ψ⟩ 상태\n",
    "psi.initialize([1/np.sqrt(2), 1/np.sqrt(2)], 0)  # First qubit\n",
    "\n",
    "# |φ⟩ 상태\n",
    "phi.initialize([np.sqrt(3)/2, 1/2], 0)  # First qubit\n",
    "\n",
    "state_psi = Statevector(phi)\n",
    "state_phi = Statevector(psi)\n",
    "\n",
    "psi_data = state_psi.data\n",
    "phi_data = state_phi.data\n",
    "\n",
    "print(psi_data, phi_data)\n",
    "convolution_result = np.array([psi_data[0]*phi_data[0]+psi_data[1]*phi_data[1],psi_data[0]*phi_data[1]+psi_data[1]*phi_data[0]])\n",
    "\n",
    "# 컨볼루션 결과를 새로운 Statevector로 변환\n",
    "result_state = Statevector(convolution_result)\n",
    "\n",
    "# 결과 출력\n",
    "print(\"Convolution result as a quantum state:\")\n",
    "print(result_state)"
   ]
  },
  {
   "cell_type": "code",
   "execution_count": 4,
   "metadata": {},
   "outputs": [
    {
     "name": "stderr",
     "output_type": "stream",
     "text": [
      "C:\\Users\\HCI\\AppData\\Local\\Packages\\PythonSoftwareFoundation.Python.3.11_qbz5n2kfra8p0\\LocalCache\\local-packages\\Python311\\site-packages\\qiskit\\visualization\\circuit\\matplotlib.py:266: FutureWarning: The default matplotlib drawer scheme will be changed to \"iqp\" in a following release. To silence this warning, specify the current default explicitly as style=\"clifford\", or the new default as style=\"iqp\".\n",
      "  self._style, def_font_ratio = load_style(self._style)\n"
     ]
    },
    {
     "data": {
      "image/png": "[encoded data removed]",
      "text/plain": [
       "<Figure size 352.675x117.056 with 1 Axes>"
      ]
     },
     "execution_count": 4,
     "metadata": {},
     "output_type": "execute_result"
    }
   ],
   "source": [
    "# 2. QFT 적용\n",
    "qft_circuit = QFT(num_qubits=1).decompose()  # Create and decompose QFT for 2 qubits\n",
    "\n",
    "psi_qft = psi.compose(qft_circuit)\n",
    "psi_qft.draw('mpl')"
   ]
  },
  {
   "cell_type": "code",
   "execution_count": 5,
   "metadata": {},
   "outputs": [
    {
     "data": {
      "image/png": "[encoded data removed]",
      "text/plain": [
       "<Figure size 352.675x117.056 with 1 Axes>"
      ]
     },
     "execution_count": 5,
     "metadata": {},
     "output_type": "execute_result"
    }
   ],
   "source": [
    "phi_qft = phi.compose(qft_circuit)\n",
    "phi_qft.draw('mpl')"
   ]
  },
  {
   "cell_type": "code",
   "execution_count": 93,
   "metadata": {},
   "outputs": [
    {
     "name": "stdout",
     "output_type": "stream",
     "text": [
      "|psi> =  Statevector([1.+0.j, 0.+0.j],\n",
      "            dims=(2,))\n",
      "|phi> =  Statevector([0.96592583+0.j, 0.25881905+0.j],\n",
      "            dims=(2,))\n",
      "Element-wise product result =  Statevector([0.96592583+0.j, 0.        +0.j],\n",
      "            dims=(2,))\n"
     ]
    }
   ],
   "source": [
    "state_psi_qft = Statevector(psi_qft)\n",
    "state_phi_qft = Statevector(phi_qft) \n",
    "print(\"|psi> = \", state_psi_qft)\n",
    "print(\"|phi> = \", state_phi_qft)\n",
    "\n",
    "element_wise = state_psi_qft.data * state_phi_qft.data\n",
    "element_wise_result_state = Statevector(element_wise)\n",
    "\n",
    "print(\"Element-wise product result = \", element_wise_result_state)\n",
    "coeff = np.absolute(element_wise_result_state.data[0])\n",
    "element_wise_result_state = element_wise_result_state / np.linalg.norm(element_wise_result_state.data)\n",
    "element_wise_result = QuantumCircuit(1)\n",
    "element_wise_result.initialize(element_wise_result_state)\n",
    "elemen_wise_result_qft = element_wise_result.compose(qft_circuit)\n",
    "elemen_wise_result_qft.draw('mpl')"
   ]
  },
  {
   "cell_type": "code",
   "execution_count": 106,
   "metadata": {},
   "outputs": [
    {
     "data": {
      "image/png": "[encoded data removed]",
      "text/plain": [
       "<Figure size 185.453x117.056 with 1 Axes>"
      ]
     },
     "execution_count": 106,
     "metadata": {},
     "output_type": "execute_result"
    }
   ],
   "source": [
    "element_wise_result.draw('mpl')"
   ]
  },
  {
   "cell_type": "code",
   "execution_count": 105,
   "metadata": {},
   "outputs": [
    {
     "name": "stderr",
     "output_type": "stream",
     "text": [
      "C:\\Users\\HCI\\AppData\\Local\\Packages\\PythonSoftwareFoundation.Python.3.11_qbz5n2kfra8p0\\LocalCache\\local-packages\\Python311\\site-packages\\qiskit\\visualization\\circuit\\matplotlib.py:266: FutureWarning: The default matplotlib drawer scheme will be changed to \"iqp\" in a following release. To silence this warning, specify the current default explicitly as style=\"clifford\", or the new default as style=\"iqp\".\n",
      "  self._style, def_font_ratio = load_style(self._style)\n"
     ]
    },
    {
     "data": {
      "image/png": "[encoded data removed]",
      "text/plain": [
       "<Figure size 269.064x117.056 with 1 Axes>"
      ]
     },
     "execution_count": 105,
     "metadata": {},
     "output_type": "execute_result"
    }
   ],
   "source": [
    "elemen_wise_result_qft.draw('mpl')"
   ]
  },
  {
   "cell_type": "code",
   "execution_count": 95,
   "metadata": {},
   "outputs": [
    {
     "name": "stdout",
     "output_type": "stream",
     "text": [
      "Statevector([0.96592583+0.j, 0.96592583+0.j],\n",
      "            dims=(2,))\n"
     ]
    }
   ],
   "source": [
    "state_result_qft = Statevector(elemen_wise_result_qft)\n",
    "state_result_qft = state_result_qft * np.sqrt(2) * coeff\n",
    "state_result_qft"
   ]
  },
  {
   "cell_type": "code",
   "execution_count": 103,
   "metadata": {},
   "outputs": [
    {
     "name": "stdout",
     "output_type": "stream",
     "text": [
      "Time domain convolution =  [0.96592583+0.j 0.96592583+0.j] \n",
      " Frequency domain multiplication =  [0.96592583+0.j 0.96592583+0.j]\n"
     ]
    }
   ],
   "source": [
    "print( \"Time domain convolution = \", result_state.data,\"\\n\",\"Frequency domain multiplication = \",state_result_qft.data)"
   ]
  },
  {
   "cell_type": "markdown",
   "metadata": {},
   "source": [
    "# 3 qubits and 2 qubits Convolution"
   ]
  },
  {
   "cell_type": "code",
   "execution_count": 154,
   "metadata": {},
   "outputs": [],
   "source": [
    "from qiskit import QuantumCircuit, Aer, transpile, execute\n",
    "from qiskit.circuit.library import QFT\n",
    "import numpy as np"
   ]
  },
  {
   "cell_type": "code",
   "execution_count": 209,
   "metadata": {},
   "outputs": [
    {
     "data": {
      "text/plain": [
       "<qiskit.circuit.instructionset.InstructionSet at 0x2c5f2b1c370>"
      ]
     },
     "execution_count": 209,
     "metadata": {},
     "output_type": "execute_result"
    }
   ],
   "source": [
    "# 1. 입력 신호 준비: 상태 |ψ⟩ = 1/sqrt(2)(|0⟩ + |1⟩), |φ⟩ = 1/2(sqrt(3)|0⟩ + |1⟩)\n",
    "psi = QuantumCircuit(3)\n",
    "phi = QuantumCircuit(2)\n",
    "\n",
    "# |ψ⟩ 상태\n",
    "psi.h(range(0,3))  # First qubit"
   ]
  },
  {
   "cell_type": "code",
   "execution_count": 210,
   "metadata": {},
   "outputs": [
    {
     "data": {
      "text/plain": [
       "<qiskit.circuit.instructionset.InstructionSet at 0x2c5f2b1c820>"
      ]
     },
     "execution_count": 210,
     "metadata": {},
     "output_type": "execute_result"
    }
   ],
   "source": [
    "# |φ⟩ 상태\n",
    "initial_state = np.array([1,np.sqrt(2),np.sqrt(3),2]) * (1/np.sqrt(10))\n",
    "\n",
    "# 2-큐빗 회로 생성\n",
    "# 초기 상태 설정\n",
    "phi.initialize(initial_state, [0, 1])"
   ]
  },
  {
   "cell_type": "code",
   "execution_count": 211,
   "metadata": {},
   "outputs": [
    {
     "name": "stderr",
     "output_type": "stream",
     "text": [
      "C:\\Users\\HCI\\AppData\\Local\\Packages\\PythonSoftwareFoundation.Python.3.11_qbz5n2kfra8p0\\LocalCache\\local-packages\\Python311\\site-packages\\qiskit\\visualization\\circuit\\matplotlib.py:266: FutureWarning: The default matplotlib drawer scheme will be changed to \"iqp\" in a following release. To silence this warning, specify the current default explicitly as style=\"clifford\", or the new default as style=\"iqp\".\n",
      "  self._style, def_font_ratio = load_style(self._style)\n"
     ]
    },
    {
     "data": {
      "image/png": "[encoded data removed]",
      "text/plain": [
       "<Figure size 203.885x284.278 with 1 Axes>"
      ]
     },
     "execution_count": 211,
     "metadata": {},
     "output_type": "execute_result"
    }
   ],
   "source": [
    "psi.draw('mpl')"
   ]
  },
  {
   "cell_type": "code",
   "execution_count": 212,
   "metadata": {},
   "outputs": [
    {
     "data": {
      "image/png": "[encoded data removed]",
      "text/plain": [
       "<Figure size 370.906x200.667 with 1 Axes>"
      ]
     },
     "execution_count": 212,
     "metadata": {},
     "output_type": "execute_result"
    }
   ],
   "source": [
    "phi.draw('mpl')"
   ]
  },
  {
   "cell_type": "code",
   "execution_count": 160,
   "metadata": {},
   "outputs": [
    {
     "name": "stdout",
     "output_type": "stream",
     "text": [
      "[0.31622777+0.j 0.4472136 +0.j 0.54772256+0.j 0.63245553+0.j] [0.35355339+0.j 0.35355339+0.j 0.35355339+0.j 0.35355339+0.j\n",
      " 0.35355339+0.j 0.35355339+0.j 0.35355339+0.j 0.35355339+0.j]\n"
     ]
    }
   ],
   "source": [
    "state_psi = Statevector(phi)\n",
    "state_phi = Statevector(psi)\n",
    "\n",
    "psi_data = state_psi.data\n",
    "phi_data = state_phi.data\n",
    "\n",
    "print(psi_data, phi_data)\n",
    "psi_real = psi_data.real\n",
    "phi_real = phi_data.real"
   ]
  },
  {
   "cell_type": "code",
   "execution_count": 162,
   "metadata": {},
   "outputs": [],
   "source": [
    "# 순환 컨볼루션 함수 정의\n",
    "def circular_convolution(x, y):\n",
    "    L = len(y)  # y의 길이 (순환 주기)\n",
    "    N = len(x)  # x의 길이\n",
    "    z = np.zeros(N)  # 결과 배열 (x와 동일한 길이)\n",
    "    \n",
    "    for v in range(N):  # x의 각 요소에 대해\n",
    "        for m in range(N):  # y를 순환적으로 접근\n",
    "            z[v] += x[m] * y[(v - m) % L]  # 모듈로 연산으로 순환적 접근\n",
    "    return z\n"
   ]
  },
  {
   "cell_type": "code",
   "execution_count": 163,
   "metadata": {},
   "outputs": [
    {
     "name": "stdout",
     "output_type": "stream",
     "text": [
      "순환 컨볼루션 결과:\n",
      "[0.68717325 0.68717325 0.68717325 0.68717325]\n"
     ]
    }
   ],
   "source": [
    "# 순환 컨볼루션 계산\n",
    "z = circular_convolution(psi_real, phi_real)\n",
    "\n",
    "# 결과 출력\n",
    "print(\"순환 컨볼루션 결과:\")\n",
    "print(z)\n"
   ]
  },
  {
   "cell_type": "code",
   "execution_count": 165,
   "metadata": {},
   "outputs": [
    {
     "name": "stdout",
     "output_type": "stream",
     "text": [
      "Convolution result as a quantum state:\n",
      "Statevector([0.68717325+0.j, 0.68717325+0.j, 0.68717325+0.j,\n",
      "             0.68717325+0.j],\n",
      "            dims=(2, 2))\n"
     ]
    }
   ],
   "source": [
    "result_state = Statevector(z)\n",
    "\n",
    "# 결과 출력\n",
    "print(\"Convolution result as a quantum state:\")\n",
    "print(result_state)"
   ]
  },
  {
   "cell_type": "code",
   "execution_count": 213,
   "metadata": {},
   "outputs": [
    {
     "data": {
      "image/png": "[encoded data removed]",
      "text/plain": [
       "<Figure size 1040x284.278 with 1 Axes>"
      ]
     },
     "execution_count": 213,
     "metadata": {},
     "output_type": "execute_result"
    }
   ],
   "source": [
    "# 2. QFT 적용\n",
    "qft_circuit = QFT(num_qubits=3).decompose()  # Create and decompose QFT for 2 qubits\n",
    "\n",
    "psi_qft = psi.compose(qft_circuit)\n",
    "psi_qft.draw('mpl')"
   ]
  },
  {
   "cell_type": "code",
   "execution_count": 214,
   "metadata": {},
   "outputs": [
    {
     "data": {
      "image/png": "[encoded data removed]",
      "text/plain": [
       "<Figure size 788.961x200.667 with 1 Axes>"
      ]
     },
     "execution_count": 214,
     "metadata": {},
     "output_type": "execute_result"
    }
   ],
   "source": [
    "qft_circuit = QFT(num_qubits=2).decompose()\n",
    "phi_qft = phi.compose(qft_circuit)\n",
    "phi_qft.draw('mpl')"
   ]
  },
  {
   "cell_type": "code",
   "execution_count": 215,
   "metadata": {},
   "outputs": [
    {
     "name": "stdout",
     "output_type": "stream",
     "text": [
      "|psi> =  Statevector([1.00000000e+00+0.00000000e+00j,\n",
      "             1.55582133e-19+3.75608496e-19j,\n",
      "             4.76210391e-18+4.76210391e-18j,\n",
      "             1.55582133e-19+6.44442296e-20j,\n",
      "             2.36158002e-17+0.00000000e+00j,\n",
      "             1.55582133e-19-6.44442296e-20j,\n",
      "             4.76210391e-18-4.76210391e-18j,\n",
      "             1.55582133e-19-3.75608496e-19j],\n",
      "            dims=(2, 2, 2))\n",
      "|phi> =  Statevector([ 0.97180973+0.j        , -0.1157474 -0.09262097j,\n",
      "             -0.1078594 +0.j        , -0.1157474 +0.09262097j],\n",
      "            dims=(2, 2))\n"
     ]
    }
   ],
   "source": [
    "state_psi_qft = Statevector(psi_qft)\n",
    "state_phi_qft = Statevector(phi_qft) \n",
    "print(\"|psi> = \", state_psi_qft)\n",
    "print(\"|phi> = \", state_phi_qft)"
   ]
  },
  {
   "cell_type": "code",
   "execution_count": 216,
   "metadata": {},
   "outputs": [
    {
     "name": "stdout",
     "output_type": "stream",
     "text": [
      "Expanded Statevector:\n",
      "Statevector([ 0.97180973+0.j        , -0.1157474 -0.09262097j,\n",
      "             -0.1078594 +0.j        , -0.1157474 +0.09262097j,\n",
      "              0.        +0.j        ,  0.        +0.j        ,\n",
      "              0.        +0.j        ,  0.        +0.j        ],\n",
      "            dims=(2, 2, 2))\n"
     ]
    }
   ],
   "source": [
    "expanded_data = np.zeros(8, dtype=complex)  # 8개의 0 초기화\n",
    "expanded_data[:4] = state_phi_qft.data  # 앞쪽 4개의 슬롯에 |phi> 값 복사\n",
    "\n",
    "# 새로운 상태벡터 생성\n",
    "phi_expanded = Statevector(expanded_data, dims=(2, 2, 2))\n",
    "\n",
    "# 결과 출력\n",
    "print(\"Expanded Statevector:\")\n",
    "\n",
    "print(phi_expanded)"
   ]
  },
  {
   "cell_type": "code",
   "execution_count": 218,
   "metadata": {},
   "outputs": [
    {
     "name": "stdout",
     "output_type": "stream",
     "text": [
      "Element-wise product result =  Statevector([ 9.71809726e-01+0.00000000e+00j,\n",
      "              1.67809958e-20-5.78858730e-20j,\n",
      "             -5.13637680e-19-5.13637680e-19j,\n",
      "             -2.39771137e-20+6.95091606e-21j,\n",
      "              0.00000000e+00+0.00000000e+00j,\n",
      "              0.00000000e+00+0.00000000e+00j,\n",
      "              0.00000000e+00+0.00000000e+00j,\n",
      "              0.00000000e+00+0.00000000e+00j],\n",
      "            dims=(2, 2, 2))\n"
     ]
    }
   ],
   "source": [
    "element_wise = state_psi_qft.data * phi_expanded.data\n",
    "element_wise_result_state = Statevector(element_wise)\n",
    "\n",
    "print(\"Element-wise product result = \", element_wise_result_state)\n",
    "coeff = np.absolute(element_wise_result_state.data[0])\n",
    "element_wise_result_state = element_wise_result_state / np.linalg.norm(element_wise_result_state.data)"
   ]
  },
  {
   "cell_type": "code",
   "execution_count": 219,
   "metadata": {},
   "outputs": [
    {
     "name": "stdout",
     "output_type": "stream",
     "text": [
      "Trimmed Statevector:\n",
      "Statevector([ 1.00000000e+00+0.00000000e+00j,\n",
      "              1.72677793e-20-5.95650275e-20j,\n",
      "             -5.28537292e-19-5.28537292e-19j,\n",
      "             -2.46726422e-20+7.15254837e-21j],\n",
      "            dims=(2, 2))\n"
     ]
    }
   ],
   "source": [
    "# Statevector 객체 생성\n",
    "element_wise_result_state = Statevector(element_wise_result_state, dims=(2, 2, 2))\n",
    "\n",
    "# 앞 4개의 요소만 선택\n",
    "trimmed_data = element_wise_result_state.data[:4]\n",
    "\n",
    "# 새로운 2-qubit Statevector 생성\n",
    "trimmed_state = Statevector(trimmed_data, dims=(2, 2))\n",
    "\n",
    "# 결과 출력\n",
    "print(\"Trimmed Statevector:\")\n",
    "print(trimmed_state)"
   ]
  },
  {
   "cell_type": "code",
   "execution_count": 220,
   "metadata": {},
   "outputs": [
    {
     "data": {
      "image/png": "[encoded data removed]",
      "text/plain": [
       "<Figure size 705.35x200.667 with 1 Axes>"
      ]
     },
     "execution_count": 220,
     "metadata": {},
     "output_type": "execute_result"
    }
   ],
   "source": [
    "element_wise_result = QuantumCircuit(2)\n",
    "element_wise_result.initialize(trimmed_state, [0,1,])\n",
    "qft_circuit = QFT(num_qubits=2, inverse=True).decompose()\n",
    "elemen_wise_result_qft = element_wise_result.compose(qft_circuit)\n",
    "elemen_wise_result_qft.draw('mpl')"
   ]
  },
  {
   "cell_type": "code",
   "execution_count": 221,
   "metadata": {},
   "outputs": [
    {
     "name": "stdout",
     "output_type": "stream",
     "text": [
      "Statevector([0.68717325-3.99213140e-19j, 0.68717325+3.34376351e-19j,\n",
      "             0.68717325-3.27180233e-19j, 0.68717325+3.92017022e-19j],\n",
      "            dims=(2, 2))\n"
     ]
    }
   ],
   "source": [
    "state_result_qft = Statevector(elemen_wise_result_qft)\n",
    "state_result_qft = state_result_qft  * np.sqrt(2) * coeff\n",
    "state_result_qft"
   ]
  },
  {
   "cell_type": "code",
   "execution_count": 222,
   "metadata": {},
   "outputs": [
    {
     "name": "stdout",
     "output_type": "stream",
     "text": [
      "Time domain convolution =  [0.68717325+0.j 0.68717325+0.j 0.68717325+0.j 0.68717325+0.j] \n",
      " Frequency domain multiplication =  [0.68717325-3.99213140e-19j 0.68717325+3.34376351e-19j\n",
      " 0.68717325-3.27180233e-19j 0.68717325+3.92017022e-19j]\n"
     ]
    }
   ],
   "source": [
    "print( \"Time domain convolution = \", result_state.data,\"\\n\",\"Frequency domain multiplication = \",state_result_qft.data)"
   ]
  },
  {
   "cell_type": "markdown",
   "metadata": {},
   "source": [
    "## Time Measurement"
   ]
  },
  {
   "cell_type": "code",
   "execution_count": 188,
   "metadata": {},
   "outputs": [],
   "source": [
    "import time\n",
    "import timeit\n",
    "import cProfile"
   ]
  },
  {
   "cell_type": "markdown",
   "metadata": {},
   "source": [
    "### Classical"
   ]
  },
  {
   "cell_type": "code",
   "execution_count": 4,
   "metadata": {},
   "outputs": [],
   "source": [
    "def circular_convolution(x, y):\n",
    "    L = len(y)  # y의 길이 (순환 주기)\n",
    "    N = len(x)  # x의 길이\n",
    "    z = np.zeros(N)  # 결과 배열 (x와 동일한 길이)\n",
    "    \n",
    "    for v in range(N):  # x의 각 요소에 대해\n",
    "        for m in range(N):  # y를 순환적으로 접근\n",
    "            z[v] += x[m] * y[(v - m) % L]  # 모듈로 연산으로 순환적 접근\n",
    "    return z"
   ]
  },
  {
   "cell_type": "code",
   "execution_count": 183,
   "metadata": {},
   "outputs": [
    {
     "name": "stdout",
     "output_type": "stream",
     "text": [
      "순환 컨볼루션 결과:\n",
      "[0.68717325 0.68717325 0.68717325 0.68717325]\n",
      "0.00000 sec\n"
     ]
    }
   ],
   "source": [
    "# 순환 컨볼루션 계산\n",
    "start = time.time()\n",
    "psi_classic = np.array([1,1,1,1,1,1,1,1]) * (1/np.sqrt(8))\n",
    "phi_classic = np.array([1,np.sqrt(2),np.sqrt(3),np.sqrt(4)]) * (1/np.sqrt(10))\n",
    "\n",
    "z = circular_convolution(phi_classic,psi_classic)\n",
    "end = time.time()\n",
    "\n",
    "# 결과 출력\n",
    "print(\"순환 컨볼루션 결과:\")\n",
    "print(z)\n",
    "print(f\"{end - start:.5f} sec\")\n"
   ]
  },
  {
   "cell_type": "code",
   "execution_count": 185,
   "metadata": {},
   "outputs": [
    {
     "name": "stdout",
     "output_type": "stream",
     "text": [
      "Execution time for 10,000 runs: 0.21080 seconds\n"
     ]
    }
   ],
   "source": [
    "code_to_test = \"\"\"\n",
    "psi_classic = np.array([1,1,1,1,1,1,1,1]) * (1/np.sqrt(8))\n",
    "phi_classic = np.array([1,np.sqrt(2),np.sqrt(3),np.sqrt(4)]) * (1/np.sqrt(10))\n",
    "\n",
    "z = circular_convolution(phi_classic,psi_classic)\n",
    "\"\"\"\n",
    "\n",
    "execution_time = timeit.timeit(code_to_test, globals=globals(), number=10000)\n",
    "print(f\"Execution time for 10,000 runs: {execution_time:.5f} seconds\")"
   ]
  },
  {
   "cell_type": "code",
   "execution_count": null,
   "metadata": {},
   "outputs": [
    {
     "name": "stdout",
     "output_type": "stream",
     "text": [
      "[0.68717325 0.68717325 0.68717325 0.68717325]\n",
      "         185 function calls (181 primitive calls) in 0.001 seconds\n",
      "\n",
      "   Ordered by: standard name\n",
      "\n",
      "   ncalls  tottime  percall  cumtime  percall filename:lineno(function)\n",
      "        1    0.000    0.000    0.000    0.000 1372850889.py:1(circular_convolution)\n",
      "        1    0.000    0.000    0.001    0.001 323326338.py:3(calculate)\n",
      "        1    0.000    0.000    0.001    0.001 <string>:1(<module>)\n",
      "        2    0.000    0.000    0.000    0.000 _ufunc_config.py:132(geterr)\n",
      "        2    0.000    0.000    0.000    0.000 _ufunc_config.py:33(seterr)\n",
      "        1    0.000    0.000    0.000    0.000 _ufunc_config.py:426(__init__)\n",
      "        1    0.000    0.000    0.000    0.000 _ufunc_config.py:430(__enter__)\n",
      "        1    0.000    0.000    0.000    0.000 _ufunc_config.py:435(__exit__)\n",
      "        4    0.000    0.000    0.000    0.000 arrayprint.py:1018(__call__)\n",
      "        1    0.000    0.000    0.000    0.000 arrayprint.py:1595(_array_str_implementation)\n",
      "        1    0.000    0.000    0.000    0.000 arrayprint.py:403(_get_formatdict)\n",
      "        1    0.000    0.000    0.000    0.000 arrayprint.py:411(<lambda>)\n",
      "        1    0.000    0.000    0.000    0.000 arrayprint.py:452(_get_format_function)\n",
      "        1    0.000    0.000    0.000    0.000 arrayprint.py:506(wrapper)\n",
      "        1    0.000    0.000    0.000    0.000 arrayprint.py:523(_array2string)\n",
      "        1    0.000    0.000    0.000    0.000 arrayprint.py:561(array2string)\n",
      "        1    0.000    0.000    0.000    0.000 arrayprint.py:64(_make_options_dict)\n",
      "        1    0.000    0.000    0.000    0.000 arrayprint.py:72(<dictcomp>)\n",
      "        4    0.000    0.000    0.000    0.000 arrayprint.py:739(_extendLine)\n",
      "        4    0.000    0.000    0.000    0.000 arrayprint.py:753(_extendLine_pretty)\n",
      "        1    0.000    0.000    0.000    0.000 arrayprint.py:780(_formatArray)\n",
      "      5/1    0.000    0.000    0.000    0.000 arrayprint.py:789(recurser)\n",
      "        1    0.000    0.000    0.000    0.000 arrayprint.py:898(_none_or_positive_arg)\n",
      "        1    0.000    0.000    0.000    0.000 arrayprint.py:907(__init__)\n",
      "        1    0.000    0.000    0.000    0.000 arrayprint.py:934(fillFormat)\n",
      "        5    0.000    0.000    0.000    0.000 arrayprint.py:984(<genexpr>)\n",
      "        5    0.000    0.000    0.000    0.000 arrayprint.py:989(<genexpr>)\n",
      "        5    0.000    0.000    0.000    0.000 arrayprint.py:993(<genexpr>)\n",
      "        5    0.000    0.000    0.000    0.000 arrayprint.py:994(<genexpr>)\n",
      "        1    0.000    0.000    0.000    0.000 fromnumeric.py:2687(_max_dispatcher)\n",
      "        1    0.000    0.000    0.000    0.000 fromnumeric.py:2692(max)\n",
      "        1    0.000    0.000    0.000    0.000 fromnumeric.py:2831(_min_dispatcher)\n",
      "        1    0.000    0.000    0.000    0.000 fromnumeric.py:2836(min)\n",
      "        2    0.000    0.000    0.000    0.000 fromnumeric.py:71(_wrapreduction)\n",
      "        2    0.000    0.000    0.000    0.000 fromnumeric.py:72(<dictcomp>)\n",
      "        1    0.000    0.000    0.000    0.000 iostream.py:137(_event_pipe)\n",
      "        1    0.000    0.000    0.000    0.000 iostream.py:259(schedule)\n",
      "        2    0.000    0.000    0.000    0.000 iostream.py:521(_is_master_process)\n",
      "        2    0.000    0.000    0.000    0.000 iostream.py:548(_schedule_flush)\n",
      "        2    0.000    0.000    0.000    0.000 iostream.py:626(write)\n",
      "        1    0.000    0.000    0.000    0.000 socket.py:621(send)\n",
      "        1    0.000    0.000    0.000    0.000 threading.py:1125(_wait_for_tstate_lock)\n",
      "        1    0.000    0.000    0.000    0.000 threading.py:1192(is_alive)\n",
      "        1    0.000    0.000    0.000    0.000 threading.py:575(is_set)\n",
      "        1    0.000    0.000    0.000    0.000 {built-in method _thread.get_ident}\n",
      "        1    0.000    0.000    0.001    0.001 {built-in method builtins.exec}\n",
      "        1    0.000    0.000    0.000    0.000 {built-in method builtins.id}\n",
      "        3    0.000    0.000    0.000    0.000 {built-in method builtins.isinstance}\n",
      "        4    0.000    0.000    0.000    0.000 {built-in method builtins.issubclass}\n",
      "       45    0.000    0.000    0.000    0.000 {built-in method builtins.len}\n",
      "        1    0.000    0.000    0.000    0.000 {built-in method builtins.locals}\n",
      "        3    0.000    0.000    0.000    0.000 {built-in method builtins.max}\n",
      "        1    0.000    0.000    0.001    0.001 {built-in method builtins.print}\n",
      "        2    0.000    0.000    0.000    0.000 {built-in method nt.getpid}\n",
      "        2    0.000    0.000    0.000    0.000 {built-in method numpy.array}\n",
      "        1    0.000    0.000    0.000    0.000 {built-in method numpy.asarray}\n",
      "        8    0.000    0.000    0.000    0.000 {built-in method numpy.core._multiarray_umath.dragon4_positional}\n",
      "        4    0.000    0.000    0.000    0.000 {built-in method numpy.geterrobj}\n",
      "        2    0.000    0.000    0.000    0.000 {built-in method numpy.seterrobj}\n",
      "        1    0.000    0.000    0.000    0.000 {built-in method numpy.zeros}\n",
      "        2    0.000    0.000    0.000    0.000 {method '__exit__' of '_thread.RLock' objects}\n",
      "        1    0.000    0.000    0.000    0.000 {method 'acquire' of '_thread.lock' objects}\n",
      "        1    0.000    0.000    0.000    0.000 {method 'add' of 'set' objects}\n",
      "        1    0.000    0.000    0.000    0.000 {method 'append' of 'collections.deque' objects}\n",
      "        1    0.000    0.000    0.000    0.000 {method 'copy' of 'dict' objects}\n",
      "        1    0.000    0.000    0.000    0.000 {method 'disable' of '_lsprof.Profiler' objects}\n",
      "        1    0.000    0.000    0.000    0.000 {method 'discard' of 'set' objects}\n",
      "        3    0.000    0.000    0.000    0.000 {method 'items' of 'dict' objects}\n",
      "        2    0.000    0.000    0.000    0.000 {method 'reduce' of 'numpy.ufunc' objects}\n",
      "        1    0.000    0.000    0.000    0.000 {method 'rstrip' of 'str' objects}\n",
      "        4    0.000    0.000    0.000    0.000 {method 'split' of 'str' objects}\n",
      "        4    0.000    0.000    0.000    0.000 {method 'splitlines' of 'str' objects}\n",
      "        1    0.000    0.000    0.000    0.000 {method 'update' of 'dict' objects}\n",
      "        2    0.000    0.000    0.000    0.000 {method 'write' of '_io.StringIO' objects}\n",
      "\n",
      "\n"
     ]
    }
   ],
   "source": [
    "def calculate():\n",
    "    psi_classic = np.array([1,1,1,1,1,1,1,1]) * (1/np.sqrt(8))\n",
    "    phi_classic = np.array([1,np.sqrt(2),np.sqrt(3),np.sqrt(4)]) * (1/np.sqrt(10))\n",
    "\n",
    "    z = circular_convolution(phi_classic,psi_classic)\n",
    "    print(z)\n",
    "\n",
    "cProfile.run(\"calculate()\")"
   ]
  },
  {
   "cell_type": "markdown",
   "metadata": {},
   "source": [
    "### Quantum circuit"
   ]
  },
  {
   "cell_type": "code",
   "execution_count": 204,
   "metadata": {},
   "outputs": [
    {
     "data": {
      "image/png": "[encoded data removed]",
      "text/plain": [
       "<Figure size 370.906x200.667 with 1 Axes>"
      ]
     },
     "execution_count": 204,
     "metadata": {},
     "output_type": "execute_result"
    }
   ],
   "source": [
    "phi = QuantumCircuit(2)\n",
    "initial_state = np.array([1,np.sqrt(2),np.sqrt(3),2]) * (1/np.sqrt(10))  # |00>, |01>, |10>, |11>에 대한 계수\n",
    "\n",
    "# 2-큐빗 회로 생성\n",
    "# 초기 상태 설정\n",
    "phi.initialize(initial_state, [0, 1])\n",
    "phi.draw('mpl')"
   ]
  },
  {
   "cell_type": "code",
   "execution_count": null,
   "metadata": {},
   "outputs": [
    {
     "name": "stdout",
     "output_type": "stream",
     "text": [
      "Frequency domain multiplication =  [0.68717325-3.99213140e-19j 0.68717325+3.92017022e-19j\n",
      " 0.68717325-3.27180233e-19j 0.68717325+3.34376351e-19j]\n",
      "0.00898 sec\n"
     ]
    }
   ],
   "source": [
    "start = time.time()\n",
    "# 1. 입력 신호 준비: 상태 |ψ⟩ = 1/sqrt(2)(|0⟩ + |1⟩), |φ⟩ = 1/2(sqrt(3)|0⟩ + |1⟩)\n",
    "psi = QuantumCircuit(3)\n",
    "phi = QuantumCircuit(2)\n",
    "\n",
    "# |ψ⟩ 상태\n",
    "psi.h(range(0,3))  # First qubit\n",
    "\n",
    "# |φ⟩ 상태\n",
    "initial_state = np.array([1,np.sqrt(2),np.sqrt(3),2]) * (1/np.sqrt(10))\n",
    "\n",
    "# 2-큐빗 회로 생성\n",
    "# 초기 상태 설정\n",
    "phi.initialize(initial_state, [0, 1])\n",
    "\n",
    "# 2. QFT 적용\n",
    "qft_circuit = QFT(num_qubits=3).decompose()  # Create and decompose QFT for 2 qubits\n",
    "psi_qft = psi.compose(qft_circuit)\n",
    "\n",
    "qft_circuit = QFT(num_qubits=2).decompose()\n",
    "phi_qft = phi.compose(qft_circuit)\n",
    "\n",
    "state_psi_qft = Statevector(psi_qft)\n",
    "state_phi_qft = Statevector(phi_qft) \n",
    "\n",
    "expanded_data = np.zeros(8, dtype=complex)  # 8개의 0 초기화\n",
    "expanded_data[:4] = state_phi_qft.data  # 앞쪽 4개의 슬롯에 |phi> 값 복사\n",
    "\n",
    "# 새로운 상태벡터 생성\n",
    "phi_expanded = Statevector(expanded_data, dims=(2, 2, 2))\n",
    "\n",
    "element_wise = state_psi_qft.data * phi_expanded.data\n",
    "element_wise_result_state = Statevector(element_wise)\n",
    "\n",
    "#print(\"Element-wise product result = \", element_wise_result_state)\n",
    "coeff = np.absolute(element_wise_result_state.data[0])\n",
    "element_wise_result_state = element_wise_result_state / np.linalg.norm(element_wise_result_state.data)\n",
    "\n",
    "# Statevector 객체 생성\n",
    "element_wise_result_state = Statevector(element_wise_result_state, dims=(2, 2, 2))\n",
    "\n",
    "# 앞 4개의 요소만 선택\n",
    "trimmed_data = element_wise_result_state.data[:4]\n",
    "\n",
    "# 새로운 2-qubit Statevector 생성\n",
    "trimmed_state = Statevector(trimmed_data, dims=(2, 2))\n",
    "\n",
    "element_wise_result = QuantumCircuit(2)\n",
    "element_wise_result.initialize(trimmed_state, [0,1,])\n",
    "elemen_wise_result_qft = element_wise_result.compose(qft_circuit)\n",
    "\n",
    "state_result_qft = Statevector(elemen_wise_result_qft)\n",
    "state_result_qft = state_result_qft  * np.sqrt(2) * coeff\n",
    "\n",
    "end = time.time()\n",
    "print(\"Frequency domain multiplication = \",state_result_qft.data)\n",
    "print(f\"{end - start:.5f} sec\")"
   ]
  },
  {
   "cell_type": "code",
   "execution_count": 206,
   "metadata": {},
   "outputs": [
    {
     "name": "stdout",
     "output_type": "stream",
     "text": [
      "Execution time for 10,000 runs: 44.98073 seconds\n"
     ]
    }
   ],
   "source": [
    "code_to_test = \"\"\"\n",
    "psi = QuantumCircuit(3)\n",
    "phi = QuantumCircuit(2)\n",
    "\n",
    "# |ψ⟩ 상태\n",
    "psi.h(range(0,3))  # First qubit\n",
    "\n",
    "# |φ⟩ 상태\n",
    "initial_state = np.array([1,np.sqrt(2),np.sqrt(3),2]) * (1/np.sqrt(10))\n",
    "\n",
    "# 2-큐빗 회로 생성\n",
    "# 초기 상태 설정\n",
    "phi.initialize(initial_state, [0, 1])\n",
    "\n",
    "# 2. QFT 적용\n",
    "qft_circuit = QFT(num_qubits=3).decompose()  # Create and decompose QFT for 2 qubits\n",
    "psi_qft = psi.compose(qft_circuit)\n",
    "\n",
    "qft_circuit = QFT(num_qubits=2).decompose()\n",
    "phi_qft = phi.compose(qft_circuit)\n",
    "\n",
    "state_psi_qft = Statevector(psi_qft)\n",
    "state_phi_qft = Statevector(phi_qft) \n",
    "\n",
    "expanded_data = np.zeros(8, dtype=complex)  # 8개의 0 초기화\n",
    "expanded_data[:4] = state_phi_qft.data  # 앞쪽 4개의 슬롯에 |phi> 값 복사\n",
    "\n",
    "# 새로운 상태벡터 생성\n",
    "phi_expanded = Statevector(expanded_data, dims=(2, 2, 2))\n",
    "\n",
    "element_wise = state_psi_qft.data * phi_expanded.data\n",
    "element_wise_result_state = Statevector(element_wise)\n",
    "\n",
    "#print(\"Element-wise product result = \", element_wise_result_state)\n",
    "coeff = np.absolute(element_wise_result_state.data[0])\n",
    "element_wise_result_state = element_wise_result_state / np.linalg.norm(element_wise_result_state.data)\n",
    "\n",
    "# Statevector 객체 생성\n",
    "element_wise_result_state = Statevector(element_wise_result_state, dims=(2, 2, 2))\n",
    "\n",
    "# 앞 4개의 요소만 선택\n",
    "trimmed_data = element_wise_result_state.data[:4]\n",
    "\n",
    "# 새로운 2-qubit Statevector 생성\n",
    "trimmed_state = Statevector(trimmed_data, dims=(2, 2))\n",
    "\n",
    "element_wise_result = QuantumCircuit(2)\n",
    "element_wise_result.initialize(trimmed_state, [0,1,])\n",
    "elemen_wise_result_qft = element_wise_result.compose(qft_circuit)\n",
    "\n",
    "state_result_qft = Statevector(elemen_wise_result_qft)\n",
    "state_result_qft = state_result_qft  * np.sqrt(2) * coeff\n",
    "\"\"\"\n",
    "\n",
    "execution_time = timeit.timeit(code_to_test, globals=globals(), number=10000)\n",
    "print(f\"Execution time for 10,000 runs: {execution_time:.5f} seconds\")"
   ]
  },
  {
   "cell_type": "code",
   "execution_count": 208,
   "metadata": {},
   "outputs": [
    {
     "name": "stdout",
     "output_type": "stream",
     "text": [
      "Frequency domain multiplication =  [0.68717325-3.99213140e-19j 0.68717325+3.92017022e-19j\n",
      " 0.68717325-3.27180233e-19j 0.68717325+3.34376351e-19j]\n",
      "         14018 function calls (13530 primitive calls) in 0.018 seconds\n",
      "\n",
      "   Ordered by: standard name\n",
      "\n",
      "   ncalls  tottime  percall  cumtime  percall filename:lineno(function)\n",
      "        1    0.000    0.000    0.018    0.018 3831187040.py:1(calculate)\n",
      "       10    0.000    0.000    0.000    0.000 <frozen _collections_abc>:812(__init__)\n",
      "      266    0.000    0.000    0.000    0.000 <frozen abc>:117(__instancecheck__)\n",
      "       44    0.000    0.000    0.000    0.000 <frozen abc>:121(__subclasscheck__)\n",
      "       26    0.000    0.000    0.000    0.000 <frozen importlib._bootstrap>:1101(_sanity_check)\n",
      "       26    0.000    0.000    0.000    0.000 <frozen importlib._bootstrap>:1165(_find_and_load)\n",
      "       26    0.000    0.000    0.000    0.000 <frozen importlib._bootstrap>:1192(_gcd_import)\n",
      "       25    0.000    0.000    0.000    0.000 <frozen importlib._bootstrap>:1207(_handle_fromlist)\n",
      "       14    0.000    0.000    0.000    0.000 <frozen importlib._bootstrap>:405(parent)\n",
      "       10    0.000    0.000    0.000    0.000 <string>:1(<lambda>)\n",
      "        1    0.000    0.000    0.018    0.018 <string>:1(<module>)\n",
      "       26    0.000    0.000    0.000    0.000 __init__.py:108(import_module)\n",
      "       26    0.000    0.000    0.000    0.000 __init__.py:1467(debug)\n",
      "       26    0.000    0.000    0.000    0.000 __init__.py:1734(isEnabledFor)\n",
      "       26    0.000    0.000    0.000    0.000 __init__.py:196(load)\n",
      "        5    0.000    0.000    0.000    0.000 __init__.py:469(__getnewargs__)\n",
      "        5    0.000    0.000    0.000    0.000 _classical_resource_map.py:42(__init__)\n",
      "        2    0.000    0.000    0.000    0.000 _methods.py:90(_clip)\n",
      "        8    0.000    0.000    0.000    0.000 _ufunc_config.py:132(geterr)\n",
      "        8    0.000    0.000    0.000    0.000 _ufunc_config.py:33(seterr)\n",
      "        2    0.000    0.000    0.000    0.000 _ufunc_config.py:426(__init__)\n",
      "        4    0.000    0.000    0.000    0.000 _ufunc_config.py:430(__enter__)\n",
      "        4    0.000    0.000    0.000    0.000 _ufunc_config.py:435(__exit__)\n",
      "       13    0.000    0.000    0.000    0.000 _utils.py:119(__array__)\n",
      "        5    0.000    0.000    0.000    0.000 _utils.py:22(sort_parameters)\n",
      "        4    0.000    0.000    0.000    0.000 _utils.py:78(_ctrl_state_to_int)\n",
      "        8    0.000    0.000    0.000    0.000 arrayprint.py:1018(__call__)\n",
      "        1    0.000    0.000    0.000    0.000 arrayprint.py:1247(__init__)\n",
      "        4    0.000    0.000    0.000    0.000 arrayprint.py:1267(__call__)\n",
      "        1    0.000    0.000    0.000    0.000 arrayprint.py:1595(_array_str_implementation)\n",
      "        1    0.000    0.000    0.000    0.000 arrayprint.py:403(_get_formatdict)\n",
      "        1    0.000    0.000    0.000    0.000 arrayprint.py:415(<lambda>)\n",
      "        1    0.000    0.000    0.000    0.000 arrayprint.py:452(_get_format_function)\n",
      "        1    0.000    0.000    0.000    0.000 arrayprint.py:506(wrapper)\n",
      "        1    0.000    0.000    0.000    0.000 arrayprint.py:523(_array2string)\n",
      "        1    0.000    0.000    0.000    0.000 arrayprint.py:561(array2string)\n",
      "        1    0.000    0.000    0.000    0.000 arrayprint.py:64(_make_options_dict)\n",
      "        1    0.000    0.000    0.000    0.000 arrayprint.py:72(<dictcomp>)\n",
      "        4    0.000    0.000    0.000    0.000 arrayprint.py:739(_extendLine)\n",
      "        4    0.000    0.000    0.000    0.000 arrayprint.py:753(_extendLine_pretty)\n",
      "        1    0.000    0.000    0.000    0.000 arrayprint.py:780(_formatArray)\n",
      "      5/1    0.000    0.000    0.000    0.000 arrayprint.py:789(recurser)\n",
      "        2    0.000    0.000    0.000    0.000 arrayprint.py:898(_none_or_positive_arg)\n",
      "        2    0.000    0.000    0.000    0.000 arrayprint.py:907(__init__)\n",
      "        2    0.000    0.000    0.000    0.000 arrayprint.py:934(fillFormat)\n",
      "        5    0.000    0.000    0.000    0.000 arrayprint.py:960(<genexpr>)\n",
      "        5    0.000    0.000    0.000    0.000 arrayprint.py:963(<genexpr>)\n",
      "        5    0.000    0.000    0.000    0.000 arrayprint.py:964(<genexpr>)\n",
      "        5    0.000    0.000    0.000    0.000 arrayprint.py:965(<genexpr>)\n",
      "        5    0.000    0.000    0.000    0.000 arrayprint.py:968(<genexpr>)\n",
      "        5    0.000    0.000    0.000    0.000 arrayprint.py:977(<genexpr>)\n",
      "        5    0.000    0.000    0.000    0.000 arrayprint.py:984(<genexpr>)\n",
      "        5    0.000    0.000    0.000    0.000 arrayprint.py:989(<genexpr>)\n",
      "        5    0.000    0.000    0.000    0.000 arrayprint.py:993(<genexpr>)\n",
      "        5    0.000    0.000    0.000    0.000 arrayprint.py:994(<genexpr>)\n",
      "        2    0.000    0.000    0.000    0.000 base_operator.py:135(input_dims)\n",
      "       22    0.000    0.000    0.000    0.000 base_operator.py:30(__init__)\n",
      "        4    0.000    0.000    0.000    0.000 base_tasks.py:64(__init__)\n",
      "        4    0.000    0.000    0.001    0.000 basepasses.py:50(__call__)\n",
      "        4    0.000    0.000    0.001    0.000 basepasses.py:55(_freeze_init_parameters)\n",
      "        4    0.000    0.000    0.000    0.000 basepasses.py:74(__init__)\n",
      "      569    0.000    0.000    0.000    0.000 bit.py:115(__hash__)\n",
      "        6    0.000    0.000    0.000    0.000 bit.py:118(__eq__)\n",
      "      7/2    0.000    0.000    0.000    0.000 bit.py:131(__deepcopy__)\n",
      "       24    0.000    0.000    0.000    0.000 bit.py:33(__init__)\n",
      "        2    0.000    0.000    0.000    0.000 blueprintcircuit.py:122(_append)\n",
      "        2    0.000    0.000    0.000    0.000 blueprintcircuit.py:127(compose)\n",
      "        2    0.000    0.000    0.000    0.000 blueprintcircuit.py:33(__init__)\n",
      "        2    0.000    0.000    0.000    0.000 blueprintcircuit.py:56(_build)\n",
      "        8    0.000    0.000    0.000    0.000 blueprintcircuit.py:66(_invalidate)\n",
      "        8    0.000    0.000    0.000    0.000 blueprintcircuit.py:73(qregs)\n",
      "        6    0.000    0.000    0.000    0.000 blueprintcircuit.py:78(qregs)\n",
      "        2    0.000    0.000    0.000    0.000 blueprintcircuit.py:89(data)\n",
      "        2    0.000    0.000    0.009    0.004 blueprintcircuit.py:95(decompose)\n",
      "        4    0.000    0.000    0.004    0.001 circuit_to_dag.py:19(circuit_to_dag)\n",
      "        2    0.000    0.000    0.000    0.000 circuit_to_gate.py:101(<dictcomp>)\n",
      "       28    0.000    0.000    0.000    0.000 circuit_to_gate.py:107(<genexpr>)\n",
      "       11    0.000    0.000    0.000    0.000 circuit_to_gate.py:21(_check_is_gate)\n",
      "        2    0.000    0.000    0.001    0.001 circuit_to_gate.py:30(circuit_to_gate)\n",
      "        2    0.000    0.000    0.000    0.000 circuit_to_gate.py:72(<dictcomp>)\n",
      "        3    0.000    0.000    0.000    0.000 circuit_to_instruction.py:100(<dictcomp>)\n",
      "        3    0.000    0.000    0.000    0.000 circuit_to_instruction.py:101(<dictcomp>)\n",
      "        3    0.000    0.000    0.000    0.000 circuit_to_instruction.py:103(<listcomp>)\n",
      "       20    0.000    0.000    0.000    0.000 circuit_to_instruction.py:105(<listcomp>)\n",
      "       20    0.000    0.000    0.000    0.000 circuit_to_instruction.py:106(<listcomp>)\n",
      "        3    0.000    0.000    0.001    0.000 circuit_to_instruction.py:21(circuit_to_instruction)\n",
      "        3    0.000    0.000    0.000    0.000 circuit_to_instruction.py:65(<dictcomp>)\n",
      "        2    0.000    0.000    0.000    0.000 contextlib.py:65(_recreate_cm)\n",
      "        2    0.000    0.000    0.000    0.000 contextlib.py:78(inner)\n",
      "        8    0.000    0.000    0.000    0.000 controlledgate.py:134(definition)\n",
      "       16    0.000    0.000    0.000    0.000 controlledgate.py:143(name)\n",
      "       20    0.000    0.000    0.000    0.000 controlledgate.py:166(num_ctrl_qubits)\n",
      "        4    0.000    0.000    0.000    0.000 controlledgate.py:175(num_ctrl_qubits)\n",
      "       21    0.000    0.000    0.000    0.000 controlledgate.py:196(ctrl_state)\n",
      "        4    0.000    0.000    0.000    0.000 controlledgate.py:201(ctrl_state)\n",
      "       35    0.000    0.000    0.000    0.000 controlledgate.py:213(params)\n",
      "        4    0.000    0.000    0.000    0.000 controlledgate.py:228(params)\n",
      "       22    0.000    0.000    0.001    0.000 controlledgate.py:246(__deepcopy__)\n",
      "       16    0.000    0.000    0.000    0.000 controlledgate.py:253(_open_ctrl)\n",
      "        4    0.000    0.000    0.000    0.000 controlledgate.py:31(__init__)\n",
      "   364/33    0.001    0.000    0.003    0.000 copy.py:128(deepcopy)\n",
      "      162    0.000    0.000    0.000    0.000 copy.py:182(_deepcopy_atomic)\n",
      "    25/23    0.000    0.000    0.001    0.000 copy.py:201(_deepcopy_list)\n",
      "    42/18    0.000    0.000    0.001    0.000 copy.py:210(_deepcopy_tuple)\n",
      "    42/18    0.000    0.000    0.001    0.000 copy.py:211(<listcomp>)\n",
      "    31/10    0.000    0.000    0.002    0.000 copy.py:227(_deepcopy_dict)\n",
      "      140    0.000    0.000    0.000    0.000 copy.py:243(_keep_alive)\n",
      "   103/69    0.000    0.000    0.003    0.000 copy.py:259(_reconstruct)\n",
      "       82    0.000    0.000    0.000    0.000 copy.py:264(<genexpr>)\n",
      "       99    0.000    0.000    0.001    0.000 copy.py:66(copy)\n",
      "       89    0.000    0.000    0.000    0.000 copyreg.py:104(__newobj__)\n",
      "        4    0.000    0.000    0.000    0.000 copyreg.py:113(_slotnames)\n",
      "        2    0.000    0.000    0.000    0.000 dag_to_circuit.py:19(dag_to_circuit)\n",
      "        2    0.000    0.000    0.000    0.000 dagcircuit.py:1073(topological_nodes)\n",
      "       21    0.000    0.000    0.000    0.000 dagcircuit.py:1087(_key)\n",
      "        2    0.000    0.000    0.000    0.000 dagcircuit.py:1095(topological_op_nodes)\n",
      "       13    0.000    0.000    0.000    0.000 dagcircuit.py:1110(<genexpr>)\n",
      "        2    0.000    0.000    0.000    0.000 dagcircuit.py:119(wires)\n",
      "        2    0.000    0.000    0.000    0.000 dagcircuit.py:1192(substitute_node_with_dag)\n",
      "        2    0.000    0.000    0.000    0.000 dagcircuit.py:1248(<dictcomp>)\n",
      "        4    0.000    0.000    0.000    0.000 dagcircuit.py:131(global_phase)\n",
      "       21    0.000    0.000    0.000    0.000 dagcircuit.py:1328(filter_fn)\n",
      "       10    0.000    0.000    0.000    0.000 dagcircuit.py:1337(edge_map_fn)\n",
      "        4    0.000    0.000    0.000    0.000 dagcircuit.py:136(global_phase)\n",
      "       12    0.000    0.000    0.000    0.000 dagcircuit.py:1360(edge_weight_map)\n",
      "       11    0.000    0.000    0.000    0.000 dagcircuit.py:1392(<listcomp>)\n",
      "       11    0.000    0.000    0.000    0.000 dagcircuit.py:1393(<listcomp>)\n",
      "        2    0.000    0.000    0.000    0.000 dagcircuit.py:1399(<dictcomp>)\n",
      "        4    0.000    0.000    0.000    0.000 dagcircuit.py:153(calibrations)\n",
      "        4    0.000    0.000    0.000    0.000 dagcircuit.py:1616(op_nodes)\n",
      "        4    0.000    0.000    0.000    0.000 dagcircuit.py:162(calibrations)\n",
      "        2    0.000    0.000    0.000    0.000 dagcircuit.py:212(has_calibration_for)\n",
      "        4    0.000    0.000    0.000    0.000 dagcircuit.py:233(add_qubits)\n",
      "       14    0.000    0.000    0.000    0.000 dagcircuit.py:235(<genexpr>)\n",
      "        4    0.000    0.000    0.000    0.000 dagcircuit.py:247(add_clbits)\n",
      "        4    0.000    0.000    0.000    0.000 dagcircuit.py:249(<genexpr>)\n",
      "        4    0.000    0.000    0.000    0.000 dagcircuit.py:261(add_qreg)\n",
      "       10    0.000    0.000    0.000    0.000 dagcircuit.py:297(_add_wire)\n",
      "       37    0.000    0.000    0.000    0.000 dagcircuit.py:322(find_bit)\n",
      "       13    0.000    0.000    0.000    0.000 dagcircuit.py:583(_operation_may_have_bits)\n",
      "       24    0.000    0.000    0.000    0.000 dagcircuit.py:599(_increment_op)\n",
      "        2    0.000    0.000    0.000    0.000 dagcircuit.py:605(_decrement_op)\n",
      "       13    0.000    0.000    0.000    0.000 dagcircuit.py:641(apply_operation_back)\n",
      "        4    0.000    0.000    0.000    0.000 dagcircuit.py:65(__init__)\n",
      "       13    0.000    0.000    0.000    0.000 dagcircuit.py:691(<listcomp>)\n",
      "       44    0.000    0.000    0.000    0.000 dagnode.py:175(__init__)\n",
      "       24    0.000    0.000    0.000    0.000 dagnode.py:255(__init__)\n",
      "       60    0.000    0.000    0.000    0.000 dagnode.py:267(<genexpr>)\n",
      "       10    0.000    0.000    0.000    0.000 dagnode.py:294(__init__)\n",
      "       10    0.000    0.000    0.000    0.000 dagnode.py:312(__init__)\n",
      "        2    0.000    0.000    0.000    0.000 decompose.py:26(__init__)\n",
      "        2    0.000    0.000    0.001    0.001 decompose.py:39(run)\n",
      "        2    0.000    0.000    0.000    0.000 decompose.py:69(_should_decompose)\n",
      "       20    0.000    0.000    0.000    0.000 enum.py:1095(__new__)\n",
      "       20    0.000    0.000    0.000    0.000 enum.py:688(__call__)\n",
      "        2    0.000    0.000    0.001    0.000 extension.py:107(__init__)\n",
      "        2    0.000    0.000    0.000    0.000 extension.py:163(_init_attributes)\n",
      "        2    0.000    0.000    0.000    0.000 extension.py:169(_init_plugins)\n",
      "        2    0.000    0.000    0.000    0.000 extension.py:184(list_entry_points)\n",
      "        2    0.000    0.000    0.001    0.000 extension.py:200(_load_plugins)\n",
      "       26    0.000    0.000    0.000    0.000 extension.py:231(_load_one_plugin)\n",
      "        2    0.000    0.000    0.000    0.000 extension.py:247(names)\n",
      "        2    0.000    0.000    0.000    0.000 extension.py:252(<listcomp>)\n",
      "       26    0.000    0.000    0.000    0.000 extension.py:44(__init__)\n",
      "       22    0.000    0.000    0.000    0.000 fromnumeric.py:1021(_argsort_dispatcher)\n",
      "       22    0.000    0.000    0.000    0.000 fromnumeric.py:1025(argsort)\n",
      "       92    0.000    0.000    0.000    0.000 fromnumeric.py:195(_reshape_dispatcher)\n",
      "       92    0.000    0.000    0.000    0.000 fromnumeric.py:200(reshape)\n",
      "        2    0.000    0.000    0.000    0.000 fromnumeric.py:2096(_clip_dispatcher)\n",
      "        2    0.000    0.000    0.000    0.000 fromnumeric.py:2100(clip)\n",
      "        2    0.000    0.000    0.000    0.000 fromnumeric.py:2687(_max_dispatcher)\n",
      "        2    0.000    0.000    0.000    0.000 fromnumeric.py:2692(max)\n",
      "        2    0.000    0.000    0.000    0.000 fromnumeric.py:2831(_min_dispatcher)\n",
      "        2    0.000    0.000    0.000    0.000 fromnumeric.py:2836(min)\n",
      "        2    0.000    0.000    0.000    0.000 fromnumeric.py:2974(_prod_dispatcher)\n",
      "        2    0.000    0.000    0.000    0.000 fromnumeric.py:2979(prod)\n",
      "       22    0.000    0.000    0.000    0.000 fromnumeric.py:40(_wrapit)\n",
      "      162    0.000    0.000    0.001    0.000 fromnumeric.py:53(_wrapfunc)\n",
      "       46    0.000    0.000    0.000    0.000 fromnumeric.py:584(_transpose_dispatcher)\n",
      "       46    0.000    0.000    0.000    0.000 fromnumeric.py:588(transpose)\n",
      "        6    0.000    0.000    0.000    0.000 fromnumeric.py:71(_wrapreduction)\n",
      "        6    0.000    0.000    0.000    0.000 fromnumeric.py:72(<dictcomp>)\n",
      "       14    0.000    0.000    0.000    0.000 gate.py:131(_broadcast_single_argument)\n",
      "       14    0.000    0.000    0.000    0.000 gate.py:142(_broadcast_2_arguments)\n",
      "        2    0.000    0.000    0.000    0.000 gate.py:164(_broadcast_3_or_more_args)\n",
      "        4    0.000    0.000    0.000    0.000 gate.py:166(<genexpr>)\n",
      "       14    0.000    0.000    0.000    0.000 gate.py:172(broadcast_arguments)\n",
      "       37    0.000    0.000    0.000    0.000 gate.py:215(<genexpr>)\n",
      "        8    0.000    0.000    0.000    0.000 gate.py:231(validate_parameter)\n",
      "       12    0.000    0.000    0.000    0.000 gate.py:27(__init__)\n",
      "       18    0.000    0.000    0.000    0.000 gate.py:50(to_matrix)\n",
      "        6    0.000    0.000    0.000    0.000 getlimits.py:484(__new__)\n",
      "        2    0.000    0.000    0.001    0.000 high_level_synthesis.py:159(__init__)\n",
      "        2    0.000    0.000    0.000    0.000 high_level_synthesis.py:214(run)\n",
      "        2    0.000    0.000    0.000    0.000 high_level_synthesis.py:262(_recursively_handle_op)\n",
      "        2    0.000    0.000    0.000    0.000 high_level_synthesis.py:337(_synthesize_op_using_plugins)\n",
      "        2    0.000    0.000    0.000    0.000 high_level_synthesis.py:406(_synthesize_annotated_op)\n",
      "        2    0.000    0.000    0.000    0.000 high_level_synthesis.py:91(__init__)\n",
      "        2    0.000    0.000    0.000    0.000 initializer.py:41(__init__)\n",
      "       14    0.000    0.000    0.000    0.000 initializer.py:85(params)\n",
      "        2    0.000    0.000    0.000    0.000 initializer.py:90(params)\n",
      "        2    0.000    0.000    0.000    0.000 initializer.py:95(broadcast_arguments)\n",
      "        4    0.000    0.000    0.000    0.000 inspect.py:167(get_annotations)\n",
      "        4    0.000    0.000    0.000    0.000 inspect.py:2331(_signature_from_function)\n",
      "        4    0.000    0.000    0.000    0.000 inspect.py:2435(_signature_from_callable)\n",
      "       20    0.000    0.000    0.000    0.000 inspect.py:2669(__init__)\n",
      "       48    0.000    0.000    0.000    0.000 inspect.py:2722(name)\n",
      "       16    0.000    0.000    0.000    0.000 inspect.py:2726(default)\n",
      "       58    0.000    0.000    0.000    0.000 inspect.py:2734(kind)\n",
      "        4    0.000    0.000    0.000    0.000 inspect.py:2814(__init__)\n",
      "        4    0.000    0.000    0.000    0.000 inspect.py:2955(__init__)\n",
      "       24    0.000    0.000    0.000    0.000 inspect.py:3002(<genexpr>)\n",
      "        4    0.000    0.000    0.000    0.000 inspect.py:3007(from_callable)\n",
      "        4    0.000    0.000    0.000    0.000 inspect.py:3015(parameters)\n",
      "        4    0.000    0.000    0.000    0.000 inspect.py:3059(_bind)\n",
      "        4    0.000    0.000    0.000    0.000 inspect.py:3190(bind)\n",
      "        4    0.000    0.000    0.000    0.000 inspect.py:3261(signature)\n",
      "        8    0.000    0.000    0.000    0.000 inspect.py:378(isfunction)\n",
      "        4    0.000    0.000    0.000    0.000 inspect.py:735(unwrap)\n",
      "        4    0.000    0.000    0.000    0.000 instruction.py:140(mutable)\n",
      "       61    0.000    0.000    0.000    0.000 instruction.py:159(condition)\n",
      "        2    0.000    0.000    0.000    0.000 instruction.py:164(condition)\n",
      "      120    0.000    0.000    0.000    0.000 instruction.py:273(params)\n",
      "       17    0.000    0.000    0.000    0.000 instruction.py:278(params)\n",
      "       21    0.000    0.000    0.000    0.000 instruction.py:297(definition)\n",
      "       13    0.000    0.000    0.000    0.000 instruction.py:304(definition)\n",
      "    44/30    0.000    0.000    0.001    0.000 instruction.py:483(copy)\n",
      "    32/28    0.000    0.000    0.003    0.000 instruction.py:500(__deepcopy__)\n",
      "       17    0.000    0.000    0.000    0.000 instruction.py:61(__init__)\n",
      "       45    0.000    0.000    0.000    0.000 instruction.py:627(name)\n",
      "       42    0.000    0.000    0.000    0.000 instruction.py:637(num_qubits)\n",
      "        5    0.000    0.000    0.000    0.000 instruction.py:647(num_clbits)\n",
      "       16    0.000    0.000    0.000    0.000 instructionset.py:31(__init__)\n",
      "       18    0.000    0.000    0.000    0.000 instructionset.py:66(add)\n",
      "        1    0.000    0.000    0.000    0.000 iostream.py:137(_event_pipe)\n",
      "        1    0.000    0.000    0.000    0.000 iostream.py:259(schedule)\n",
      "        4    0.000    0.000    0.000    0.000 iostream.py:521(_is_master_process)\n",
      "        4    0.000    0.000    0.000    0.000 iostream.py:548(_schedule_flush)\n",
      "        4    0.000    0.000    0.000    0.000 iostream.py:626(write)\n",
      "        3    0.000    0.000    0.000    0.000 linalg.py:140(isComplexType)\n",
      "        3    0.000    0.000    0.000    0.000 linalg.py:2379(_norm_dispatcher)\n",
      "        3    0.000    0.000    0.000    0.000 linalg.py:2383(norm)\n",
      "        2    0.000    0.000    0.000    0.000 multiarray.py:153(concatenate)\n",
      "       24    0.000    0.000    0.000    0.000 multiarray.py:741(dot)\n",
      "        8    0.000    0.000    0.000    0.000 multiprocessing.py:41(is_main_process)\n",
      "        4    0.000    0.000    0.000    0.000 numerictypes.py:283(issubclass_)\n",
      "        2    0.000    0.000    0.000    0.000 numerictypes.py:357(issubdtype)\n",
      "       22    0.000    0.000    0.000    0.000 op_shape.py:119(num_qargs)\n",
      "       66    0.000    0.000    0.000    0.000 op_shape.py:124(shape)\n",
      "       22    0.000    0.000    0.000    0.000 op_shape.py:136(tensor_shape)\n",
      "       24    0.000    0.000    0.000    0.000 op_shape.py:146(dims_r)\n",
      "       28    0.000    0.000    0.000    0.000 op_shape.py:155(dims_l)\n",
      "       22    0.000    0.000    0.000    0.000 op_shape.py:164(_dim_r)\n",
      "       66    0.000    0.000    0.000    0.000 op_shape.py:171(_dim_l)\n",
      "       32    0.000    0.000    0.000    0.000 op_shape.py:178(validate_shape)\n",
      "       32    0.000    0.000    0.000    0.000 op_shape.py:182(_validate)\n",
      "       32    0.000    0.000    0.001    0.000 op_shape.py:224(auto)\n",
      "       54    0.000    0.000    0.000    0.000 op_shape.py:30(__init__)\n",
      "       22    0.000    0.000    0.000    0.000 op_shape.py:425(compose)\n",
      "       22    0.000    0.000    0.000    0.000 operator.py:142(data)\n",
      "       22    0.000    0.000    0.001    0.000 operator.py:59(__init__)\n",
      "       23    0.000    0.000    0.000    0.000 operator.py:699(_instruction_to_matrix)\n",
      "        4    0.000    0.000    0.000    0.000 p.py:177(__init__)\n",
      "        5    0.000    0.000    0.000    0.000 p.py:252(__array__)\n",
      "        4    0.000    0.000    0.000    0.000 p.py:78(__init__)\n",
      "       38    0.000    0.000    0.000    0.000 parametertable.py:105(<setcomp>)\n",
      "       10    0.000    0.000    0.000    0.000 parametertable.py:132(get_keys)\n",
      "        8    0.000    0.000    0.000    0.000 parametertable.py:153(__iter__)\n",
      "       10    0.000    0.000    0.000    0.000 parametertable.py:170(__init__)\n",
      "        5    0.000    0.000    0.000    0.000 parametertable.py:234(__ne__)\n",
      "       10    0.000    0.000    0.000    0.000 parametertable.py:256(__iter__)\n",
      "       38    0.000    0.000    0.000    0.000 parametertable.py:86(__init__)\n",
      "        8    0.000    0.000    0.000    0.000 parametertable.py:98(<genexpr>)\n",
      "        8    0.000    0.000    0.000    0.000 platform.py:825(uname)\n",
      "        8    0.000    0.000    0.000    0.000 platform.py:914(system)\n",
      "        2    0.000    0.000    0.001    0.000 plugin.py:579(__init__)\n",
      "        2    0.000    0.000    0.000    0.000 plugin.py:594(method_names)\n",
      "        8    0.000    0.000    0.000    0.000 process.py:37(current_process)\n",
      "        8    0.000    0.000    0.000    0.000 qft.py:105(num_qubits)\n",
      "        2    0.000    0.000    0.000    0.000 qft.py:116(num_qubits)\n",
      "        7    0.000    0.000    0.000    0.000 qft.py:132(approximation_degree)\n",
      "        7    0.000    0.000    0.000    0.000 qft.py:158(insert_barriers)\n",
      "        2    0.000    0.000    0.000    0.000 qft.py:230(_warn_if_precision_loss)\n",
      "        2    0.000    0.000    0.000    0.000 qft.py:246(_check_configuration)\n",
      "        2    0.000    0.000    0.002    0.001 qft.py:256(_build)\n",
      "        2    0.000    0.000    0.000    0.000 qft.py:76(__init__)\n",
      "       10    0.000    0.000    0.000    0.000 quantum_state.py:33(__init__)\n",
      "        2    0.000    0.000    0.000    0.000 quantum_state.py:447(_subsystem_probabilities)\n",
      "        2    0.000    0.000    0.000    0.000 quantum_state.py:469(<listcomp>)\n",
      "        2    0.000    0.000    0.000    0.000 quantum_state.py:471(<genexpr>)\n",
      "        2    0.000    0.000    0.000    0.000 quantum_state.py:487(__mul__)\n",
      "        1    0.000    0.000    0.000    0.000 quantum_state.py:490(__truediv__)\n",
      "        2    0.000    0.000    0.000    0.000 quantum_state.py:64(_rng)\n",
      "        4    0.000    0.000    0.000    0.000 quantum_state.py:70(dims)\n",
      "       66    0.000    0.000    0.000    0.000 quantumcircuit.py:1070(qubits)\n",
      "       32    0.000    0.000    0.000    0.000 quantumcircuit.py:1077(clbits)\n",
      "        2    0.000    0.000    0.000    0.000 quantumcircuit.py:1109(__len__)\n",
      "       23    0.000    0.000    0.000    0.000 quantumcircuit.py:1121(__getitem__)\n",
      "       27    0.000    0.000    0.000    0.000 quantumcircuit.py:1133(qbit_argument_conversion)\n",
      "       16    0.000    0.000    0.001    0.000 quantumcircuit.py:1213(append)\n",
      "       28    0.000    0.000    0.000    0.000 quantumcircuit.py:1269(<genexpr>)\n",
      "       16    0.000    0.000    0.000    0.000 quantumcircuit.py:1273(<listcomp>)\n",
      "       16    0.000    0.000    0.000    0.000 quantumcircuit.py:1274(<listcomp>)\n",
      "       75    0.000    0.000    0.001    0.000 quantumcircuit.py:1317(_append)\n",
      "       75    0.000    0.000    0.000    0.000 quantumcircuit.py:1364(_update_parameter_table)\n",
      "       22    0.000    0.000    0.001    0.000 quantumcircuit.py:1385(add_register)\n",
      "       32    0.000    0.000    0.000    0.000 quantumcircuit.py:1390(<genexpr>)\n",
      "       14    0.000    0.000    0.000    0.000 quantumcircuit.py:1417(<genexpr>)\n",
      "        4    0.000    0.000    0.000    0.000 quantumcircuit.py:1456(add_bits)\n",
      "       18    0.000    0.000    0.000    0.000 quantumcircuit.py:1512(_check_dups)\n",
      "        3    0.000    0.000    0.001    0.000 quantumcircuit.py:1518(to_instruction)\n",
      "        2    0.000    0.000    0.001    0.001 quantumcircuit.py:1540(to_gate)\n",
      "        2    0.000    0.000    0.006    0.003 quantumcircuit.py:1562(decompose)\n",
      "       19    0.000    0.000    0.000    0.000 quantumcircuit.py:1931(num_qubits)\n",
      "        9    0.000    0.000    0.000    0.000 quantumcircuit.py:1941(num_clbits)\n",
      "       14    0.000    0.000    0.001    0.000 quantumcircuit.py:197(__init__)\n",
      "       28    0.000    0.000    0.000    0.000 quantumcircuit.py:204(<genexpr>)\n",
      "        8    0.000    0.000    0.001    0.000 quantumcircuit.py:2074(copy)\n",
      "        6    0.000    0.000    0.000    0.000 quantumcircuit.py:208(<genexpr>)\n",
      "        8    0.000    0.000    0.000    0.000 quantumcircuit.py:2085(<dictcomp>)\n",
      "        8    0.000    0.000    0.000    0.000 quantumcircuit.py:2090(<dictcomp>)\n",
      "        8    0.000    0.000    0.000    0.000 quantumcircuit.py:2099(<listcomp>)\n",
      "        8    0.000    0.000    0.000    0.000 quantumcircuit.py:2106(copy_empty_like)\n",
      "        6    0.000    0.000    0.000    0.000 quantumcircuit.py:218(<genexpr>)\n",
      "       33    0.000    0.000    0.000    0.000 quantumcircuit.py:2445(global_phase)\n",
      "       25    0.000    0.000    0.000    0.000 quantumcircuit.py:2452(global_phase)\n",
      "       10    0.000    0.000    0.000    0.000 quantumcircuit.py:2467(parameters)\n",
      "       10    0.000    0.000    0.000    0.000 quantumcircuit.py:2540(_unsorted_parameters)\n",
      "        5    0.000    0.000    0.001    0.000 quantumcircuit.py:2579(assign_parameters)\n",
      "        5    0.000    0.000    0.000    0.000 quantumcircuit.py:2693(<listcomp>)\n",
      "        5    0.000    0.000    0.000    0.000 quantumcircuit.py:2775(<genexpr>)\n",
      "        5    0.000    0.000    0.000    0.000 quantumcircuit.py:2788(_unroll_param_dict)\n",
      "        6    0.000    0.000    0.000    0.000 quantumcircuit.py:2908(h)\n",
      "        4    0.000    0.000    0.001    0.000 quantumcircuit.py:3016(cp)\n",
      "        2    0.000    0.000    0.000    0.000 quantumcircuit.py:3490(swap)\n",
      "       16    0.000    0.000    0.000    0.000 quantumcircuit.py:365(data)\n",
      "        2    0.000    0.000    0.000    0.000 quantumcircuit.py:4126(initialize)\n",
      "        7    0.000    0.000    0.000    0.000 quantumcircuit.py:422(calibrations)\n",
      "        2    0.000    0.000    0.000    0.000 quantumcircuit.py:431(calibrations)\n",
      "        4    0.000    0.000    0.000    0.000 quantumcircuit.py:462(metadata)\n",
      "       16    0.000    0.000    0.000    0.000 quantumcircuit.py:475(metadata)\n",
      "       19    0.000    0.000    0.000    0.000 quantumcircuit.py:504(_increment_instances)\n",
      "        8    0.000    0.000    0.000    0.000 quantumcircuit.py:508(cls_instances)\n",
      "        3    0.000    0.000    0.000    0.000 quantumcircuit.py:514(cls_prefix)\n",
      "        8    0.000    0.000    0.000    0.000 quantumcircuit.py:519(_name_update)\n",
      "        5    0.000    0.000    0.000    0.000 quantumcircuit.py:5556(__init__)\n",
      "        5    0.000    0.000    0.000    0.000 quantumcircuit.py:5560(items)\n",
      "       27    0.000    0.000    0.000    0.000 quantumcircuit.py:5589(_bit_argument_conversion)\n",
      "        1    0.000    0.000    0.000    0.000 quantumcircuit.py:5622(<listcomp>)\n",
      "        3    0.000    0.000    0.000    0.000 quantumcircuit.py:5635(_bit_argument_conversion_scalar)\n",
      "        5    0.000    0.000    0.001    0.000 quantumcircuit.py:807(compose)\n",
      "       15    0.000    0.000    0.000    0.000 quantumcircuit.py:953(<listcomp>)\n",
      "       15    0.000    0.000    0.000    0.000 quantumcircuit.py:954(<listcomp>)\n",
      "       16    0.000    0.000    0.000    0.000 quantumcircuitdata.py:148(__init__)\n",
      "       14    0.000    0.000    0.000    0.000 quantumcircuitdata.py:202(__iter__)\n",
      "        2    0.000    0.000    0.000    0.000 quantumcircuitdata.py:208(__len__)\n",
      "      111    0.000    0.000    0.000    0.000 quantumcircuitdata.py:70(__init__)\n",
      "       67    0.000    0.000    0.000    0.000 quantumcircuitdata.py:88(replace)\n",
      "       24    0.000    0.000    0.000    0.000 quantumregister.py:33(__init__)\n",
      "        2    0.000    0.000    0.000    0.000 random.py:800(getrandbits)\n",
      "       10    0.000    0.000    0.000    0.000 register.py:143(<listcomp>)\n",
      "       18    0.000    0.000    0.000    0.000 register.py:151(name)\n",
      "       38    0.000    0.000    0.000    0.000 register.py:156(size)\n",
      "       24    0.000    0.000    0.000    0.000 register.py:161(__repr__)\n",
      "       42    0.000    0.000    0.000    0.000 register.py:169(__getitem__)\n",
      "       48    0.000    0.000    0.000    0.000 register.py:194(__iter__)\n",
      "       37    0.000    0.000    0.000    0.000 register.py:214(__eq__)\n",
      "       24    0.000    0.000    0.000    0.000 register.py:244(__hash__)\n",
      "        2    0.000    0.000    0.000    0.000 register.py:248(__getstate__)\n",
      "        2    0.000    0.000    0.000    0.000 register.py:254(__setstate__)\n",
      "       10    0.000    0.000    0.000    0.000 register.py:64(__init__)\n",
      "       14    0.000    0.000    0.000    0.000 singleton.py:319(__deepcopy__)\n",
      "        8    0.000    0.000    0.000    0.000 singleton.py:380(__call__)\n",
      "       33    0.000    0.000    0.000    0.000 singleton.py:495(copy)\n",
      "        1    0.000    0.000    0.000    0.000 socket.py:621(send)\n",
      "        2    0.000    0.000    0.000    0.000 state_preparation.py:196(_get_num_qubits)\n",
      "        4    0.000    0.000    0.000    0.000 state_preparation.py:222(broadcast_arguments)\n",
      "        2    0.000    0.000    0.000    0.000 state_preparation.py:223(<listcomp>)\n",
      "       16    0.000    0.000    0.000    0.000 state_preparation.py:233(validate_parameter)\n",
      "        2    0.000    0.000    0.000    0.000 state_preparation.py:41(__init__)\n",
      "       38    0.000    0.000    0.000    0.000 statevector.py:230(data)\n",
      "        3    0.000    0.000    0.000    0.000 statevector.py:345(_multiply)\n",
      "        2    0.000    0.000    0.000    0.000 statevector.py:363(evolve)\n",
      "     10/7    0.000    0.000    0.006    0.001 statevector.py:42(__init__)\n",
      "        2    0.000    0.000    0.000    0.000 statevector.py:518(probabilities)\n",
      "        2    0.000    0.000    0.001    0.001 statevector.py:600(reset)\n",
      "        3    0.000    0.000    0.006    0.002 statevector.py:743(from_instruction)\n",
      "       22    0.001    0.000    0.002    0.000 statevector.py:844(_evolve_operator)\n",
      "       22    0.000    0.000    0.000    0.000 statevector.py:856(<listcomp>)\n",
      "       22    0.000    0.000    0.000    0.000 statevector.py:857(<listcomp>)\n",
      "     23/3    0.000    0.000    0.005    0.002 statevector.py:884(_evolve_instruction)\n",
      "        4    0.000    0.000    0.000    0.000 statevector.py:910(<genexpr>)\n",
      "        3    0.000    0.000    0.000    0.000 statevector.py:949(<dictcomp>)\n",
      "       20    0.000    0.000    0.000    0.000 statevector.py:957(<listcomp>)\n",
      "        1    0.000    0.000    0.000    0.000 threading.py:1125(_wait_for_tstate_lock)\n",
      "        1    0.000    0.000    0.000    0.000 threading.py:1192(is_alive)\n",
      "        1    0.000    0.000    0.000    0.000 threading.py:575(is_set)\n",
      "        2    0.000    0.000    0.000    0.000 twodim_base.py:158(eye)\n",
      "        2    0.000    0.000    0.000    0.000 twodim_base.py:230(_diag_dispatcher)\n",
      "        2    0.000    0.000    0.000    0.000 twodim_base.py:234(diag)\n",
      "      140    0.000    0.000    0.000    0.000 {built-in method __new__ of type object at 0x00007FFC928C0FD0}\n",
      "      266    0.000    0.000    0.000    0.000 {built-in method _abc._abc_instancecheck}\n",
      "       44    0.000    0.000    0.000    0.000 {built-in method _abc._abc_subclasscheck}\n",
      "       26    0.000    0.000    0.000    0.000 {built-in method _functools.reduce}\n",
      "        4    0.000    0.000    0.000    0.000 {built-in method _operator.index}\n",
      "        1    0.000    0.000    0.000    0.000 {built-in method _thread.get_ident}\n",
      "        2    0.000    0.000    0.000    0.000 {built-in method builtins.abs}\n",
      "        6    0.000    0.000    0.000    0.000 {built-in method builtins.all}\n",
      "       88    0.000    0.000    0.000    0.000 {built-in method builtins.any}\n",
      "        8    0.000    0.000    0.000    0.000 {built-in method builtins.callable}\n",
      "        1    0.000    0.000    0.018    0.018 {built-in method builtins.exec}\n",
      "      556    0.000    0.000    0.000    0.000 {built-in method builtins.getattr}\n",
      "      217    0.000    0.000    0.000    0.000 {built-in method builtins.hasattr}\n",
      "       42    0.000    0.000    0.000    0.000 {built-in method builtins.hash}\n",
      "      737    0.000    0.000    0.000    0.000 {built-in method builtins.id}\n",
      "     1450    0.000    0.000    0.001    0.000 {built-in method builtins.isinstance}\n",
      "      153    0.000    0.000    0.000    0.000 {built-in method builtins.issubclass}\n",
      "       42    0.000    0.000    0.000    0.000 {built-in method builtins.iter}\n",
      "  396/394    0.000    0.000    0.000    0.000 {built-in method builtins.len}\n",
      "        1    0.000    0.000    0.000    0.000 {built-in method builtins.locals}\n",
      "       16    0.000    0.000    0.000    0.000 {built-in method builtins.max}\n",
      "       20    0.000    0.000    0.000    0.000 {built-in method builtins.next}\n",
      "        1    0.000    0.000    0.001    0.001 {built-in method builtins.print}\n",
      "       39    0.000    0.000    0.000    0.000 {built-in method builtins.setattr}\n",
      "        5    0.000    0.000    0.000    0.000 {built-in method builtins.sorted}\n",
      "        5    0.000    0.000    0.000    0.000 {built-in method cmath.exp}\n",
      "        2    0.000    0.000    0.000    0.000 {built-in method from_bytes}\n",
      "        2    0.000    0.000    0.000    0.000 {built-in method math.isclose}\n",
      "       46    0.000    0.000    0.000    0.000 {built-in method math.log2}\n",
      "        4    0.000    0.000    0.000    0.000 {built-in method nt.getpid}\n",
      "        2    0.000    0.000    0.000    0.000 {built-in method nt.urandom}\n",
      "        6    0.000    0.000    0.000    0.000 {built-in method numpy.array}\n",
      "        2    0.000    0.000    0.000    0.000 {built-in method numpy.asanyarray}\n",
      "       69    0.000    0.000    0.000    0.000 {built-in method numpy.asarray}\n",
      "        8    0.000    0.000    0.000    0.000 {built-in method numpy.core._multiarray_umath.dragon4_positional}\n",
      "        8    0.000    0.000    0.000    0.000 {built-in method numpy.core._multiarray_umath.dragon4_scientific}\n",
      "       16    0.000    0.000    0.000    0.000 {built-in method numpy.geterrobj}\n",
      "        8    0.000    0.000    0.000    0.000 {built-in method numpy.seterrobj}\n",
      "       12    0.000    0.000    0.000    0.000 {built-in method numpy.zeros}\n",
      "        4    0.000    0.000    0.000    0.000 {built-in method sys.getrecursionlimit}\n",
      "        2    0.000    0.000    0.000    0.000 {function SeedSequence.generate_state at 0x000002C5A48FE2A0}\n",
      "        2    0.000    0.000    0.000    0.000 {lexicographical_topological_sort}\n",
      "       20    0.000    0.000    0.000    0.000 {method '__contains__' of 'frozenset' objects}\n",
      "        4    0.000    0.000    0.000    0.000 {method '__exit__' of '_thread.RLock' objects}\n",
      "      103    0.000    0.000    0.000    0.000 {method '__reduce_ex__' of 'object' objects}\n",
      "        1    0.000    0.000    0.000    0.000 {method 'acquire' of '_thread.lock' objects}\n",
      "       11    0.000    0.000    0.000    0.000 {method 'add' of 'set' objects}\n",
      "       10    0.000    0.000    0.000    0.000 {method 'add_edge' of 'rustworkx.PyDiGraph' objects}\n",
      "       13    0.000    0.000    0.000    0.000 {method 'add_node' of 'rustworkx.PyDiGraph' objects}\n",
      "       10    0.000    0.000    0.000    0.000 {method 'add_nodes_from' of 'rustworkx.PyDiGraph' objects}\n",
      "        1    0.000    0.000    0.000    0.000 {method 'append' of 'collections.deque' objects}\n",
      "      432    0.000    0.000    0.000    0.000 {method 'append' of 'list' objects}\n",
      "       22    0.000    0.000    0.000    0.000 {method 'argsort' of 'numpy.ndarray' objects}\n",
      "        2    0.000    0.000    0.000    0.000 {method 'choice' of 'numpy.random._generator.Generator' objects}\n",
      "        2    0.000    0.000    0.000    0.000 {method 'clip' of 'numpy.ndarray' objects}\n",
      "       25    0.000    0.000    0.000    0.000 {method 'copy' of 'dict' objects}\n",
      "       72    0.000    0.000    0.000    0.000 {method 'copy' of 'list' objects}\n",
      "        1    0.000    0.000    0.000    0.000 {method 'disable' of '_lsprof.Profiler' objects}\n",
      "        1    0.000    0.000    0.000    0.000 {method 'discard' of 'set' objects}\n",
      "        5    0.000    0.000    0.000    0.000 {method 'dot' of 'numpy.ndarray' objects}\n",
      "      975    0.000    0.000    0.000    0.000 {method 'get' of 'dict' objects}\n",
      "        4    0.000    0.000    0.000    0.000 {method 'get' of 'mappingproxy' objects}\n",
      "       52    0.000    0.000    0.000    0.000 {method 'group' of 're.Match' objects}\n",
      "        5    0.000    0.000    0.000    0.000 {method 'has_edge' of 'rustworkx.PyDiGraph' objects}\n",
      "       13    0.000    0.000    0.000    0.000 {method 'insert_node_on_in_edges_multiple' of 'rustworkx.PyDiGraph' objects}\n",
      "       12    0.000    0.000    0.000    0.000 {method 'intersection' of 'set' objects}\n",
      "        2    0.000    0.000    0.000    0.000 {method 'is_integer' of 'float' objects}\n",
      "       20    0.000    0.000    0.000    0.000 {method 'isidentifier' of 'str' objects}\n",
      "       81    0.000    0.000    0.000    0.000 {method 'items' of 'dict' objects}\n",
      "        4    0.000    0.000    0.000    0.000 {method 'items' of 'rustworkx.NodeMap' objects}\n",
      "       23    0.000    0.000    0.000    0.000 {method 'join' of 'str' objects}\n",
      "       40    0.000    0.000    0.000    0.000 {method 'keys' of 'dict' objects}\n",
      "       26    0.000    0.000    0.000    0.000 {method 'match' of 're.Pattern' objects}\n",
      "        4    0.000    0.000    0.000    0.000 {method 'nodes' of 'rustworkx.PyDiGraph' objects}\n",
      "        4    0.000    0.000    0.000    0.000 {method 'partition' of 'str' objects}\n",
      "       14    0.000    0.000    0.000    0.000 {method 'pop' of 'dict' objects}\n",
      "        5    0.000    0.000    0.000    0.000 {method 'predecessor_indices' of 'rustworkx.PyDiGraph' objects}\n",
      "        3    0.000    0.000    0.000    0.000 {method 'ravel' of 'numpy.ndarray' objects}\n",
      "        6    0.000    0.000    0.000    0.000 {method 'reduce' of 'numpy.ufunc' objects}\n",
      "       92    0.000    0.000    0.000    0.000 {method 'reshape' of 'numpy.ndarray' objects}\n",
      "       14    0.000    0.000    0.000    0.000 {method 'rpartition' of 'str' objects}\n",
      "        6    0.000    0.000    0.000    0.000 {method 'rstrip' of 'str' objects}\n",
      "       60    0.000    0.000    0.000    0.000 {method 'split' of 'str' objects}\n",
      "        4    0.000    0.000    0.000    0.000 {method 'splitlines' of 'str' objects}\n",
      "       26    0.000    0.000    0.000    0.000 {method 'startswith' of 'str' objects}\n",
      "        2    0.000    0.000    0.000    0.000 {method 'substitute_node_with_subgraph' of 'rustworkx.PyDiGraph' objects}\n",
      "        5    0.000    0.000    0.000    0.000 {method 'successor_indices' of 'rustworkx.PyDiGraph' objects}\n",
      "       22    0.000    0.000    0.000    0.000 {method 'tolist' of 'numpy.ndarray' objects}\n",
      "       46    0.000    0.000    0.000    0.000 {method 'transpose' of 'numpy.ndarray' objects}\n",
      "        4    0.000    0.000    0.000    0.000 {method 'union' of 'set' objects}\n",
      "       76    0.000    0.000    0.000    0.000 {method 'update' of 'dict' objects}\n",
      "        6    0.000    0.000    0.000    0.000 {method 'values' of 'collections.OrderedDict' objects}\n",
      "       18    0.000    0.000    0.000    0.000 {method 'values' of 'dict' objects}\n",
      "        4    0.000    0.000    0.000    0.000 {method 'values' of 'mappingproxy' objects}\n",
      "        4    0.000    0.000    0.000    0.000 {method 'write' of '_io.StringIO' objects}\n",
      "        2    0.000    0.000    0.000    0.000 {numpy.random._generator.default_rng}\n",
      "\n",
      "\n"
     ]
    }
   ],
   "source": [
    "def calculate():\n",
    "    psi = QuantumCircuit(3)\n",
    "    phi = QuantumCircuit(2)\n",
    "\n",
    "    # |ψ⟩ 상태\n",
    "    psi.h(range(0,3))  # First qubit\n",
    "\n",
    "    # |φ⟩ 상태\n",
    "    initial_state = np.array([1,np.sqrt(2),np.sqrt(3),2]) * (1/np.sqrt(10))\n",
    "\n",
    "    # 2-큐빗 회로 생성\n",
    "    # 초기 상태 설정\n",
    "    phi.initialize(initial_state, [0, 1])\n",
    "\n",
    "    # 2. QFT 적용\n",
    "    qft_circuit = QFT(num_qubits=3).decompose()  # Create and decompose QFT for 2 qubits\n",
    "    psi_qft = psi.compose(qft_circuit)\n",
    "\n",
    "    qft_circuit = QFT(num_qubits=2).decompose()\n",
    "    phi_qft = phi.compose(qft_circuit)\n",
    "\n",
    "    state_psi_qft = Statevector(psi_qft)\n",
    "    state_phi_qft = Statevector(phi_qft) \n",
    "\n",
    "    expanded_data = np.zeros(8, dtype=complex)  # 8개의 0 초기화\n",
    "    expanded_data[:4] = state_phi_qft.data  # 앞쪽 4개의 슬롯에 |phi> 값 복사\n",
    "\n",
    "    # 새로운 상태벡터 생성\n",
    "    phi_expanded = Statevector(expanded_data, dims=(2, 2, 2))\n",
    "\n",
    "    element_wise = state_psi_qft.data * phi_expanded.data\n",
    "    element_wise_result_state = Statevector(element_wise)\n",
    "\n",
    "    #print(\"Element-wise product result = \", element_wise_result_state)\n",
    "    coeff = np.absolute(element_wise_result_state.data[0])\n",
    "    element_wise_result_state = element_wise_result_state / np.linalg.norm(element_wise_result_state.data)\n",
    "\n",
    "    # Statevector 객체 생성\n",
    "    element_wise_result_state = Statevector(element_wise_result_state, dims=(2, 2, 2))\n",
    "\n",
    "    # 앞 4개의 요소만 선택\n",
    "    trimmed_data = element_wise_result_state.data[:4]\n",
    "\n",
    "    # 새로운 2-qubit Statevector 생성\n",
    "    trimmed_state = Statevector(trimmed_data, dims=(2, 2))\n",
    "\n",
    "    element_wise_result = QuantumCircuit(2)\n",
    "    element_wise_result.initialize(trimmed_state, [0,1,])\n",
    "    elemen_wise_result_qft = element_wise_result.compose(qft_circuit)\n",
    "\n",
    "    state_result_qft = Statevector(elemen_wise_result_qft)\n",
    "    state_result_qft = state_result_qft  * np.sqrt(2) * coeff\n",
    "\n",
    "    print(\"Frequency domain multiplication = \",state_result_qft.data)\n",
    "\n",
    "cProfile.run(\"calculate()\")"
   ]
  },
  {
   "cell_type": "code",
   "execution_count": null,
   "metadata": {},
   "outputs": [
    {
     "name": "stdout",
     "output_type": "stream",
     "text": [
      "Element-wise multiplication after QFT:\n",
      "Statevector: Statevector([ 9.33012702e-01+0.00000000e+00j,\n",
      "              6.69872981e-02+0.00000000e+00j,\n",
      "             -5.50479898e-35+4.33518933e-35j,\n",
      "             -5.50479898e-35-4.33518933e-35j],\n",
      "            dims=(2, 2))\n"
     ]
    }
   ],
   "source": [
    "from qiskit import QuantumCircuit\n",
    "from qiskit.quantum_info import Statevector\n",
    "from qiskit.circuit.library import QFT\n",
    "import numpy as np\n",
    "\n",
    "# 초기 상태 |psi>와 |phi>\n",
    "psi = [1/np.sqrt(2), 1/np.sqrt(2)]  # |psi> = 1/sqrt(2) * (|0> + |1>)\n",
    "phi = [1/2, np.sqrt(3)/2,1/2]           # |phi> = 1/2 * |0> + sqrt(3)/2 * |1>\n",
    "\n",
    "# Qiskit Statevector로 변환\n",
    "state_psi = Statevector(psi)\n",
    "state_phi = Statevector(phi)\n",
    "\n",
    "# 두 상태를 병합 (텐서곱)\n",
    "combined_state = state_psi.tensor(state_phi)\n",
    "\n",
    "# QFT 적용을 위한 회로 생성\n",
    "num_qubits = int(np.log2(len(combined_state.data)))  # 병합된 상태의 전체 퀴빗 수\n",
    "qft_circuit = QFT(num_qubits, do_swaps=False)        # QFT 회로 생성\n",
    "\n",
    "# QFT 적용\n",
    "qft_result = combined_state.evolve(qft_circuit)\n",
    "\n",
    "# QFT 결과에서 element-wise multiplication 수행\n",
    "elementwise_product = qft_result.data * qft_result.data  # 두 상태를 성분별 곱셈\n",
    "\n",
    "# 결과를 새로운 Statevector로 변환\n",
    "result_state = Statevector(elementwise_product)\n",
    "\n",
    "# 결과 출력\n",
    "print(\"Element-wise multiplication after QFT:\")\n",
    "print(\"Statevector:\", result_state)\n"
   ]
  },
  {
   "cell_type": "code",
   "execution_count": null,
   "metadata": {},
   "outputs": [],
   "source": [
    "# 순환 컨볼루션 계산\n",
    "z = circular_convolution(psi_real, phi_real)\n",
    "\n",
    "# 결과 출력\n",
    "print(\"순환 컨볼루션 결과:\")\n",
    "print(z)\n"
   ]
  },
  {
   "cell_type": "code",
   "execution_count": 7,
   "metadata": {},
   "outputs": [
    {
     "data": {
      "text/plain": [
       "array([1., 1., 1., 1., 1., 1.])"
      ]
     },
     "execution_count": 7,
     "metadata": {},
     "output_type": "execute_result"
    }
   ],
   "source": [
    "image = np.array([0,1,0,0,1,0])\n",
    "filter = np.array([0,1,0,1])\n",
    "circular_convolution(image,filter)"
   ]
  },
  {
   "cell_type": "code",
   "execution_count": 16,
   "metadata": {},
   "outputs": [
    {
     "data": {
      "text/plain": [
       "array([0., 1., 1., 0.])"
      ]
     },
     "execution_count": 16,
     "metadata": {},
     "output_type": "execute_result"
    }
   ],
   "source": [
    "circular_convolution(filter,image)"
   ]
  },
  {
   "cell_type": "code",
   "execution_count": 15,
   "metadata": {},
   "outputs": [
    {
     "data": {
      "text/plain": [
       "array([0, 0, 1, 0, 1, 1, 0, 1, 0])"
      ]
     },
     "execution_count": 15,
     "metadata": {},
     "output_type": "execute_result"
    }
   ],
   "source": [
    "np.convolve(image,filter)"
   ]
  },
  {
   "cell_type": "code",
   "execution_count": 13,
   "metadata": {},
   "outputs": [
    {
     "data": {
      "text/plain": [
       "array([[0, 1],\n",
       "       [0, 1]])"
      ]
     },
     "execution_count": 13,
     "metadata": {},
     "output_type": "execute_result"
    }
   ],
   "source": [
    "image.reshape(-1,3)\n",
    "filter.reshape(-1,2)"
   ]
  },
  {
   "cell_type": "code",
   "execution_count": 9,
   "metadata": {},
   "outputs": [
    {
     "ename": "ValueError",
     "evalue": "convolve2d inputs must both be 2-D arrays",
     "output_type": "error",
     "traceback": [
      "\u001b[1;31m---------------------------------------------------------------------------\u001b[0m",
      "\u001b[1;31mValueError\u001b[0m                                Traceback (most recent call last)",
      "Cell \u001b[1;32mIn[9], line 5\u001b[0m\n\u001b[0;32m      2\u001b[0m \u001b[38;5;28;01mfrom\u001b[39;00m \u001b[38;5;21;01mscipy\u001b[39;00m \u001b[38;5;28;01mimport\u001b[39;00m signal\n\u001b[0;32m      3\u001b[0m \u001b[38;5;28;01mfrom\u001b[39;00m \u001b[38;5;21;01mscipy\u001b[39;00m\u001b[38;5;21;01m.\u001b[39;00m\u001b[38;5;21;01msignal\u001b[39;00m \u001b[38;5;28;01mimport\u001b[39;00m convolve2d\n\u001b[1;32m----> 5\u001b[0m \u001b[43mconvolve2d\u001b[49m\u001b[43m(\u001b[49m\u001b[43mimage\u001b[49m\u001b[43m,\u001b[49m\u001b[38;5;28;43mfilter\u001b[39;49m\u001b[43m)\u001b[49m\n",
      "File \u001b[1;32m~\\AppData\\Local\\Packages\\PythonSoftwareFoundation.Python.3.11_qbz5n2kfra8p0\\LocalCache\\local-packages\\Python311\\site-packages\\scipy\\signal\\_signaltools.py:1743\u001b[0m, in \u001b[0;36mconvolve2d\u001b[1;34m(in1, in2, mode, boundary, fillvalue)\u001b[0m\n\u001b[0;32m   1740\u001b[0m in2 \u001b[38;5;241m=\u001b[39m np\u001b[38;5;241m.\u001b[39masarray(in2)\n\u001b[0;32m   1742\u001b[0m \u001b[38;5;28;01mif\u001b[39;00m \u001b[38;5;129;01mnot\u001b[39;00m in1\u001b[38;5;241m.\u001b[39mndim \u001b[38;5;241m==\u001b[39m in2\u001b[38;5;241m.\u001b[39mndim \u001b[38;5;241m==\u001b[39m \u001b[38;5;241m2\u001b[39m:\n\u001b[1;32m-> 1743\u001b[0m     \u001b[38;5;28;01mraise\u001b[39;00m \u001b[38;5;167;01mValueError\u001b[39;00m(\u001b[38;5;124m'\u001b[39m\u001b[38;5;124mconvolve2d inputs must both be 2-D arrays\u001b[39m\u001b[38;5;124m'\u001b[39m)\n\u001b[0;32m   1745\u001b[0m \u001b[38;5;28;01mif\u001b[39;00m _inputs_swap_needed(mode, in1\u001b[38;5;241m.\u001b[39mshape, in2\u001b[38;5;241m.\u001b[39mshape):\n\u001b[0;32m   1746\u001b[0m     in1, in2 \u001b[38;5;241m=\u001b[39m in2, in1\n",
      "\u001b[1;31mValueError\u001b[0m: convolve2d inputs must both be 2-D arrays"
     ]
    }
   ],
   "source": [
    "import scipy\n",
    "from scipy import signal\n",
    "from scipy.signal import convolve2d\n",
    "\n",
    "convolve2d(image,filter)"
   ]
  },
  {
   "cell_type": "code",
   "execution_count": 2,
   "metadata": {},
   "outputs": [
    {
     "name": "stdout",
     "output_type": "stream",
     "text": [
      "1D Output: [ 5  7  9 11 13 15]\n",
      "2D Output:\n",
      " [[ 5  7]\n",
      " [ 9 11]]\n"
     ]
    }
   ],
   "source": [
    "import numpy as np\n",
    "\n",
    "# Input image and filter\n",
    "I = np.array([[1, 2, 3],\n",
    "              [4, 5, 6],\n",
    "              [7, 8, 9]])\n",
    "F = np.array([[1, 0],\n",
    "              [0, 1]])\n",
    "\n",
    "# Flatten input and filter\n",
    "I_flat = I.flatten()\n",
    "F_flat = F.flatten()\n",
    "\n",
    "# Compute 1D convolution\n",
    "window_size = F_flat.size\n",
    "output_1d = np.array([\n",
    "    np.sum(I_flat[i:i+window_size] * F_flat)\n",
    "    for i in range(len(I_flat) - window_size + 1)\n",
    "])\n",
    "\n",
    "# Correctly reshape 1D output to match the 2D output shape\n",
    "output_2d_shape = (I.shape[0] - F.shape[0] + 1, I.shape[1] - F.shape[1] + 1)  # (2, 2)\n",
    "output_2d = output_1d[:np.prod(output_2d_shape)].reshape(output_2d_shape)\n",
    "\n",
    "print(\"1D Output:\", output_1d)\n",
    "print(\"2D Output:\\n\", output_2d)\n"
   ]
  },
  {
   "cell_type": "code",
   "execution_count": 7,
   "metadata": {},
   "outputs": [
    {
     "data": {
      "text/plain": [
       "(3, 3)"
      ]
     },
     "execution_count": 7,
     "metadata": {},
     "output_type": "execute_result"
    }
   ],
   "source": [
    "I.shape"
   ]
  },
  {
   "cell_type": "code",
   "execution_count": 5,
   "metadata": {},
   "outputs": [
    {
     "data": {
      "text/plain": [
       "array([1, 2, 3, 4, 5, 6, 7, 8, 9])"
      ]
     },
     "execution_count": 5,
     "metadata": {},
     "output_type": "execute_result"
    }
   ],
   "source": [
    "I_flat"
   ]
  },
  {
   "cell_type": "code",
   "execution_count": 6,
   "metadata": {},
   "outputs": [
    {
     "name": "stdout",
     "output_type": "stream",
     "text": [
      "0\n",
      "1\n",
      "2\n",
      "3\n",
      "4\n",
      "5\n"
     ]
    }
   ],
   "source": [
    "for i in range(len(I_flat) - window_size + 1):\n",
    "    print(i)"
   ]
  },
  {
   "cell_type": "code",
   "execution_count": 4,
   "metadata": {},
   "outputs": [
    {
     "data": {
      "text/plain": [
       "4"
      ]
     },
     "execution_count": 4,
     "metadata": {},
     "output_type": "execute_result"
    }
   ],
   "source": [
    "window_size"
   ]
  },
  {
   "cell_type": "code",
   "execution_count": 3,
   "metadata": {},
   "outputs": [
    {
     "data": {
      "text/plain": [
       "array([ 5,  7,  9, 11, 13, 15])"
      ]
     },
     "execution_count": 3,
     "metadata": {},
     "output_type": "execute_result"
    }
   ],
   "source": [
    "output_1d"
   ]
  },
  {
   "cell_type": "code",
   "execution_count": 56,
   "metadata": {},
   "outputs": [
    {
     "name": "stdout",
     "output_type": "stream",
     "text": [
      "2D Convolution result using 1D approach:\n",
      " [[ 6  8]\n",
      " [12 14]]\n"
     ]
    }
   ],
   "source": [
    "import numpy as np\n",
    "\n",
    "def sliding_window_1d(image, filter_size):\n",
    "    \"\"\"Generates a sliding window matrix for the given image and filter size.\"\"\"\n",
    "    n = image.shape[0]\n",
    "    k = filter_size\n",
    "    output_size = (n - k + 1) ** 2\n",
    "    patch_size = k * k\n",
    "\n",
    "    # Generate sliding window patches\n",
    "    patches = []\n",
    "    for i in range(n - k + 1):\n",
    "        for j in range(n - k + 1):\n",
    "            patch = image[i:i+k, j:j+k].flatten()\n",
    "            patches.append(patch)\n",
    "    return np.array(patches)\n",
    "\n",
    "def flatten_1d_convolution(image, kernel):\n",
    "    \"\"\"Computes 1D convolution equivalent to 2D convolution.\"\"\"\n",
    "    # Extract sliding window patches\n",
    "    patches = sliding_window_1d(image, kernel.shape[0])\n",
    "    kernel_flat = kernel.flatten()\n",
    "\n",
    "    # Compute dot product for 1D convolution\n",
    "    result = patches @ kernel_flat\n",
    "    output_size = (image.shape[0] - kernel.shape[0] + 1, \n",
    "                   image.shape[1] - kernel.shape[1] + 1)\n",
    "    return result.reshape(output_size)\n",
    "\n",
    "# Input 2D image and kernel\n",
    "image = np.array([[1, 2, 3],\n",
    "                  [4, 5, 6],\n",
    "                  [7, 8, 9]])\n",
    "kernel = np.array([[1, 0],\n",
    "                   [0, 1]])\n",
    "\n",
    "# Perform 1D convolution\n",
    "output = flatten_1d_convolution(image, kernel)\n",
    "print(\"2D Convolution result using 1D approach:\\n\", output)\n"
   ]
  },
  {
   "cell_type": "code",
   "execution_count": 57,
   "metadata": {},
   "outputs": [
    {
     "name": "stdout",
     "output_type": "stream",
     "text": [
      "0\n",
      "1\n",
      "1\n",
      "1\n"
     ]
    }
   ],
   "source": [
    "filter_flat = filter.flatten()\n",
    "filter_flat\n",
    "for i, coeff in enumerate(filter_flat):\n",
    "\n",
    "    print(int(np.floor(np.sqrt(i))))"
   ]
  },
  {
   "cell_type": "code",
   "execution_count": 58,
   "metadata": {},
   "outputs": [
    {
     "data": {
      "text/plain": [
       "9"
      ]
     },
     "execution_count": 58,
     "metadata": {},
     "output_type": "execute_result"
    }
   ],
   "source": [
    "image.size"
   ]
  },
  {
   "cell_type": "code",
   "execution_count": 59,
   "metadata": {},
   "outputs": [
    {
     "name": "stdout",
     "output_type": "stream",
     "text": [
      "Quantum Circuit:\n",
      "     ┌─────────────────────────────────────────────┐┌───────┐ \n",
      "q_0: ┤0                                            ├┤ Ry(π) ├─\n",
      "     │  Initialize(0.18257,0.36515,0.54772,0.7303) │├───────┴┐\n",
      "q_1: ┤1                                            ├┤ Ry(-π) ├\n",
      "     └─────────────────────────────────────────────┘└────────┘\n"
     ]
    }
   ],
   "source": [
    "from qiskit import QuantumCircuit, Aer, execute\n",
    "import numpy as np\n",
    "\n",
    "def encode_image(qc, image):\n",
    "    \"\"\"Encodes the image into quantum amplitudes.\"\"\"\n",
    "    n = image.size\n",
    "    norm = np.linalg.norm(image)\n",
    "    normalized = image.flatten() / norm\n",
    "    qc.initialize(normalized, range(int(np.log2(n))))\n",
    "\n",
    "def apply_filter(qc, filter, image_size):\n",
    "    \"\"\"Applies a quantum filter operation by mapping filter values to states.\"\"\"\n",
    "    # Flatten and normalize filter (optional, if normalization is required)\n",
    "    filter_flat = filter.flatten()\n",
    "    \n",
    "    # Apply RY rotations corresponding to the filter coefficients\n",
    "    n_states = image_size**2  # Number of states\n",
    "    for i, coeff in enumerate(filter_flat):\n",
    "        if coeff != 0:\n",
    "            angle = 2 * np.arcsin(coeff)  # Map filter value to rotation angle\n",
    "            qc.ry(angle, int(np.floor(np.sqrt(i)))) # Apply rotation to the corresponding state\n",
    "\n",
    "# Define 2x2 image and 2x2 filter\n",
    "image = np.array([[1, 2],\n",
    "                  [3, 4]])\n",
    "filter = np.array([[1, 0],\n",
    "                   [0, -1]])\n",
    "\n",
    "# Quantum circuit setup  \n",
    "n_qubits = int(np.log2(image.size))  # 2 qubits for 2x2 image\n",
    "qc = QuantumCircuit(n_qubits)\n",
    "\n",
    "# Encode image and apply filter\n",
    "encode_image(qc, image)\n",
    "apply_filter(qc, filter, image.size)\n",
    "\n",
    "# Display circuit\n",
    "print(\"Quantum Circuit:\")\n",
    "print(qc)\n"
   ]
  },
  {
   "cell_type": "code",
   "execution_count": 60,
   "metadata": {},
   "outputs": [
    {
     "name": "stderr",
     "output_type": "stream",
     "text": [
      "C:\\Users\\HCI\\AppData\\Local\\Packages\\PythonSoftwareFoundation.Python.3.11_qbz5n2kfra8p0\\LocalCache\\local-packages\\Python311\\site-packages\\qiskit\\visualization\\circuit\\matplotlib.py:266: FutureWarning: The default matplotlib drawer scheme will be changed to \"iqp\" in a following release. To silence this warning, specify the current default explicitly as style=\"clifford\", or the new default as style=\"iqp\".\n",
      "  self._style, def_font_ratio = load_style(self._style)\n"
     ]
    },
    {
     "data": {
      "image/png": "[encoded data removed]",
      "text/plain": [
       "<Figure size 454.517x200.667 with 1 Axes>"
      ]
     },
     "execution_count": 60,
     "metadata": {},
     "output_type": "execute_result"
    }
   ],
   "source": [
    "qc.draw('mpl')"
   ]
  },
  {
   "cell_type": "code",
   "execution_count": 55,
   "metadata": {},
   "outputs": [
    {
     "ename": "CircuitError",
     "evalue": "'Index 2 out of range for size 2.'",
     "output_type": "error",
     "traceback": [
      "\u001b[1;31m---------------------------------------------------------------------------\u001b[0m",
      "\u001b[1;31mIndexError\u001b[0m                                Traceback (most recent call last)",
      "File \u001b[1;32m~\\AppData\\Local\\Packages\\PythonSoftwareFoundation.Python.3.11_qbz5n2kfra8p0\\LocalCache\\local-packages\\Python311\\site-packages\\qiskit\\circuit\\quantumcircuit.py:5613\u001b[0m, in \u001b[0;36m_bit_argument_conversion\u001b[1;34m(specifier, bit_sequence, bit_set, type_)\u001b[0m\n\u001b[0;32m   5612\u001b[0m \u001b[38;5;28;01mtry\u001b[39;00m:\n\u001b[1;32m-> 5613\u001b[0m     \u001b[38;5;28;01mreturn\u001b[39;00m [\u001b[43mbit_sequence\u001b[49m\u001b[43m[\u001b[49m\u001b[43mspecifier\u001b[49m\u001b[43m]\u001b[49m]\n\u001b[0;32m   5614\u001b[0m \u001b[38;5;28;01mexcept\u001b[39;00m \u001b[38;5;167;01mIndexError\u001b[39;00m \u001b[38;5;28;01mas\u001b[39;00m ex:\n",
      "\u001b[1;31mIndexError\u001b[0m: list index out of range",
      "\nThe above exception was the direct cause of the following exception:\n",
      "\u001b[1;31mCircuitError\u001b[0m                              Traceback (most recent call last)",
      "Cell \u001b[1;32mIn[55], line 43\u001b[0m\n\u001b[0;32m     40\u001b[0m         qc\u001b[38;5;241m.\u001b[39mh(i)\n\u001b[0;32m     42\u001b[0m \u001b[38;5;66;03m# Initialize and encode data\u001b[39;00m\n\u001b[1;32m---> 43\u001b[0m \u001b[43mamplitude_encoding\u001b[49m\u001b[43m(\u001b[49m\u001b[43mqc\u001b[49m\u001b[43m,\u001b[49m\u001b[43m \u001b[49m\u001b[43mimage_norm\u001b[49m\u001b[43m)\u001b[49m\n\u001b[0;32m     44\u001b[0m qft(qc, n_qubits)\n\u001b[0;32m     46\u001b[0m \u001b[38;5;66;03m# Apply filter in Fourier space\u001b[39;00m\n",
      "Cell \u001b[1;32mIn[55], line 26\u001b[0m, in \u001b[0;36mamplitude_encoding\u001b[1;34m(qc, data)\u001b[0m\n\u001b[0;32m     24\u001b[0m \u001b[38;5;28;01mif\u001b[39;00m amp \u001b[38;5;241m!=\u001b[39m \u001b[38;5;241m0\u001b[39m:\n\u001b[0;32m     25\u001b[0m     angle \u001b[38;5;241m=\u001b[39m \u001b[38;5;241m2\u001b[39m \u001b[38;5;241m*\u001b[39m np\u001b[38;5;241m.\u001b[39marcsin(np\u001b[38;5;241m.\u001b[39msqrt(\u001b[38;5;28mabs\u001b[39m(amp)))\n\u001b[1;32m---> 26\u001b[0m     \u001b[43mqc\u001b[49m\u001b[38;5;241;43m.\u001b[39;49m\u001b[43mry\u001b[49m\u001b[43m(\u001b[49m\u001b[43mangle\u001b[49m\u001b[43m,\u001b[49m\u001b[43m \u001b[49m\u001b[43mi\u001b[49m\u001b[43m)\u001b[49m\n",
      "File \u001b[1;32m~\\AppData\\Local\\Packages\\PythonSoftwareFoundation.Python.3.11_qbz5n2kfra8p0\\LocalCache\\local-packages\\Python311\\site-packages\\qiskit\\circuit\\quantumcircuit.py:3250\u001b[0m, in \u001b[0;36mQuantumCircuit.ry\u001b[1;34m(self, theta, qubit, label)\u001b[0m\n\u001b[0;32m   3236\u001b[0m \u001b[38;5;250m\u001b[39m\u001b[38;5;124;03m\"\"\"Apply :class:`~qiskit.circuit.library.RYGate`.\u001b[39;00m\n\u001b[0;32m   3237\u001b[0m \n\u001b[0;32m   3238\u001b[0m \u001b[38;5;124;03mFor the full matrix form of this gate, see the underlying gate documentation.\u001b[39;00m\n\u001b[1;32m   (...)\u001b[0m\n\u001b[0;32m   3246\u001b[0m \u001b[38;5;124;03m    A handle to the instructions created.\u001b[39;00m\n\u001b[0;32m   3247\u001b[0m \u001b[38;5;124;03m\"\"\"\u001b[39;00m\n\u001b[0;32m   3248\u001b[0m \u001b[38;5;28;01mfrom\u001b[39;00m \u001b[38;5;21;01m.\u001b[39;00m\u001b[38;5;21;01mlibrary\u001b[39;00m\u001b[38;5;21;01m.\u001b[39;00m\u001b[38;5;21;01mstandard_gates\u001b[39;00m\u001b[38;5;21;01m.\u001b[39;00m\u001b[38;5;21;01mry\u001b[39;00m \u001b[38;5;28;01mimport\u001b[39;00m RYGate\n\u001b[1;32m-> 3250\u001b[0m \u001b[38;5;28;01mreturn\u001b[39;00m \u001b[38;5;28;43mself\u001b[39;49m\u001b[38;5;241;43m.\u001b[39;49m\u001b[43mappend\u001b[49m\u001b[43m(\u001b[49m\u001b[43mRYGate\u001b[49m\u001b[43m(\u001b[49m\u001b[43mtheta\u001b[49m\u001b[43m,\u001b[49m\u001b[43m \u001b[49m\u001b[43mlabel\u001b[49m\u001b[38;5;241;43m=\u001b[39;49m\u001b[43mlabel\u001b[49m\u001b[43m)\u001b[49m\u001b[43m,\u001b[49m\u001b[43m \u001b[49m\u001b[43m[\u001b[49m\u001b[43mqubit\u001b[49m\u001b[43m]\u001b[49m\u001b[43m,\u001b[49m\u001b[43m \u001b[49m\u001b[43m[\u001b[49m\u001b[43m]\u001b[49m\u001b[43m)\u001b[49m\n",
      "File \u001b[1;32m~\\AppData\\Local\\Packages\\PythonSoftwareFoundation.Python.3.11_qbz5n2kfra8p0\\LocalCache\\local-packages\\Python311\\site-packages\\qiskit\\circuit\\quantumcircuit.py:1273\u001b[0m, in \u001b[0;36mQuantumCircuit.append\u001b[1;34m(self, instruction, qargs, cargs)\u001b[0m\n\u001b[0;32m   1270\u001b[0m     \u001b[38;5;28;01mif\u001b[39;00m is_parameter:\n\u001b[0;32m   1271\u001b[0m         operation \u001b[38;5;241m=\u001b[39m copy\u001b[38;5;241m.\u001b[39mdeepcopy(operation)\n\u001b[1;32m-> 1273\u001b[0m expanded_qargs \u001b[38;5;241m=\u001b[39m \u001b[43m[\u001b[49m\u001b[38;5;28;43mself\u001b[39;49m\u001b[38;5;241;43m.\u001b[39;49m\u001b[43mqbit_argument_conversion\u001b[49m\u001b[43m(\u001b[49m\u001b[43mqarg\u001b[49m\u001b[43m)\u001b[49m\u001b[43m \u001b[49m\u001b[38;5;28;43;01mfor\u001b[39;49;00m\u001b[43m \u001b[49m\u001b[43mqarg\u001b[49m\u001b[43m \u001b[49m\u001b[38;5;129;43;01min\u001b[39;49;00m\u001b[43m \u001b[49m\u001b[43mqargs\u001b[49m\u001b[43m \u001b[49m\u001b[38;5;129;43;01mor\u001b[39;49;00m\u001b[43m \u001b[49m\u001b[43m[\u001b[49m\u001b[43m]\u001b[49m\u001b[43m]\u001b[49m\n\u001b[0;32m   1274\u001b[0m expanded_cargs \u001b[38;5;241m=\u001b[39m [\u001b[38;5;28mself\u001b[39m\u001b[38;5;241m.\u001b[39mcbit_argument_conversion(carg) \u001b[38;5;28;01mfor\u001b[39;00m carg \u001b[38;5;129;01min\u001b[39;00m cargs \u001b[38;5;129;01mor\u001b[39;00m []]\n\u001b[0;32m   1276\u001b[0m \u001b[38;5;28;01mif\u001b[39;00m \u001b[38;5;28mself\u001b[39m\u001b[38;5;241m.\u001b[39m_control_flow_scopes:\n",
      "File \u001b[1;32m~\\AppData\\Local\\Packages\\PythonSoftwareFoundation.Python.3.11_qbz5n2kfra8p0\\LocalCache\\local-packages\\Python311\\site-packages\\qiskit\\circuit\\quantumcircuit.py:1273\u001b[0m, in \u001b[0;36m<listcomp>\u001b[1;34m(.0)\u001b[0m\n\u001b[0;32m   1270\u001b[0m     \u001b[38;5;28;01mif\u001b[39;00m is_parameter:\n\u001b[0;32m   1271\u001b[0m         operation \u001b[38;5;241m=\u001b[39m copy\u001b[38;5;241m.\u001b[39mdeepcopy(operation)\n\u001b[1;32m-> 1273\u001b[0m expanded_qargs \u001b[38;5;241m=\u001b[39m [\u001b[38;5;28;43mself\u001b[39;49m\u001b[38;5;241;43m.\u001b[39;49m\u001b[43mqbit_argument_conversion\u001b[49m\u001b[43m(\u001b[49m\u001b[43mqarg\u001b[49m\u001b[43m)\u001b[49m \u001b[38;5;28;01mfor\u001b[39;00m qarg \u001b[38;5;129;01min\u001b[39;00m qargs \u001b[38;5;129;01mor\u001b[39;00m []]\n\u001b[0;32m   1274\u001b[0m expanded_cargs \u001b[38;5;241m=\u001b[39m [\u001b[38;5;28mself\u001b[39m\u001b[38;5;241m.\u001b[39mcbit_argument_conversion(carg) \u001b[38;5;28;01mfor\u001b[39;00m carg \u001b[38;5;129;01min\u001b[39;00m cargs \u001b[38;5;129;01mor\u001b[39;00m []]\n\u001b[0;32m   1276\u001b[0m \u001b[38;5;28;01mif\u001b[39;00m \u001b[38;5;28mself\u001b[39m\u001b[38;5;241m.\u001b[39m_control_flow_scopes:\n",
      "File \u001b[1;32m~\\AppData\\Local\\Packages\\PythonSoftwareFoundation.Python.3.11_qbz5n2kfra8p0\\LocalCache\\local-packages\\Python311\\site-packages\\qiskit\\circuit\\quantumcircuit.py:1144\u001b[0m, in \u001b[0;36mQuantumCircuit.qbit_argument_conversion\u001b[1;34m(self, qubit_representation)\u001b[0m\n\u001b[0;32m   1133\u001b[0m \u001b[38;5;28;01mdef\u001b[39;00m \u001b[38;5;21mqbit_argument_conversion\u001b[39m(\u001b[38;5;28mself\u001b[39m, qubit_representation: QubitSpecifier) \u001b[38;5;241m-\u001b[39m\u001b[38;5;241m>\u001b[39m \u001b[38;5;28mlist\u001b[39m[Qubit]:\n\u001b[0;32m   1134\u001b[0m \u001b[38;5;250m    \u001b[39m\u001b[38;5;124;03m\"\"\"\u001b[39;00m\n\u001b[0;32m   1135\u001b[0m \u001b[38;5;124;03m    Converts several qubit representations (such as indexes, range, etc.)\u001b[39;00m\n\u001b[0;32m   1136\u001b[0m \u001b[38;5;124;03m    into a list of qubits.\u001b[39;00m\n\u001b[1;32m   (...)\u001b[0m\n\u001b[0;32m   1142\u001b[0m \u001b[38;5;124;03m        List(Qubit): the resolved instances of the qubits.\u001b[39;00m\n\u001b[0;32m   1143\u001b[0m \u001b[38;5;124;03m    \"\"\"\u001b[39;00m\n\u001b[1;32m-> 1144\u001b[0m     \u001b[38;5;28;01mreturn\u001b[39;00m \u001b[43m_bit_argument_conversion\u001b[49m\u001b[43m(\u001b[49m\n\u001b[0;32m   1145\u001b[0m \u001b[43m        \u001b[49m\u001b[43mqubit_representation\u001b[49m\u001b[43m,\u001b[49m\u001b[43m \u001b[49m\u001b[38;5;28;43mself\u001b[39;49m\u001b[38;5;241;43m.\u001b[39;49m\u001b[43mqubits\u001b[49m\u001b[43m,\u001b[49m\u001b[43m \u001b[49m\u001b[38;5;28;43mself\u001b[39;49m\u001b[38;5;241;43m.\u001b[39;49m\u001b[43m_qubit_indices\u001b[49m\u001b[43m,\u001b[49m\u001b[43m \u001b[49m\u001b[43mQubit\u001b[49m\n\u001b[0;32m   1146\u001b[0m \u001b[43m    \u001b[49m\u001b[43m)\u001b[49m\n",
      "File \u001b[1;32m~\\AppData\\Local\\Packages\\PythonSoftwareFoundation.Python.3.11_qbz5n2kfra8p0\\LocalCache\\local-packages\\Python311\\site-packages\\qiskit\\circuit\\quantumcircuit.py:5615\u001b[0m, in \u001b[0;36m_bit_argument_conversion\u001b[1;34m(specifier, bit_sequence, bit_set, type_)\u001b[0m\n\u001b[0;32m   5613\u001b[0m         \u001b[38;5;28;01mreturn\u001b[39;00m [bit_sequence[specifier]]\n\u001b[0;32m   5614\u001b[0m     \u001b[38;5;28;01mexcept\u001b[39;00m \u001b[38;5;167;01mIndexError\u001b[39;00m \u001b[38;5;28;01mas\u001b[39;00m ex:\n\u001b[1;32m-> 5615\u001b[0m         \u001b[38;5;28;01mraise\u001b[39;00m CircuitError(\n\u001b[0;32m   5616\u001b[0m             \u001b[38;5;124mf\u001b[39m\u001b[38;5;124m\"\u001b[39m\u001b[38;5;124mIndex \u001b[39m\u001b[38;5;132;01m{\u001b[39;00mspecifier\u001b[38;5;132;01m}\u001b[39;00m\u001b[38;5;124m out of range for size \u001b[39m\u001b[38;5;132;01m{\u001b[39;00m\u001b[38;5;28mlen\u001b[39m(bit_sequence)\u001b[38;5;132;01m}\u001b[39;00m\u001b[38;5;124m.\u001b[39m\u001b[38;5;124m\"\u001b[39m\n\u001b[0;32m   5617\u001b[0m         ) \u001b[38;5;28;01mfrom\u001b[39;00m \u001b[38;5;21;01mex\u001b[39;00m\n\u001b[0;32m   5618\u001b[0m \u001b[38;5;66;03m# Slices can't raise IndexError - they just return an empty list.\u001b[39;00m\n\u001b[0;32m   5619\u001b[0m \u001b[38;5;28;01mif\u001b[39;00m \u001b[38;5;28misinstance\u001b[39m(specifier, \u001b[38;5;28mslice\u001b[39m):\n",
      "\u001b[1;31mCircuitError\u001b[0m: 'Index 2 out of range for size 2.'"
     ]
    }
   ],
   "source": [
    "import numpy as np\n",
    "from qiskit import QuantumCircuit, Aer, execute\n",
    "from qiskit.quantum_info import Statevector\n",
    "\n",
    "# Define 2D input and filter\n",
    "image = np.array([[1, 2], [3, 4]])\n",
    "filter_ = np.array([[1, 0], [0, -1]])\n",
    "\n",
    "# Flatten the 2D arrays to 1D\n",
    "image_flattened = image.flatten()\n",
    "filter_flattened = filter_.flatten()\n",
    "\n",
    "# Normalize for amplitude encoding\n",
    "image_norm = image_flattened / np.linalg.norm(image_flattened)\n",
    "filter_norm = filter_flattened / np.linalg.norm(filter_flattened)\n",
    "\n",
    "# Create Quantum Circuit\n",
    "n_qubits = int(np.ceil(np.log2(len(image_flattened))))\n",
    "qc = QuantumCircuit(n_qubits)\n",
    "\n",
    "# Amplitude encoding\n",
    "def amplitude_encoding(qc, data):\n",
    "    for i, amp in enumerate(data):\n",
    "        if amp != 0:\n",
    "            angle = 2 * np.arcsin(np.sqrt(abs(amp)))\n",
    "            qc.ry(angle, i)\n",
    "\n",
    "# Apply QFT\n",
    "def qft(qc, n):\n",
    "    for i in range(n):\n",
    "        qc.h(i)\n",
    "        for j in range(i + 1, n):\n",
    "            qc.cp(np.pi / 2 ** (j - i), j, i)\n",
    "\n",
    "# Apply IQFT\n",
    "def iqft(qc, n):\n",
    "    for i in range(n - 1, -1, -1):\n",
    "        for j in range(i + 1, n):\n",
    "            qc.cp(-np.pi / 2 ** (j - i), j, i)\n",
    "        qc.h(i)\n",
    "\n",
    "# Initialize and encode data\n",
    "amplitude_encoding(qc, image_norm)\n",
    "qft(qc, n_qubits)\n",
    "\n",
    "# Apply filter in Fourier space\n",
    "for i, coeff in enumerate(filter_norm):\n",
    "    if coeff != 0:\n",
    "        qc.ry(2 * np.arcsin(coeff), i)\n",
    "\n",
    "# Inverse QFT\n",
    "iqft(qc, n_qubits)\n",
    "\n",
    "# Simulate and measure\n",
    "simulator = Aer.get_backend('statevector_simulator')\n",
    "result = execute(qc, simulator).result()\n",
    "state = Statevector(result.get_statevector(qc))\n",
    "\n",
    "print(\"Resulting statevector (amplitude encoded convolution result):\")\n",
    "print(state)\n"
   ]
  },
  {
   "cell_type": "code",
   "execution_count": 61,
   "metadata": {},
   "outputs": [
    {
     "name": "stdout",
     "output_type": "stream",
     "text": [
      "Convolution result: [-1. -1. -1.  3.]\n"
     ]
    }
   ],
   "source": [
    "import numpy as np\n",
    "\n",
    "# Original data\n",
    "I = np.array([1, 2, 3, 4])\n",
    "K = np.array([1, 0, 0, -1])\n",
    "\n",
    "# Create masks for non-negative indices\n",
    "mask = np.array([1 if n >= 0 else 0 for n in range(len(I))])\n",
    "\n",
    "# Apply the mask to ignore negative indices\n",
    "I_masked = I * mask\n",
    "K_masked = K * mask\n",
    "\n",
    "# Compute FT and IFT\n",
    "FT_I = np.fft.fft(I_masked)\n",
    "FT_K = np.fft.fft(K_masked)\n",
    "\n",
    "# Convolution using FT\n",
    "result = np.fft.ifft(FT_I * FT_K)\n",
    "\n",
    "print(\"Convolution result:\", result.real)\n"
   ]
  },
  {
   "cell_type": "markdown",
   "metadata": {},
   "source": [
    "# 2D image Convolution 비교"
   ]
  },
  {
   "cell_type": "code",
   "execution_count": 66,
   "metadata": {},
   "outputs": [
    {
     "name": "stdout",
     "output_type": "stream",
     "text": [
      "Original Image:\n",
      "[[1 2]\n",
      " [3 4]]\n",
      "\n",
      "2D Fourier Transform:\n",
      "[[10.+0.j -2.+0.j]\n",
      " [-4.+0.j  0.+0.j]]\n",
      "Original Image:\n",
      "[[ 1  0]\n",
      " [ 0 -1]]\n",
      "\n",
      "2D Fourier Transform:\n",
      "[[0.+0.j 2.+0.j]\n",
      " [2.+0.j 0.+0.j]]\n"
     ]
    }
   ],
   "source": [
    "import numpy as np\n",
    "\n",
    "# Define a 2x2 input matrix\n",
    "image = np.array([[1, 2],\n",
    "                  [3, 4]])\n",
    "filter=  np.array([[1,0],\n",
    "                   [0,-1]])\n",
    "# 2D Fourier Transform using numpy\n",
    "ft_2d = np.fft.fft2(image)\n",
    "ft_filter = np.fft.fft2(filter)\n",
    "\n",
    "# Print the result\n",
    "print(\"Original Image:\")\n",
    "print(image)\n",
    "\n",
    "print(\"\\n2D Fourier Transform:\")\n",
    "print(ft_2d)\n",
    "\n",
    "\n",
    "print(\"Original Image:\")\n",
    "print(filter)\n",
    "\n",
    "print(\"\\n2D Fourier Transform:\")\n",
    "print(ft_filter)"
   ]
  },
  {
   "cell_type": "code",
   "execution_count": 68,
   "metadata": {},
   "outputs": [
    {
     "data": {
      "text/plain": [
       "array([[-3.+0.j, -1.+0.j],\n",
       "       [ 1.+0.j,  3.+0.j]])"
      ]
     },
     "execution_count": 68,
     "metadata": {},
     "output_type": "execute_result"
    }
   ],
   "source": [
    "# Element-wise multiplication in the Fourier domain\n",
    "ft_result = ft_2d * ft_filter\n",
    "\n",
    "# Inverse Fourier Transform to get the result back to spatial domain\n",
    "result = np.fft.ifft2(ft_result)\n",
    "result"
   ]
  },
  {
   "cell_type": "code",
   "execution_count": 71,
   "metadata": {},
   "outputs": [],
   "source": [
    "import numpy as np\n",
    "\n",
    "def circular_convolution_2d(image, kernel):\n",
    "    \"\"\"\n",
    "    2D 순환 컨볼루션을 수행하는 함수\n",
    "    :param image: 2D 입력 이미지 (numpy array)\n",
    "    :param kernel: 2D 커널 (numpy array)\n",
    "    :return: 2D 순환 컨볼루션 결과 (numpy array)\n",
    "    \"\"\"\n",
    "    image_h, image_w = image.shape\n",
    "    kernel_h, kernel_w = kernel.shape\n",
    "\n",
    "    # 결과 배열 초기화\n",
    "    result = np.zeros_like(image, dtype=float)\n",
    "\n",
    "    # 순환적 컨볼루션 수행\n",
    "    for i in range(image_h):\n",
    "        for j in range(image_w):\n",
    "            for m in range(kernel_h):\n",
    "                for n in range(kernel_w):\n",
    "                    # 순환적으로 인덱스 접근\n",
    "                    image_row = (i - m) % image_h\n",
    "                    image_col = (j - n) % image_w\n",
    "                    result[i, j] += image[image_row, image_col] * kernel[m, n]\n",
    "    \n",
    "    return result\n"
   ]
  },
  {
   "cell_type": "code",
   "execution_count": 72,
   "metadata": {},
   "outputs": [
    {
     "data": {
      "text/plain": [
       "array([[-3., -1.],\n",
       "       [ 1.,  3.]])"
      ]
     },
     "execution_count": 72,
     "metadata": {},
     "output_type": "execute_result"
    }
   ],
   "source": [
    "circular_convolution_2d(image, filter)"
   ]
  },
  {
   "cell_type": "markdown",
   "metadata": {},
   "source": [
    "## 2D image convolution with quantum circuit"
   ]
  },
  {
   "cell_type": "code",
   "execution_count": 147,
   "metadata": {},
   "outputs": [
    {
     "data": {
      "text/plain": [
       "<qiskit.circuit.instructionset.InstructionSet at 0x17ffb41a6b0>"
      ]
     },
     "execution_count": 147,
     "metadata": {},
     "output_type": "execute_result"
    }
   ],
   "source": [
    "# 1. 입력 신호 준비: 상태 |ψ⟩ = 1/sqrt(2)(|0⟩ + |1⟩), |φ⟩ = 1/2(sqrt(3)|0⟩ + |1⟩)\n",
    "psi = QuantumCircuit(2)\n",
    "phi = QuantumCircuit(2)\n",
    "\n",
    "# |ψ⟩ 상태\n",
    "initial_psi_state = np.array([1,2,3,4]) * (1/np.sqrt(30))\n",
    "\n",
    "# |φ⟩ 상태\n",
    "initial_phi_state = np.array([1,0,0,-1]) * (1/np.sqrt(2))\n",
    "\n",
    "psi.initialize(initial_psi_state,[0,1])\n",
    "phi.initialize(initial_phi_state, [0, 1])"
   ]
  },
  {
   "cell_type": "code",
   "execution_count": 148,
   "metadata": {},
   "outputs": [],
   "source": [
    "state_psi = Statevector(phi)\n",
    "state_phi = Statevector(psi)"
   ]
  },
  {
   "cell_type": "code",
   "execution_count": 149,
   "metadata": {},
   "outputs": [
    {
     "data": {
      "image/png": "[encoded data removed]",
      "text/plain": [
       "<Figure size 788.961x200.667 with 1 Axes>"
      ]
     },
     "execution_count": 149,
     "metadata": {},
     "output_type": "execute_result"
    }
   ],
   "source": [
    "# 2. QFT 적용\n",
    "qft_circuit = QFT(num_qubits=2).decompose()  # Create and decompose QFT for 2 qubits\n",
    "\n",
    "psi_qft = psi.compose(qft_circuit)\n",
    "phi_qft = phi.compose(qft_circuit)\n",
    "psi_qft.draw('mpl')"
   ]
  },
  {
   "cell_type": "code",
   "execution_count": 150,
   "metadata": {},
   "outputs": [
    {
     "data": {
      "image/png": "[encoded data removed]",
      "text/plain": [
       "<Figure size 788.961x200.667 with 1 Axes>"
      ]
     },
     "execution_count": 150,
     "metadata": {},
     "output_type": "execute_result"
    }
   ],
   "source": [
    "phi_qft.draw('mpl')"
   ]
  },
  {
   "cell_type": "code",
   "execution_count": 151,
   "metadata": {},
   "outputs": [
    {
     "name": "stdout",
     "output_type": "stream",
     "text": [
      "Statevector([ 0.91287093+0.j        , -0.18257419-0.18257419j,\n",
      "             -0.18257419+0.j        , -0.18257419+0.18257419j],\n",
      "            dims=(2, 2))\n",
      "Statevector([2.29934717e-17+0.j        , 3.53553391e-01+0.35355339j,\n",
      "             7.07106781e-01+0.j        , 3.53553391e-01-0.35355339j],\n",
      "            dims=(2, 2))\n"
     ]
    }
   ],
   "source": [
    "state_psi_qft = Statevector(psi_qft)\n",
    "state_phi_qft = Statevector(phi_qft)\n",
    "print(state_psi_qft)\n",
    "print(state_phi_qft)"
   ]
  },
  {
   "cell_type": "code",
   "execution_count": 152,
   "metadata": {},
   "outputs": [
    {
     "name": "stdout",
     "output_type": "stream",
     "text": [
      "Element-wise multiplication result =  \n",
      " Statevector([ 2.09900719e-17+0.j        , -4.46641670e-18-0.12909944j,\n",
      "             -1.29099445e-01+0.j        , -4.46641670e-18+0.12909944j],\n",
      "            dims=(2, 2))\n",
      "Normalized element-wise multiplication =  \n",
      " Statevector([ 9.38704551e-17+0.j        , -1.99744227e-17-0.57735027j,\n",
      "             -5.77350269e-01+0.j        , -1.99744227e-17+0.57735027j],\n",
      "            dims=(2, 2))\n"
     ]
    }
   ],
   "source": [
    "element_wise = state_psi_qft.data * state_phi_qft.data\n",
    "element_wise_state = Statevector(element_wise)\n",
    "print(\"Element-wise multiplication result = \",\"\\n\",element_wise_state)\n",
    "# element-wise 곱셈 결과 크기가 1이 아니므로 정규화\n",
    "element_wise_state_norm = element_wise_state / np.linalg.norm(element_wise_state.data)\n",
    "print(\"Normalized element-wise multiplication = \",\"\\n\",element_wise_state_norm)"
   ]
  },
  {
   "cell_type": "code",
   "execution_count": 153,
   "metadata": {},
   "outputs": [
    {
     "data": {
      "image/png": "[encoded data removed]",
      "text/plain": [
       "<Figure size 788.961x200.667 with 1 Axes>"
      ]
     },
     "execution_count": 153,
     "metadata": {},
     "output_type": "execute_result"
    }
   ],
   "source": [
    "element_wise_qc = QuantumCircuit(2)\n",
    "element_wise_qc.initialize(element_wise_state_norm)\n",
    "iqft_circuit=QFT(num_qubits=2, inverse=True).decompose()\n",
    "element_wise_qc_iqft = element_wise_qc.compose(iqft_circuit)\n",
    "element_wise_qc_iqft.draw('mpl')"
   ]
  },
  {
   "cell_type": "code",
   "execution_count": 158,
   "metadata": {},
   "outputs": [
    {
     "name": "stdout",
     "output_type": "stream",
     "text": [
      "Statevector([-0.28867513-3.67503113e-18j, -0.28867513-3.53525080e-17j,\n",
      "             -0.28867513+3.67503113e-18j,  0.8660254 +3.53525080e-17j],\n",
      "            dims=(2, 2))\n"
     ]
    }
   ],
   "source": [
    "element_wise_qc_iqft_state = Statevector(element_wise_qc_iqft)\n",
    "element_wise_qc_iqft_state"
   ]
  },
  {
   "cell_type": "code",
   "execution_count": 165,
   "metadata": {},
   "outputs": [
    {
     "name": "stdout",
     "output_type": "stream",
     "text": [
      "Frequency domain multiplication =  \n",
      " [-0.12909944-1.64352388e-18j -0.12909944-1.58101222e-17j\n",
      " -0.12909944+1.64352388e-18j  0.38729833+1.58101222e-17j]\n"
     ]
    }
   ],
   "source": [
    "iqft_elementwise_state = Statevector(element_wise_qc_iqft)\n",
    "iqft_elementwise_state = iqft_elementwise_state / np.sqrt(5)\n",
    "print(\"Frequency domain multiplication = \",\"\\n\",iqft_elementwise_state.data)"
   ]
  },
  {
   "cell_type": "code",
   "execution_count": 155,
   "metadata": {},
   "outputs": [
    {
     "data": {
      "text/plain": [
       "array([-0.12909944, -0.12909944, -0.12909944,  0.38729833])"
      ]
     },
     "execution_count": 155,
     "metadata": {},
     "output_type": "execute_result"
    }
   ],
   "source": [
    "circular_convolution(initial_psi_state, initial_phi_state)"
   ]
  },
  {
   "cell_type": "markdown",
   "metadata": {},
   "source": [
    "# Color space QFT"
   ]
  },
  {
   "cell_type": "code",
   "execution_count": 2,
   "metadata": {},
   "outputs": [
    {
     "name": "stderr",
     "output_type": "stream",
     "text": [
      "C:\\Users\\HCI\\AppData\\Local\\Temp\\ipykernel_8340\\2336452204.py:30: DeprecationWarning: Using a qobj for run() is deprecated as of qiskit-aer 0.9.0 and will be removed no sooner than 3 months from that release date. Transpiled circuits should now be passed directly using `backend.run(circuits, **run_options).\n",
      "  job = aer_sim.run(qobj)\n"
     ]
    },
    {
     "data": {
      "text/plain": [
       "{'10': 90999, '00': 98270, '11': 8966, '01': 1765}"
      ]
     },
     "execution_count": 2,
     "metadata": {},
     "output_type": "execute_result"
    }
   ],
   "source": [
    "n = 200\n",
    "k = 100\n",
    "\n",
    "start = time.time()\n",
    "x = np.sin(n*np.pi/510) * np.cos(k * np.pi / (3 *n))\n",
    "y = np.sin(n*np.pi/510) * np.sin(k * np.pi / (3 *n))\n",
    "z = np.cos(n*np.pi/510)\n",
    "phi = round(np.arctan2(y,x),4) / 2\n",
    "theta = round(np.arccos(z),4) / 2\n",
    "Q = np.array([x,y,z])\n",
    "\n",
    "c_reg = QuantumRegister(1,name='c_reg')\n",
    "color = QuantumRegister(1, name='color = [200,100,0]')\n",
    "classic = ClassicalRegister(2, name = 'classical')\n",
    "qc = QuantumCircuit(c_reg,color, classic)\n",
    "qc.h(1)\n",
    "qc.barrier()\n",
    "qc.cry(theta,color,c_reg)\n",
    "qc.barrier()\n",
    "qc.x(1)\n",
    "qc.barrier()\n",
    "qc.cry(phi,color,c_reg)\n",
    "qc.barrier()\n",
    "qc.x(1)\n",
    "qc.measure([0,1],[0,1])\n",
    "\n",
    "aer_sim = Aer.get_backend('aer_simulator')\n",
    "t_qc = transpile(qc, aer_sim)\n",
    "qobj = assemble(t_qc, shots=200000)\n",
    "job = aer_sim.run(qobj)\n",
    "result = job.result()\n",
    "counts = result.get_counts()\n",
    "counts"
   ]
  },
  {
   "cell_type": "code",
   "execution_count": 75,
   "metadata": {},
   "outputs": [
    {
     "name": "stderr",
     "output_type": "stream",
     "text": [
      "C:\\Users\\HCI\\AppData\\Local\\Temp\\ipykernel_8340\\1224835838.py:30: DeprecationWarning: Using a qobj for run() is deprecated as of qiskit-aer 0.9.0 and will be removed no sooner than 3 months from that release date. Transpiled circuits should now be passed directly using `backend.run(circuits, **run_options).\n",
      "  job = aer_sim.run(qobj)\n"
     ]
    },
    {
     "name": "stdout",
     "output_type": "stream",
     "text": [
      "0.40108 s\n",
      "[array([201.36527588, 100.92918952,   0.        ])]\n"
     ]
    },
    {
     "name": "stderr",
     "output_type": "stream",
     "text": [
      "C:\\Users\\HCI\\AppData\\Local\\Temp\\ipykernel_8340\\1224835838.py:102: UserWarning: *c* argument looks like a single numeric RGB or RGBA sequence, which should be avoided as value-mapping will have precedence in case its length matches with *x* & *y*.  Please use the *color* keyword-argument or provide a 2D array with a single row if you intend to specify the same RGB or RGBA value for all points.\n",
      "  ax.scatter(1,1,c=colors, marker='o')\n"
     ]
    },
    {
     "data": {
      "text/plain": [
       "Text(0, 0.5, 'Green')"
      ]
     },
     "execution_count": 75,
     "metadata": {},
     "output_type": "execute_result"
    },
    {
     "data": {
      "image/png": "[encoded data removed]",
      "text/plain": [
       "<Figure size 640x480 with 1 Axes>"
      ]
     },
     "metadata": {},
     "output_type": "display_data"
    }
   ],
   "source": [
    "n = 200\n",
    "k = 100\n",
    "\n",
    "start = time.time()\n",
    "x = np.sin(n*np.pi/510) * np.cos(k * np.pi / (3 *n))\n",
    "y = np.sin(n*np.pi/510) * np.sin(k * np.pi / (3 *n))\n",
    "z = np.cos(n*np.pi/510)\n",
    "phi = round(np.arctan2(y,x),4) / 2\n",
    "theta = round(np.arccos(z),4) / 2\n",
    "Q = np.array([x,y,z])\n",
    "\n",
    "c_reg = QuantumRegister(1,name='c_reg')\n",
    "color = QuantumRegister(1, name='color = [200,100,0]')\n",
    "classic = ClassicalRegister(2, name = 'classical')\n",
    "qc = QuantumCircuit(c_reg,color, classic)\n",
    "qc.h(1)\n",
    "qc.barrier()\n",
    "qc.cry(theta,color,c_reg)\n",
    "qc.barrier()\n",
    "qc.x(1)\n",
    "qc.barrier()\n",
    "qc.cry(phi,color,c_reg)\n",
    "qc.barrier()\n",
    "qc.x(1)\n",
    "qc.measure([0,1],[0,1])\n",
    "\n",
    "aer_sim = Aer.get_backend('aer_simulator')\n",
    "t_qc = transpile(qc, aer_sim)\n",
    "qobj = assemble(t_qc, shots=200000)\n",
    "job = aer_sim.run(qobj)\n",
    "result = job.result()\n",
    "counts = result.get_counts()\n",
    "\n",
    "pixel_color_theta_recon = []\n",
    "pixel_color_phi_recon = []\n",
    "\n",
    "pixel_color_theta = []\n",
    "pixel_color_phi = []\n",
    "\n",
    "for i in range(0, 1):\n",
    "    for item in counts.items():\n",
    "        key = item[0]\n",
    "        amount = item[1]\n",
    "        state = key[-1]\n",
    "        decision = int(key[0])\n",
    "        bin_coord = key[1:-1]\n",
    "\n",
    "        if decision == 1:\n",
    "            pixel_color_theta.append((state, amount))\n",
    "        elif decision == 0:\n",
    "            pixel_color_phi.append((state, amount))\n",
    "\n",
    "# ======================== phi ====================================\n",
    "total_phi_value = 0\n",
    "for state in pixel_color_phi:\n",
    "    state_value = state[1]\n",
    "    total_phi_value += state_value\n",
    "\n",
    "phi_state_0 = []\n",
    "for phi, amount in pixel_color_phi:\n",
    "    if not int(theta):\n",
    "        phi_state_0.append((phi, amount))\n",
    "\n",
    "for i in range(1):\n",
    "    try:\n",
    "        theta = np.arccos((phi_state_0[i][1]/total_phi_value)**(1/2))\n",
    "        pixel_color_phi_recon.append(theta*2)\n",
    "    except ZeroDivisionError:\n",
    "        print(\"ZeroDivisionError\")\n",
    "# ======================== theta ====================================\n",
    "\n",
    "total_theta_value = 0\n",
    "for state in pixel_color_theta:\n",
    "    state_value = state[1]\n",
    "    total_theta_value += state_value\n",
    "\n",
    "theta_state_0 = []\n",
    "for theta, amount in pixel_color_theta:\n",
    "    if not int(theta):\n",
    "        theta_state_0.append((theta, amount))\n",
    "\n",
    "for i in range(1):\n",
    "    try:\n",
    "        theta = np.arccos((theta_state_0[i][1]/total_theta_value)**(1/2))\n",
    "        pixel_color_theta_recon.append(theta*2)\n",
    "    except ZeroDivisionError:\n",
    "        print(\"ZeroDivisionError\")\n",
    "\n",
    "recon_color = []\n",
    "for i in range(len(pixel_color_phi_recon)):\n",
    "    n_recon = pixel_color_theta_recon[i] * 1020 / np.pi\n",
    "    k_recon = pixel_color_phi_recon[i] * 6 * n_recon / np.pi\n",
    "    recon_color.append(np.array([n_recon,k_recon,0]))\n",
    "end = time.time()\n",
    "time_simul = end - start\n",
    "print(f'{time_simul:.5f}', \"s\")\n",
    "print(recon_color)\n",
    "recon_color_index = recon_color[0]\n",
    "fig = plt.figure()\n",
    "ax = fig.add_subplot(111)\n",
    "colors = recon_color_index / 255\n",
    "ax.scatter(1,1,c=colors, marker='o')\n",
    "ax.set_xlabel('Red')\n",
    "ax.set_ylabel('Green')"
   ]
  },
  {
   "cell_type": "code",
   "execution_count": 76,
   "metadata": {},
   "outputs": [
    {
     "name": "stdout",
     "output_type": "stream",
     "text": [
      "error =  [2.727371395714162] time =  0.40108275413513184\n"
     ]
    }
   ],
   "source": [
    "error = []\n",
    "for i in range(1):\n",
    "    del_x = recon_color[0][0] - n\n",
    "    del_y = recon_color[0][1] - k\n",
    "    err = del_x**2+del_y**2\n",
    "    error.append(err)\n",
    "\n",
    "print(\"error = \",error,\"time = \", time_simul)"
   ]
  },
  {
   "cell_type": "code",
   "execution_count": 59,
   "metadata": {},
   "outputs": [],
   "source": [
    "from qiskit_ionq import IonQProvider\n",
    "provider = IonQProvider(\"api\")"
   ]
  },
  {
   "cell_type": "code",
   "execution_count": 80,
   "metadata": {},
   "outputs": [
    {
     "name": "stdout",
     "output_type": "stream",
     "text": [
      "364.76714634895325 s\n",
      "[array([206.00513058, 120.23284475,   0.        ])]\n"
     ]
    },
    {
     "name": "stderr",
     "output_type": "stream",
     "text": [
      "C:\\Users\\HCI\\AppData\\Local\\Temp\\ipykernel_8340\\1410872363.py:100: UserWarning: *c* argument looks like a single numeric RGB or RGBA sequence, which should be avoided as value-mapping will have precedence in case its length matches with *x* & *y*.  Please use the *color* keyword-argument or provide a 2D array with a single row if you intend to specify the same RGB or RGBA value for all points.\n",
      "  ax.scatter(1,1,c=colors_ionq, marker='o')\n"
     ]
    },
    {
     "data": {
      "text/plain": [
       "Text(0, 0.5, 'Green')"
      ]
     },
     "execution_count": 80,
     "metadata": {},
     "output_type": "execute_result"
    },
    {
     "data": {
      "image/png": "[encoded data removed]",
      "text/plain": [
       "<Figure size 640x480 with 1 Axes>"
      ]
     },
     "metadata": {},
     "output_type": "display_data"
    }
   ],
   "source": [
    "n = 200\n",
    "k = 100\n",
    "\n",
    "start = time.time()\n",
    "x = np.sin(n*np.pi/510) * np.cos(k * np.pi / (3 *n))\n",
    "y = np.sin(n*np.pi/510) * np.sin(k * np.pi / (3 *n))\n",
    "z = np.cos(n*np.pi/510)\n",
    "phi = round(np.arctan2(y,x),4) / 2\n",
    "theta = round(np.arccos(z),4) / 2\n",
    "Q = np.array([x,y,z])\n",
    "\n",
    "c_reg = QuantumRegister(1,name='c_reg')\n",
    "color = QuantumRegister(1, name='color = [200,100,0]')\n",
    "classic = ClassicalRegister(2, name = 'classical')\n",
    "qc = QuantumCircuit(c_reg,color, classic)\n",
    "qc.h(1)\n",
    "qc.barrier()\n",
    "qc.cry(theta,color,c_reg)\n",
    "qc.barrier()\n",
    "qc.x(1)\n",
    "qc.barrier()\n",
    "qc.cry(phi,color,c_reg)\n",
    "qc.barrier()\n",
    "qc.x(1)\n",
    "qc.measure([0,1],[0,1])\n",
    "\n",
    "ionq_sim = provider.get_backend(\"ionq_simulator\")\n",
    "t_qc_image = transpile(qc, ionq_sim)\n",
    "job_ionq = ionq_sim.run(t_qc_image, shots=200000, noise_model=\"aria-1\")\n",
    "result_ionq = job_ionq.result()\n",
    "counts_ionq = result_ionq.get_counts()\n",
    "\n",
    "pixel_color_theta_recon = []\n",
    "pixel_color_phi_recon = []\n",
    "\n",
    "pixel_color_theta = []\n",
    "pixel_color_phi = []\n",
    "\n",
    "for i in range(0, 1):\n",
    "    for item in counts_ionq.items():\n",
    "        key = item[0]\n",
    "        amount = item[1]\n",
    "        state = key[-1]\n",
    "        decision = int(key[0])\n",
    "        bin_coord = key[1:-1]\n",
    "\n",
    "        if decision == 1:\n",
    "            pixel_color_theta.append((state, amount))\n",
    "        elif decision == 0:\n",
    "            pixel_color_phi.append((state, amount))\n",
    "\n",
    "# ======================== phi ====================================\n",
    "total_phi_value = 0\n",
    "for state in pixel_color_phi:\n",
    "    state_value = state[1]\n",
    "    total_phi_value += state_value\n",
    "\n",
    "phi_state_0 = []\n",
    "for phi, amount in pixel_color_phi:\n",
    "    if not int(theta):\n",
    "        phi_state_0.append((phi, amount))\n",
    "\n",
    "for i in range(1):\n",
    "    try:\n",
    "        theta = np.arccos((phi_state_0[i][1]/total_phi_value)**(1/2))\n",
    "        pixel_color_phi_recon.append(theta*2)\n",
    "    except ZeroDivisionError:\n",
    "        print(\"ZeroDivisionError\")\n",
    "# ======================== theta ====================================\n",
    "\n",
    "total_theta_value = 0\n",
    "for state in pixel_color_theta:\n",
    "    state_value = state[1]\n",
    "    total_theta_value += state_value\n",
    "\n",
    "theta_state_0 = []\n",
    "for theta, amount in pixel_color_theta:\n",
    "    if not int(theta):\n",
    "        theta_state_0.append((theta, amount))\n",
    "\n",
    "for i in range(1):\n",
    "    try:\n",
    "        theta = np.arccos((theta_state_0[i][1]/total_theta_value)**(1/2))\n",
    "        pixel_color_theta_recon.append(theta*2)\n",
    "    except ZeroDivisionError:\n",
    "        print(\"ZeroDivisionError\")\n",
    "\n",
    "recon_color_ionq = []\n",
    "for i in range(len(pixel_color_phi_recon)):\n",
    "    n = pixel_color_theta_recon[i] * 1020 / np.pi\n",
    "    k = pixel_color_phi_recon[i] * 6 * n / np.pi\n",
    "    recon_color_ionq.append(np.array([n,k,0]))\n",
    "end = time.time()\n",
    "print(f'{end - start}', \"s\")\n",
    "print(recon_color_ionq)\n",
    "recon_color__ionq_index = recon_color_ionq[0]\n",
    "fig = plt.figure()\n",
    "ax = fig.add_subplot(111)\n",
    "colors_ionq = recon_color__ionq_index / 255\n",
    "ax.scatter(1,1,c=colors_ionq, marker='o')\n",
    "ax.set_xlabel('Red')\n",
    "ax.set_ylabel('Green')"
   ]
  },
  {
   "cell_type": "code",
   "execution_count": null,
   "metadata": {},
   "outputs": [
    {
     "name": "stdout",
     "output_type": "stream",
     "text": [
      "error =  [1.651475520773518] time =  0.40108275413513184\n"
     ]
    }
   ],
   "source": [
    "error_ionq = []\n",
    "for i in range(1):\n",
    "    del_x = recon_color_ionq[0][0] - n\n",
    "    del_y = recon_color_ionq[0][1] - k\n",
    "    err_ionq = np.sqrt(del_x**2+del_y**2)\n",
    "    error_ionq.append(err)\n",
    "\n",
    "print(\"error = \",error_ionq,\"time = \", time_simul)"
   ]
  },
  {
   "cell_type": "code",
   "execution_count": null,
   "metadata": {},
   "outputs": [
    {
     "data": {
      "image/png": "[encoded data removed]",
      "text/plain": [
       "<Figure size 700x500 with 1 Axes>"
      ]
     },
     "execution_count": 78,
     "metadata": {},
     "output_type": "execute_result"
    }
   ],
   "source": [
    "plot_histogram(counts_ionq)"
   ]
  },
  {
   "cell_type": "code",
   "execution_count": null,
   "metadata": {},
   "outputs": [],
   "source": [
    "qc.draw('mpl')"
   ]
  },
  {
   "cell_type": "code",
   "execution_count": 26,
   "metadata": {},
   "outputs": [
    {
     "data": {
      "image/png": "[encoded data removed]",
      "text/plain": [
       "<Figure size 700x500 with 1 Axes>"
      ]
     },
     "execution_count": 26,
     "metadata": {},
     "output_type": "execute_result"
    }
   ],
   "source": [
    "plot_histogram(counts)"
   ]
  },
  {
   "cell_type": "code",
   "execution_count": 3,
   "metadata": {},
   "outputs": [
    {
     "name": "stderr",
     "output_type": "stream",
     "text": [
      "C:\\Users\\HCI\\AppData\\Local\\Packages\\PythonSoftwareFoundation.Python.3.11_qbz5n2kfra8p0\\LocalCache\\local-packages\\Python311\\site-packages\\qiskit\\visualization\\circuit\\matplotlib.py:266: FutureWarning: The default matplotlib drawer scheme will be changed to \"iqp\" in a following release. To silence this warning, specify the current default explicitly as style=\"clifford\", or the new default as style=\"iqp\".\n",
      "  self._style, def_font_ratio = load_style(self._style)\n"
     ]
    },
    {
     "data": {
      "image/png": "[encoded data removed]",
      "text/plain": [
       "<Figure size 203.885x451.5 with 1 Axes>"
      ]
     },
     "execution_count": 3,
     "metadata": {},
     "output_type": "execute_result"
    }
   ],
   "source": [
    "from qiskit.circuit.library import QFT\n",
    "\n",
    "qft = QFT(5)\n",
    "qft.draw('mpl')"
   ]
  },
  {
   "cell_type": "code",
   "execution_count": null,
   "metadata": {},
   "outputs": [],
   "source": []
  }
 ],
 "metadata": {
  "kernelspec": {
   "display_name": "Python 3",
   "language": "python",
   "name": "python3"
  },
  "language_info": {
   "codemirror_mode": {
    "name": "ipython",
    "version": 3
   },
   "file_extension": ".py",
   "mimetype": "text/x-python",
   "name": "python",
   "nbconvert_exporter": "python",
   "pygments_lexer": "ipython3",
   "version": "3.11.9"
  }
 },
 "nbformat": 4,
 "nbformat_minor": 2
}
